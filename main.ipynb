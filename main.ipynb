{
 "cells": [
  {
   "cell_type": "markdown",
   "id": "64d7d71b",
   "metadata": {},
   "source": [
    "# Task 2 : Extend your framework with audio-based retrieval systems and with evaluation metrics"
   ]
  },
  {
   "cell_type": "markdown",
   "id": "9ba95925",
   "metadata": {},
   "source": [
    "### Team E\n",
    "\n",
    "**Don't forget to update the version number after making changes** \n",
    "\n",
    "Version 2.0.1\n",
    "Date: 10/12/2023"
   ]
  },
  {
   "cell_type": "markdown",
   "id": "64b150bb",
   "metadata": {},
   "source": [
    "## Import Libraries  "
   ]
  },
  {
   "cell_type": "code",
   "execution_count": 1,
   "id": "c66c1043",
   "metadata": {},
   "outputs": [],
   "source": [
    "import numpy as np\n",
    "import pandas as pd\n",
    "import json "
   ]
  },
  {
   "cell_type": "code",
   "execution_count": 2,
   "id": "f49c5324",
   "metadata": {},
   "outputs": [],
   "source": [
    "# import utility functions \n",
    "from ret import read_data # utility func to load data\n",
    "from ret import get_id_from_info # utility func to return id by entering song's info\n",
    "from ret import display_res # utility func to display results \n",
    "\n",
    "# import the retrieval systems \n",
    "from ret import random_baseline # baseline retrieval system that returns random results \n",
    "from ret import text_based # modularized text based retrieval system\n",
    "from ret import audio_based # modularized audio based retrieval system\n",
    "\n",
    "# import wrapper function to calculate cosine similarity\n",
    "from ret import cos_sim \n",
    "\n",
    "# import evaluation functions \n",
    "from ret import gen_cov_10\n",
    "from ret import ndcg_score"
   ]
  },
  {
   "cell_type": "markdown",
   "id": "7c31eb35",
   "metadata": {},
   "source": [
    "## Load Data"
   ]
  },
  {
   "cell_type": "code",
   "execution_count": 3,
   "id": "ba25d879",
   "metadata": {},
   "outputs": [],
   "source": [
    "\"\"\"\n",
    "Please put data files in \"\"./data/\" before use \n",
    "\"\"\"\n",
    "\n",
    "info = read_data(\"information\")\n",
    "genres = read_data(\"genres\")\n",
    "\n",
    "# text embeddings \n",
    "tfidf = read_data(\"lyrics_tf-idf\")\n",
    "word2vec = read_data(\"lyrics_word2vec\")\n",
    "bert = read_data(\"lyrics_bert\")\n",
    "\n",
    "# audio embeddings\n",
    "blf_correlation = read_data(\"blf_correlation\")\n",
    "ivec256 = read_data(\"ivec256\")\n",
    "mfcc_stats = read_data(\"mfcc_stats\")\n",
    "musicnn = read_data(\"musicnn\")"
   ]
  },
  {
   "cell_type": "code",
   "execution_count": 4,
   "id": "cd93723f",
   "metadata": {},
   "outputs": [],
   "source": [
    "\"\"\"\n",
    "Initialize empty dictionary to store the results\n",
    "\n",
    "User guide:\n",
    "the dictionary has three dimensions:\n",
    "1st dim: query tracks \n",
    "available tags [\"track1\", \"track2\", \"track3\"]\n",
    "2nd dim: retrieval systems \n",
    "available tags [\"base_line\", \"tfidf\", \"word2vec\", \"bert\", \"blf_correlation\", \"ivec256\", \"mfcc_stats\", \"musicnn\"]\n",
    "3rd dim: evaluation metrics and retrieved tracks \n",
    "available tags [\"tracks\", \"precision@10\", \"recall@10\", \"genre_diversity@10\", \"genre_coverage@10\", \"ndcg\"]\n",
    "\n",
    "Example:\n",
    "res[\"track1\"][\"base_line\"][\"tracks\"]\n",
    "\n",
    "\"\"\"\n",
    "with open('result_mod.json', 'r') as f:\n",
    "    res = json.load(f)"
   ]
  },
  {
   "cell_type": "markdown",
   "id": "75df5c4a",
   "metadata": {},
   "source": [
    "## Track 1 \n",
    "\"Love Me\" \"The 1975\""
   ]
  },
  {
   "cell_type": "code",
   "execution_count": 5,
   "id": "f4d0f814",
   "metadata": {},
   "outputs": [],
   "source": [
    "name = \"Love Me\"\n",
    "artist = \"The 1975\"\n",
    "id_track1 = get_id_from_info(name, artist, info)"
   ]
  },
  {
   "cell_type": "code",
   "execution_count": 6,
   "id": "9399b061",
   "metadata": {},
   "outputs": [],
   "source": [
    "# retrieve tracks with random baseline \n",
    "res[\"track1\"][\"base_line\"][\"tracks\"] = random_baseline(id=id_track1, info=info, N=10)"
   ]
  },
  {
   "cell_type": "code",
   "execution_count": 7,
   "id": "ceca9875",
   "metadata": {},
   "outputs": [],
   "source": [
    "# retrieve tracks with text based retrieval systems \n",
    "res[\"track1\"][\"tfidf\"][\"tracks\"] = text_based(id=id_track1, repr=tfidf, N=10, sim_func=cos_sim)\n",
    "res[\"track1\"][\"word2vec\"][\"tracks\"] = text_based(id=id_track1, repr=word2vec, N=10, sim_func=cos_sim)\n",
    "res[\"track1\"][\"bert\"][\"tracks\"] = text_based(id=id_track1, repr=bert, N=10, sim_func=cos_sim)"
   ]
  },
  {
   "cell_type": "code",
   "execution_count": 8,
   "id": "57eb9796",
   "metadata": {},
   "outputs": [],
   "source": [
    "# retrieve tracks with audio based retrieval systems \n",
    "res[\"track1\"][\"blf_correlation\"][\"tracks\"] = audio_based(id=id_track1, repr=blf_correlation, N=10, sim_func=cos_sim)\n",
    "res[\"track1\"][\"ivec256\"][\"tracks\"] = audio_based(id=id_track1, repr=ivec256, N=10, sim_func=cos_sim)\n",
    "res[\"track1\"][\"mfcc_stats\"][\"tracks\"] = audio_based(id=id_track1, repr=mfcc_stats, N=10, sim_func=cos_sim)\n",
    "res[\"track1\"][\"musicnn\"][\"tracks\"] = audio_based(id=id_track1, repr=musicnn, N=10, sim_func=cos_sim)"
   ]
  },
  {
   "cell_type": "code",
   "execution_count": 9,
   "id": "5d5b3c50",
   "metadata": {},
   "outputs": [
    {
     "name": "stdout",
     "output_type": "stream",
     "text": [
      "genre coverage@10: 0.0368705035971223\n",
      "genre coverage@10: 0.02877697841726619\n",
      "genre coverage@10: 0.05485611510791367\n",
      "genre coverage@10: 0.06205035971223022\n",
      "genre coverage@10: 0.03507194244604316\n",
      "genre coverage@10: 0.04136690647482014\n",
      "genre coverage@10: 0.02877697841726619\n",
      "genre coverage@10: 0.03147482014388489\n"
     ]
    }
   ],
   "source": [
    "# calculate genre coverage@10 \n",
    "res[\"track1\"][\"base_line\"][\"genre_coverage@10\"] = gen_cov_10(res[\"track1\"][\"base_line\"][\"tracks\"], genres)\n",
    "genre_cov = res[\"track1\"][\"base_line\"][\"genre_coverage@10\"]\n",
    "print(f\"genre coverage@10: {genre_cov}\")\n",
    "\n",
    "res[\"track1\"][\"tfidf\"][\"genre_coverage@10\"] = gen_cov_10(res[\"track1\"][\"tfidf\"][\"tracks\"], genres)\n",
    "genre_cov = res[\"track1\"][\"tfidf\"][\"genre_coverage@10\"]\n",
    "print(f\"genre coverage@10: {genre_cov}\")\n",
    "\n",
    "res[\"track1\"][\"word2vec\"][\"genre_coverage@10\"] = gen_cov_10(res[\"track1\"][\"word2vec\"][\"tracks\"], genres)\n",
    "genre_cov = res[\"track1\"][\"word2vec\"][\"genre_coverage@10\"]\n",
    "print(f\"genre coverage@10: {genre_cov}\")\n",
    "\n",
    "res[\"track1\"][\"bert\"][\"genre_coverage@10\"] = gen_cov_10(res[\"track1\"][\"bert\"][\"tracks\"], genres)\n",
    "genre_cov = res[\"track1\"][\"bert\"][\"genre_coverage@10\"]\n",
    "print(f\"genre coverage@10: {genre_cov}\")\n",
    "\n",
    "res[\"track1\"][\"blf_correlation\"][\"genre_coverage@10\"] = gen_cov_10(res[\"track1\"][\"blf_correlation\"][\"tracks\"], genres)\n",
    "genre_cov = res[\"track1\"][\"blf_correlation\"][\"genre_coverage@10\"]\n",
    "print(f\"genre coverage@10: {genre_cov}\")\n",
    "\n",
    "res[\"track1\"][\"ivec256\"][\"genre_coverage@10\"] = gen_cov_10(res[\"track1\"][\"ivec256\"][\"tracks\"], genres)\n",
    "genre_cov = res[\"track1\"][\"ivec256\"][\"genre_coverage@10\"]\n",
    "print(f\"genre coverage@10: {genre_cov}\")\n",
    "\n",
    "res[\"track1\"][\"mfcc_stats\"][\"genre_coverage@10\"] = gen_cov_10(res[\"track1\"][\"mfcc_stats\"][\"tracks\"], genres)\n",
    "genre_cov = res[\"track1\"][\"mfcc_stats\"][\"genre_coverage@10\"]\n",
    "print(f\"genre coverage@10: {genre_cov}\")\n",
    "\n",
    "res[\"track1\"][\"musicnn\"][\"genre_coverage@10\"] = gen_cov_10(res[\"track1\"][\"musicnn\"][\"tracks\"], genres)\n",
    "genre_cov = res[\"track1\"][\"musicnn\"][\"genre_coverage@10\"]\n",
    "print(f\"genre coverage@10: {genre_cov}\")"
   ]
  },
  {
   "cell_type": "code",
   "execution_count": 10,
   "id": "a3f7d9f3",
   "metadata": {},
   "outputs": [
    {
     "name": "stdout",
     "output_type": "stream",
     "text": [
      "ndcg: 0.7780261494894914\n",
      "ndcg: 0.8533609296318049\n",
      "ndcg: 0.7312834140611193\n",
      "ndcg: 0.7787358767787625\n",
      "ndcg: 0.8124897916697298\n",
      "ndcg: 0.9197660155454108\n",
      "ndcg: 0.7671841189595985\n",
      "ndcg: 0.9557807003281258\n"
     ]
    }
   ],
   "source": [
    "# calculate ndcg@10 \n",
    "res[\"track1\"][\"base_line\"][\"ndcg\"] = ndcg_score(id_track1, res[\"track1\"][\"base_line\"][\"tracks\"], genres)\n",
    "ndcg = res[\"track1\"][\"base_line\"][\"ndcg\"]\n",
    "print(f\"ndcg: {ndcg}\")\n",
    "\n",
    "res[\"track1\"][\"tfidf\"][\"ndcg\"] = ndcg_score(id_track1, res[\"track1\"][\"tfidf\"][\"tracks\"], genres)\n",
    "ndcg = res[\"track1\"][\"tfidf\"][\"ndcg\"]\n",
    "print(f\"ndcg: {ndcg}\")\n",
    "\n",
    "res[\"track1\"][\"word2vec\"][\"ndcg\"] = ndcg_score(id_track1, res[\"track1\"][\"word2vec\"][\"tracks\"], genres)\n",
    "ndcg = res[\"track1\"][\"word2vec\"][\"ndcg\"]\n",
    "print(f\"ndcg: {ndcg}\")\n",
    "\n",
    "res[\"track1\"][\"bert\"][\"ndcg\"] = ndcg_score(id_track1, res[\"track1\"][\"bert\"][\"tracks\"], genres)\n",
    "ndcg = res[\"track1\"][\"bert\"][\"ndcg\"]\n",
    "print(f\"ndcg: {ndcg}\")\n",
    "\n",
    "res[\"track1\"][\"blf_correlation\"][\"ndcg\"] = ndcg_score(id_track1, res[\"track1\"][\"blf_correlation\"][\"tracks\"], genres)\n",
    "ndcg = res[\"track1\"][\"blf_correlation\"][\"ndcg\"]\n",
    "print(f\"ndcg: {ndcg}\")\n",
    "\n",
    "res[\"track1\"][\"ivec256\"][\"ndcg\"] = ndcg_score(id_track1, res[\"track1\"][\"ivec256\"][\"tracks\"], genres)\n",
    "ndcg = res[\"track1\"][\"ivec256\"][\"ndcg\"]\n",
    "print(f\"ndcg: {ndcg}\")\n",
    "\n",
    "res[\"track1\"][\"mfcc_stats\"][\"ndcg\"] = ndcg_score(id_track1, res[\"track1\"][\"mfcc_stats\"][\"tracks\"], genres)\n",
    "ndcg = res[\"track1\"][\"mfcc_stats\"][\"ndcg\"]\n",
    "print(f\"ndcg: {ndcg}\")\n",
    "\n",
    "res[\"track1\"][\"musicnn\"][\"ndcg\"] = ndcg_score(id_track1, res[\"track1\"][\"musicnn\"][\"tracks\"], genres)\n",
    "ndcg = res[\"track1\"][\"musicnn\"][\"ndcg\"]\n",
    "print(f\"ndcg: {ndcg}\")"
   ]
  },
  {
   "cell_type": "markdown",
   "id": "8a001223",
   "metadata": {},
   "source": [
    "## Track 2 \n",
    "\"One\" \"U2\""
   ]
  },
  {
   "cell_type": "code",
   "execution_count": 11,
   "id": "c2716342",
   "metadata": {},
   "outputs": [],
   "source": [
    "name = 'One'\n",
    "artist = 'U2'\n",
    "id_track2 = get_id_from_info(name, artist, info)"
   ]
  },
  {
   "cell_type": "code",
   "execution_count": 12,
   "id": "157c5166",
   "metadata": {},
   "outputs": [],
   "source": [
    "# retrieve tracks with random baseline \n",
    "res[\"track2\"][\"base_line\"][\"tracks\"] = random_baseline(id=id_track2, info=info, N=10)"
   ]
  },
  {
   "cell_type": "code",
   "execution_count": 13,
   "id": "0f17aca3",
   "metadata": {},
   "outputs": [],
   "source": [
    "# retrieve tracks with text based retrieval systems \n",
    "res[\"track2\"][\"tfidf\"][\"tracks\"] = text_based(id=id_track2, repr=tfidf, N=10, sim_func=cos_sim)\n",
    "res[\"track2\"][\"word2vec\"][\"tracks\"] = text_based(id=id_track2, repr=word2vec, N=10, sim_func=cos_sim)\n",
    "res[\"track2\"][\"bert\"][\"tracks\"] = text_based(id=id_track2, repr=bert, N=10, sim_func=cos_sim)"
   ]
  },
  {
   "cell_type": "code",
   "execution_count": 14,
   "id": "26f68dc2",
   "metadata": {},
   "outputs": [],
   "source": [
    "# retrieve tracks with audio based retrieval systems \n",
    "res[\"track2\"][\"blf_correlation\"][\"tracks\"] = audio_based(id=id_track2, repr=blf_correlation, N=10, sim_func=cos_sim)\n",
    "res[\"track2\"][\"ivec256\"][\"tracks\"] = audio_based(id=id_track2, repr=ivec256, N=10, sim_func=cos_sim)\n",
    "res[\"track2\"][\"mfcc_stats\"][\"tracks\"] = audio_based(id=id_track2, repr=mfcc_stats, N=10, sim_func=cos_sim)\n",
    "res[\"track2\"][\"musicnn\"][\"tracks\"] = audio_based(id=id_track2, repr=musicnn, N=10, sim_func=cos_sim)"
   ]
  },
  {
   "cell_type": "code",
   "execution_count": 15,
   "id": "264ff4c5",
   "metadata": {},
   "outputs": [
    {
     "name": "stdout",
     "output_type": "stream",
     "text": [
      "genre coverage@10: 0.044964028776978415\n",
      "genre coverage@10: 0.039568345323741004\n",
      "genre coverage@10: 0.025179856115107913\n",
      "genre coverage@10: 0.03866906474820144\n",
      "genre coverage@10: 0.04226618705035971\n",
      "genre coverage@10: 0.048561151079136694\n",
      "genre coverage@10: 0.029676258992805755\n",
      "genre coverage@10: 0.02697841726618705\n"
     ]
    }
   ],
   "source": [
    "# calculate genre coverage@10 \n",
    "res[\"track2\"][\"base_line\"][\"genre_coverage@10\"] = gen_cov_10(res[\"track2\"][\"base_line\"][\"tracks\"], genres)\n",
    "genre_cov = res[\"track2\"][\"base_line\"][\"genre_coverage@10\"]\n",
    "print(f\"genre coverage@10: {genre_cov}\")\n",
    "\n",
    "res[\"track2\"][\"tfidf\"][\"genre_coverage@10\"] = gen_cov_10(res[\"track2\"][\"tfidf\"][\"tracks\"], genres)\n",
    "genre_cov = res[\"track2\"][\"tfidf\"][\"genre_coverage@10\"]\n",
    "print(f\"genre coverage@10: {genre_cov}\")\n",
    "\n",
    "res[\"track2\"][\"word2vec\"][\"genre_coverage@10\"] = gen_cov_10(res[\"track2\"][\"word2vec\"][\"tracks\"], genres)\n",
    "genre_cov = res[\"track2\"][\"word2vec\"][\"genre_coverage@10\"]\n",
    "print(f\"genre coverage@10: {genre_cov}\")\n",
    "\n",
    "res[\"track2\"][\"bert\"][\"genre_coverage@10\"] = gen_cov_10(res[\"track2\"][\"bert\"][\"tracks\"], genres)\n",
    "genre_cov = res[\"track2\"][\"bert\"][\"genre_coverage@10\"]\n",
    "print(f\"genre coverage@10: {genre_cov}\")\n",
    "\n",
    "res[\"track2\"][\"blf_correlation\"][\"genre_coverage@10\"] = gen_cov_10(res[\"track2\"][\"blf_correlation\"][\"tracks\"], genres)\n",
    "genre_cov = res[\"track2\"][\"blf_correlation\"][\"genre_coverage@10\"]\n",
    "print(f\"genre coverage@10: {genre_cov}\")\n",
    "\n",
    "res[\"track2\"][\"ivec256\"][\"genre_coverage@10\"] = gen_cov_10(res[\"track2\"][\"ivec256\"][\"tracks\"], genres)\n",
    "genre_cov = res[\"track2\"][\"ivec256\"][\"genre_coverage@10\"]\n",
    "print(f\"genre coverage@10: {genre_cov}\")\n",
    "\n",
    "res[\"track2\"][\"mfcc_stats\"][\"genre_coverage@10\"] = gen_cov_10(res[\"track2\"][\"mfcc_stats\"][\"tracks\"], genres)\n",
    "genre_cov = res[\"track2\"][\"mfcc_stats\"][\"genre_coverage@10\"]\n",
    "print(f\"genre coverage@10: {genre_cov}\")\n",
    "\n",
    "res[\"track2\"][\"musicnn\"][\"genre_coverage@10\"] = gen_cov_10(res[\"track2\"][\"musicnn\"][\"tracks\"], genres)\n",
    "genre_cov = res[\"track2\"][\"musicnn\"][\"genre_coverage@10\"]\n",
    "print(f\"genre coverage@10: {genre_cov}\")"
   ]
  },
  {
   "cell_type": "code",
   "execution_count": 16,
   "id": "6398e207",
   "metadata": {},
   "outputs": [
    {
     "name": "stdout",
     "output_type": "stream",
     "text": [
      "ndcg: 0.7406342703303892\n",
      "ndcg: 0.8575548603251164\n",
      "ndcg: 0.8416277093229729\n",
      "ndcg: 0.8864792868959819\n",
      "ndcg: 0.6380027537644933\n",
      "ndcg: 0.8326053447910284\n",
      "ndcg: 0.7542618308347483\n",
      "ndcg: 0.6318377819897211\n"
     ]
    }
   ],
   "source": [
    "# calculate ndcg@10 \n",
    "res[\"track2\"][\"base_line\"][\"ndcg\"] = ndcg_score(id_track2, res[\"track2\"][\"base_line\"][\"tracks\"], genres)\n",
    "ndcg = res[\"track2\"][\"base_line\"][\"ndcg\"]\n",
    "print(f\"ndcg: {ndcg}\")\n",
    "\n",
    "res[\"track2\"][\"tfidf\"][\"ndcg\"] = ndcg_score(id_track2, res[\"track2\"][\"tfidf\"][\"tracks\"], genres)\n",
    "ndcg = res[\"track2\"][\"tfidf\"][\"ndcg\"]\n",
    "print(f\"ndcg: {ndcg}\")\n",
    "\n",
    "res[\"track2\"][\"word2vec\"][\"ndcg\"] = ndcg_score(id_track2, res[\"track2\"][\"word2vec\"][\"tracks\"], genres)\n",
    "ndcg = res[\"track2\"][\"word2vec\"][\"ndcg\"]\n",
    "print(f\"ndcg: {ndcg}\")\n",
    "\n",
    "res[\"track2\"][\"bert\"][\"ndcg\"] = ndcg_score(id_track2, res[\"track2\"][\"bert\"][\"tracks\"], genres)\n",
    "ndcg = res[\"track2\"][\"bert\"][\"ndcg\"]\n",
    "print(f\"ndcg: {ndcg}\")\n",
    "\n",
    "res[\"track2\"][\"blf_correlation\"][\"ndcg\"] = ndcg_score(id_track2, res[\"track2\"][\"blf_correlation\"][\"tracks\"], genres)\n",
    "ndcg = res[\"track2\"][\"blf_correlation\"][\"ndcg\"]\n",
    "print(f\"ndcg: {ndcg}\")\n",
    "\n",
    "res[\"track2\"][\"ivec256\"][\"ndcg\"] = ndcg_score(id_track2, res[\"track2\"][\"ivec256\"][\"tracks\"], genres)\n",
    "ndcg = res[\"track2\"][\"ivec256\"][\"ndcg\"]\n",
    "print(f\"ndcg: {ndcg}\")\n",
    "\n",
    "res[\"track2\"][\"mfcc_stats\"][\"ndcg\"] = ndcg_score(id_track2, res[\"track2\"][\"mfcc_stats\"][\"tracks\"], genres)\n",
    "ndcg = res[\"track2\"][\"mfcc_stats\"][\"ndcg\"]\n",
    "print(f\"ndcg: {ndcg}\")\n",
    "\n",
    "res[\"track2\"][\"musicnn\"][\"ndcg\"] = ndcg_score(id_track2, res[\"track2\"][\"musicnn\"][\"tracks\"], genres)\n",
    "ndcg = res[\"track2\"][\"musicnn\"][\"ndcg\"]\n",
    "print(f\"ndcg: {ndcg}\")"
   ]
  },
  {
   "cell_type": "markdown",
   "id": "3e611ed8",
   "metadata": {},
   "source": [
    "## Track 3\n",
    "\"Every Christmas\" \"Kelly Clarkson\""
   ]
  },
  {
   "cell_type": "code",
   "execution_count": 17,
   "id": "9ed9a874",
   "metadata": {},
   "outputs": [],
   "source": [
    "name = 'Every Christmas'\n",
    "artist = 'Kelly Clarkson'\n",
    "id_track3 = get_id_from_info(name, artist, info)"
   ]
  },
  {
   "cell_type": "code",
   "execution_count": 18,
   "id": "754881df",
   "metadata": {},
   "outputs": [],
   "source": [
    "# retrieve tracks with random baseline \n",
    "res[\"track3\"][\"base_line\"][\"tracks\"] = random_baseline(id=id_track3, info=info, N=10)"
   ]
  },
  {
   "cell_type": "code",
   "execution_count": 19,
   "id": "0b0dcd98",
   "metadata": {},
   "outputs": [],
   "source": [
    "# retrieve tracks with text based retrieval systems \n",
    "res[\"track3\"][\"tfidf\"][\"tracks\"] = text_based(id=id_track3, repr=tfidf, N=10, sim_func=cos_sim)\n",
    "res[\"track3\"][\"word2vec\"][\"tracks\"] = text_based(id=id_track3, repr=word2vec, N=10, sim_func=cos_sim)\n",
    "res[\"track3\"][\"bert\"][\"tracks\"] = text_based(id=id_track3, repr=bert, N=10, sim_func=cos_sim)"
   ]
  },
  {
   "cell_type": "code",
   "execution_count": 20,
   "id": "14c92d51",
   "metadata": {},
   "outputs": [],
   "source": [
    "# retrieve tracks with audio based retrieval systems \n",
    "res[\"track3\"][\"blf_correlation\"][\"tracks\"] = audio_based(id=id_track3, repr=blf_correlation, N=10, sim_func=cos_sim)\n",
    "res[\"track3\"][\"ivec256\"][\"tracks\"] = audio_based(id=id_track3, repr=ivec256, N=10, sim_func=cos_sim)\n",
    "res[\"track3\"][\"mfcc_stats\"][\"tracks\"] = audio_based(id=id_track3, repr=mfcc_stats, N=10, sim_func=cos_sim)\n",
    "res[\"track3\"][\"musicnn\"][\"tracks\"] = audio_based(id=id_track3, repr=musicnn, N=10, sim_func=cos_sim)"
   ]
  },
  {
   "cell_type": "code",
   "execution_count": 21,
   "id": "6dfbac9c",
   "metadata": {},
   "outputs": [
    {
     "name": "stdout",
     "output_type": "stream",
     "text": [
      "genre coverage@10: 0.052158273381294966\n",
      "genre coverage@10: 0.03507194244604316\n",
      "genre coverage@10: 0.046762589928057555\n",
      "genre coverage@10: 0.03776978417266187\n",
      "genre coverage@10: 0.04946043165467626\n",
      "genre coverage@10: 0.053057553956834536\n",
      "genre coverage@10: 0.05845323741007194\n",
      "genre coverage@10: 0.050359712230215826\n"
     ]
    }
   ],
   "source": [
    "# calculate genre coverage@10 \n",
    "res[\"track3\"][\"base_line\"][\"genre_coverage@10\"] = gen_cov_10(res[\"track3\"][\"base_line\"][\"tracks\"], genres)\n",
    "genre_cov = res[\"track3\"][\"base_line\"][\"genre_coverage@10\"]\n",
    "print(f\"genre coverage@10: {genre_cov}\")\n",
    "\n",
    "res[\"track3\"][\"tfidf\"][\"genre_coverage@10\"] = gen_cov_10(res[\"track3\"][\"tfidf\"][\"tracks\"], genres)\n",
    "genre_cov = res[\"track3\"][\"tfidf\"][\"genre_coverage@10\"]\n",
    "print(f\"genre coverage@10: {genre_cov}\")\n",
    "\n",
    "res[\"track3\"][\"word2vec\"][\"genre_coverage@10\"] = gen_cov_10(res[\"track3\"][\"word2vec\"][\"tracks\"], genres)\n",
    "genre_cov = res[\"track3\"][\"word2vec\"][\"genre_coverage@10\"]\n",
    "print(f\"genre coverage@10: {genre_cov}\")\n",
    "\n",
    "res[\"track3\"][\"bert\"][\"genre_coverage@10\"] = gen_cov_10(res[\"track3\"][\"bert\"][\"tracks\"], genres)\n",
    "genre_cov = res[\"track3\"][\"bert\"][\"genre_coverage@10\"]\n",
    "print(f\"genre coverage@10: {genre_cov}\")\n",
    "\n",
    "res[\"track3\"][\"blf_correlation\"][\"genre_coverage@10\"] = gen_cov_10(res[\"track3\"][\"blf_correlation\"][\"tracks\"], genres)\n",
    "genre_cov = res[\"track3\"][\"blf_correlation\"][\"genre_coverage@10\"]\n",
    "print(f\"genre coverage@10: {genre_cov}\")\n",
    "\n",
    "res[\"track3\"][\"ivec256\"][\"genre_coverage@10\"] = gen_cov_10(res[\"track3\"][\"ivec256\"][\"tracks\"], genres)\n",
    "genre_cov = res[\"track3\"][\"ivec256\"][\"genre_coverage@10\"]\n",
    "print(f\"genre coverage@10: {genre_cov}\")\n",
    "\n",
    "res[\"track3\"][\"mfcc_stats\"][\"genre_coverage@10\"] = gen_cov_10(res[\"track3\"][\"mfcc_stats\"][\"tracks\"], genres)\n",
    "genre_cov = res[\"track3\"][\"mfcc_stats\"][\"genre_coverage@10\"]\n",
    "print(f\"genre coverage@10: {genre_cov}\")\n",
    "\n",
    "res[\"track3\"][\"musicnn\"][\"genre_coverage@10\"] = gen_cov_10(res[\"track3\"][\"musicnn\"][\"tracks\"], genres)\n",
    "genre_cov = res[\"track3\"][\"musicnn\"][\"genre_coverage@10\"]\n",
    "print(f\"genre coverage@10: {genre_cov}\")"
   ]
  },
  {
   "cell_type": "code",
   "execution_count": 22,
   "id": "34dc28b3",
   "metadata": {},
   "outputs": [
    {
     "name": "stdout",
     "output_type": "stream",
     "text": [
      "ndcg: 0.7016928625771411\n",
      "ndcg: 0.9526689104687949\n",
      "ndcg: 0.737118860410854\n",
      "ndcg: 0.7651136184775313\n",
      "ndcg: 0.6133971708972615\n",
      "ndcg: 0.5753602810889091\n",
      "ndcg: 0.570581209044283\n",
      "ndcg: 0.6718499914668519\n"
     ]
    }
   ],
   "source": [
    "# calculate ndcg@10 \n",
    "res[\"track3\"][\"base_line\"][\"ndcg\"] = ndcg_score(id_track3, res[\"track3\"][\"base_line\"][\"tracks\"], genres)\n",
    "ndcg = res[\"track3\"][\"base_line\"][\"ndcg\"]\n",
    "print(f\"ndcg: {ndcg}\")\n",
    "\n",
    "res[\"track3\"][\"tfidf\"][\"ndcg\"] = ndcg_score(id_track3, res[\"track3\"][\"tfidf\"][\"tracks\"], genres)\n",
    "ndcg = res[\"track3\"][\"tfidf\"][\"ndcg\"]\n",
    "print(f\"ndcg: {ndcg}\")\n",
    "\n",
    "res[\"track3\"][\"word2vec\"][\"ndcg\"] = ndcg_score(id_track3, res[\"track3\"][\"word2vec\"][\"tracks\"], genres)\n",
    "ndcg = res[\"track3\"][\"word2vec\"][\"ndcg\"]\n",
    "print(f\"ndcg: {ndcg}\")\n",
    "\n",
    "res[\"track3\"][\"bert\"][\"ndcg\"] = ndcg_score(id_track3, res[\"track3\"][\"bert\"][\"tracks\"], genres)\n",
    "ndcg = res[\"track3\"][\"bert\"][\"ndcg\"]\n",
    "print(f\"ndcg: {ndcg}\")\n",
    "\n",
    "res[\"track3\"][\"blf_correlation\"][\"ndcg\"] = ndcg_score(id_track3, res[\"track3\"][\"blf_correlation\"][\"tracks\"], genres)\n",
    "ndcg = res[\"track3\"][\"blf_correlation\"][\"ndcg\"]\n",
    "print(f\"ndcg: {ndcg}\")\n",
    "\n",
    "res[\"track3\"][\"ivec256\"][\"ndcg\"] = ndcg_score(id_track3, res[\"track3\"][\"ivec256\"][\"tracks\"], genres)\n",
    "ndcg = res[\"track3\"][\"ivec256\"][\"ndcg\"]\n",
    "print(f\"ndcg: {ndcg}\")\n",
    "\n",
    "res[\"track3\"][\"mfcc_stats\"][\"ndcg\"] = ndcg_score(id_track3, res[\"track3\"][\"mfcc_stats\"][\"tracks\"], genres)\n",
    "ndcg = res[\"track3\"][\"mfcc_stats\"][\"ndcg\"]\n",
    "print(f\"ndcg: {ndcg}\")\n",
    "\n",
    "res[\"track3\"][\"musicnn\"][\"ndcg\"] = ndcg_score(id_track3, res[\"track3\"][\"musicnn\"][\"tracks\"], genres)\n",
    "ndcg = res[\"track3\"][\"musicnn\"][\"ndcg\"]\n",
    "print(f\"ndcg: {ndcg}\")"
   ]
  }
 ],
 "metadata": {
  "kernelspec": {
   "display_name": "Python 3 (ipykernel)",
   "language": "python",
   "name": "python3"
  },
  "language_info": {
   "codemirror_mode": {
    "name": "ipython",
    "version": 3
   },
   "file_extension": ".py",
   "mimetype": "text/x-python",
   "name": "python",
   "nbconvert_exporter": "python",
   "pygments_lexer": "ipython3",
   "version": "3.9.7"
  }
 },
 "nbformat": 4,
 "nbformat_minor": 5
}
