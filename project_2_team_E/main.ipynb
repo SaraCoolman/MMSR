{
 "cells": [
  {
   "cell_type": "markdown",
   "id": "e35b9525",
   "metadata": {},
   "source": [
    "# Task 1 Simple Text-based Similarity and Retrieval"
   ]
  },
  {
   "cell_type": "markdown",
   "id": "2006f989",
   "metadata": {},
   "source": [
    "### Team E\n",
    "Version 1.0.1\n",
    "Date: 14/11/2023"
   ]
  },
  {
   "cell_type": "markdown",
   "id": "5c6729f5",
   "metadata": {},
   "source": [
    "## Import Libraries  "
   ]
  },
  {
   "cell_type": "code",
   "execution_count": 1,
   "id": "858c3296",
   "metadata": {},
   "outputs": [],
   "source": [
    "import pandas as pd\n",
    "import numpy as np\n",
    "import statistics as st"
   ]
  },
  {
   "cell_type": "code",
   "execution_count": 17,
   "id": "d6614d1e",
   "metadata": {},
   "outputs": [],
   "source": [
    "from ret import read_data # utility func to load data\n",
    "from ret import get_id_from_info # utility func to return id by entering song's info\n",
    "from ret import display_res # utility func to display results \n",
    "from ret import audio_based # modularized text based retrieval system\n",
    "from ret import random_baseline # base line retrieval system that returns random results \n",
    "from ret import cos_sim # wrapper function to calculate cosine similarity\n",
    "from ret import euc_sim # wrapper function to calculate euclidean similarity \n",
    "from ret import get_info_from_ids #utility func to return infro from id\n",
    "from ret import get_genre_from_ids \n",
    "from ret import get_genre_from_query\n",
    "from ret import calculate_precision \n",
    "from ret import calculate_recall\n",
    "from ret import count_relevant_songs_in_dataset\n",
    "from ret import count_relevant_songs_in_result\n",
    "from ret import average_precision\n",
    "from ret import average_recall"
   ]
  },
  {
   "cell_type": "markdown",
   "id": "28642a4c",
   "metadata": {},
   "source": [
    "## Load Data"
   ]
  },
  {
   "cell_type": "code",
   "execution_count": 18,
   "id": "c76b9179",
   "metadata": {},
   "outputs": [
    {
     "data": {
      "text/html": [
       "<div>\n",
       "<style scoped>\n",
       "    .dataframe tbody tr th:only-of-type {\n",
       "        vertical-align: middle;\n",
       "    }\n",
       "\n",
       "    .dataframe tbody tr th {\n",
       "        vertical-align: top;\n",
       "    }\n",
       "\n",
       "    .dataframe thead th {\n",
       "        text-align: right;\n",
       "    }\n",
       "</style>\n",
       "<table border=\"1\" class=\"dataframe\">\n",
       "  <thead>\n",
       "    <tr style=\"text-align: right;\">\n",
       "      <th></th>\n",
       "      <th>id</th>\n",
       "      <th>genre</th>\n",
       "    </tr>\n",
       "  </thead>\n",
       "  <tbody>\n",
       "    <tr>\n",
       "      <th>0</th>\n",
       "      <td>01Yfj2T3YTwJ1Yfy</td>\n",
       "      <td>['rock', 'christian rock']</td>\n",
       "    </tr>\n",
       "    <tr>\n",
       "      <th>1</th>\n",
       "      <td>01gyRHLquwXDlhkO</td>\n",
       "      <td>['hip hop', 'rap', 'grindcore', 'death metal']</td>\n",
       "    </tr>\n",
       "    <tr>\n",
       "      <th>2</th>\n",
       "      <td>01rMxQv6vhyE1oQX</td>\n",
       "      <td>['rock', 'pop punk']</td>\n",
       "    </tr>\n",
       "    <tr>\n",
       "      <th>3</th>\n",
       "      <td>02RGE9FNH65RtMS7</td>\n",
       "      <td>['trance', 'techno', 'progressive trance']</td>\n",
       "    </tr>\n",
       "    <tr>\n",
       "      <th>4</th>\n",
       "      <td>02ZnlCGZEbkfCDxo</td>\n",
       "      <td>['pop', 'italian pop', 'latin', 'europop', 'am...</td>\n",
       "    </tr>\n",
       "    <tr>\n",
       "      <th>...</th>\n",
       "      <td>...</td>\n",
       "      <td>...</td>\n",
       "    </tr>\n",
       "    <tr>\n",
       "      <th>10089</th>\n",
       "      <td>zyzILCQvVeUFIINi</td>\n",
       "      <td>['rock', 'pop', 'indie rock', 'folk rock', 'ne...</td>\n",
       "    </tr>\n",
       "    <tr>\n",
       "      <th>10090</th>\n",
       "      <td>zzgS4ZqyswamEWNj</td>\n",
       "      <td>['pop', 'rock', 'teen pop', 'soundtrack', 'sin...</td>\n",
       "    </tr>\n",
       "    <tr>\n",
       "      <th>10091</th>\n",
       "      <td>zzoFYDMlqU1X2zz1</td>\n",
       "      <td>['jazz', 'jazz fusion']</td>\n",
       "    </tr>\n",
       "    <tr>\n",
       "      <th>10092</th>\n",
       "      <td>zzpkRCGA5ud8q4mv</td>\n",
       "      <td>['soul', 'blues', 'r b', 'blues rock', 'southe...</td>\n",
       "    </tr>\n",
       "    <tr>\n",
       "      <th>10093</th>\n",
       "      <td>zzx8CWdM7qkxKQpC</td>\n",
       "      <td>['indie rock', 'rock', 'alternative rock', 'in...</td>\n",
       "    </tr>\n",
       "  </tbody>\n",
       "</table>\n",
       "<p>10094 rows × 2 columns</p>\n",
       "</div>"
      ],
      "text/plain": [
       "                     id                                              genre\n",
       "0      01Yfj2T3YTwJ1Yfy                         ['rock', 'christian rock']\n",
       "1      01gyRHLquwXDlhkO     ['hip hop', 'rap', 'grindcore', 'death metal']\n",
       "2      01rMxQv6vhyE1oQX                               ['rock', 'pop punk']\n",
       "3      02RGE9FNH65RtMS7         ['trance', 'techno', 'progressive trance']\n",
       "4      02ZnlCGZEbkfCDxo  ['pop', 'italian pop', 'latin', 'europop', 'am...\n",
       "...                 ...                                                ...\n",
       "10089  zyzILCQvVeUFIINi  ['rock', 'pop', 'indie rock', 'folk rock', 'ne...\n",
       "10090  zzgS4ZqyswamEWNj  ['pop', 'rock', 'teen pop', 'soundtrack', 'sin...\n",
       "10091  zzoFYDMlqU1X2zz1                            ['jazz', 'jazz fusion']\n",
       "10092  zzpkRCGA5ud8q4mv  ['soul', 'blues', 'r b', 'blues rock', 'southe...\n",
       "10093  zzx8CWdM7qkxKQpC  ['indie rock', 'rock', 'alternative rock', 'in...\n",
       "\n",
       "[10094 rows x 2 columns]"
      ]
     },
     "execution_count": 18,
     "metadata": {},
     "output_type": "execute_result"
    }
   ],
   "source": [
    "\"\"\"\n",
    "Please put data files in \"\"./data/\" before use \n",
    "\"\"\"\n",
    "\n",
    "info = read_data(\"information\")\n",
    "mfcc_stats = read_data(\"mfcc_stats\")\n",
    "mfcc_bow = read_data(\"mfcc_bow\")\n",
    "genres = read_data(\"genres\")\n",
    "\n",
    "genres"
   ]
  },
  {
   "cell_type": "code",
   "execution_count": 19,
   "id": "cba2b1ce",
   "metadata": {},
   "outputs": [],
   "source": [
    "dataset_genres = genres.values.tolist()\n"
   ]
  },
  {
   "cell_type": "code",
   "execution_count": 20,
   "id": "b65ca0da",
   "metadata": {},
   "outputs": [],
   "source": [
    "def average_recall(r1, r2, r3):\n",
    "    recalls = [r1,r2,r3]\n",
    "    average_recall = st.mean(recalls)\n",
    "    return average_recall"
   ]
  },
  {
   "cell_type": "markdown",
   "id": "a13ba797",
   "metadata": {},
   "source": [
    "## Dictionary to Store Results "
   ]
  },
  {
   "cell_type": "code",
   "execution_count": 21,
   "id": "f1e1b436",
   "metadata": {},
   "outputs": [],
   "source": [
    "\"\"\"\n",
    "Dict to store results:\n",
    "query format: res[\"trackTRACKNUMBER\"][\"REPRESENTATION\"][\"SIMILARITYFUNCTION\"]\n",
    "sample query: res[\"track1\"][\"tfidf\"][\"cos_sim\"]\n",
    "\n",
    "returns - list[str] \n",
    "list containing ids of a retrieved tracks \n",
    "\n",
    "After running, use display_res(res[\"trackTRACKNUMBER\"][\"REPRESENTATION\"][\"SIMILARITYFUNCTION\"],info) to display results\n",
    "e.g. display_res(res[\"track1\"][\"tfidf\"][\"cos_sim\"],info)\n",
    "\n",
    "\"\"\"\n",
    "res={\n",
    "    \"track1\": \n",
    "    {\n",
    "    \"base_line\": None,\n",
    "    \"mfcc_bow\":\n",
    "    {\n",
    "        \"cos_sim\": None,\n",
    "        \"euc_sim\": None\n",
    "    },\n",
    "    \"mfcc_stats\":\n",
    "    {\n",
    "        \"cos_sim\": None,\n",
    "        \"euc_sim\": None\n",
    "    }\n",
    "    },\n",
    "    \"track2\": \n",
    "    {\n",
    "    \"base_line\": None,\n",
    "    \"mfcc_bow\":\n",
    "    {\n",
    "        \"cos_sim\": None,\n",
    "        \"euc_sim\": None\n",
    "    },\n",
    "    \"mfcc_stats\":\n",
    "    {\n",
    "        \"cos_sim\": None,\n",
    "        \"euc_sim\": None\n",
    "    }\n",
    "    },\n",
    "    \"track3\": \n",
    "    {\n",
    "    \"base_line\": None,\n",
    "    \"mfcc_bow\":\n",
    "    {\n",
    "        \"cos_sim\": None,\n",
    "        \"euc_sim\": None\n",
    "    },\n",
    "    \"mfcc_stats\":\n",
    "    {\n",
    "        \"cos_sim\": None,\n",
    "        \"euc_sim\": None\n",
    "    }\n",
    "    \n",
    "}\n",
    "}"
   ]
  },
  {
   "cell_type": "markdown",
   "id": "1471ae3f",
   "metadata": {},
   "source": [
    "## Track 1 \n",
    "\"Love Me\" \"The 1975\""
   ]
  },
  {
   "cell_type": "code",
   "execution_count": 22,
   "id": "7c602738",
   "metadata": {},
   "outputs": [
    {
     "data": {
      "text/plain": [
       "'rTXO5VOLQGcypcmB'"
      ]
     },
     "execution_count": 22,
     "metadata": {},
     "output_type": "execute_result"
    }
   ],
   "source": [
    "name = \"Love Me\"\n",
    "artist = \"The 1975\"\n",
    "id_track1 = get_id_from_info(name, artist, info)\n",
    "id_track1"
   ]
  },
  {
   "cell_type": "code",
   "execution_count": 23,
   "id": "a6e599d2",
   "metadata": {},
   "outputs": [],
   "source": [
    "res[\"track1\"][\"mfcc_bow\"][\"cos_sim\"] = audio_based(id=id_track1, repr=mfcc_bow, N=10, sim_func=cos_sim)"
   ]
  },
  {
   "cell_type": "code",
   "execution_count": 24,
   "id": "6fd93e5f",
   "metadata": {},
   "outputs": [],
   "source": [
    "res[\"track1\"][\"mfcc_stats\"][\"cos_sim\"] = audio_based(id=id_track1, repr=mfcc_stats, N=10, sim_func=cos_sim)"
   ]
  },
  {
   "cell_type": "code",
   "execution_count": 25,
   "id": "b0016942",
   "metadata": {},
   "outputs": [
    {
     "data": {
      "text/plain": [
       "[('rTXO5VOLQGcypcmB',\n",
       "  \"['pop', 'rock', 'indie pop', 'electropop', 'indie rock', 'funk', 'funk rock']\")]"
      ]
     },
     "execution_count": 25,
     "metadata": {},
     "output_type": "execute_result"
    }
   ],
   "source": [
    "query_genre = get_genre_from_query(id_track1, genres)\n",
    "retrieved_genres = get_genre_from_ids(audio_based(id=id_track1, repr=mfcc_stats, N=10, sim_func=cos_sim), genres)\n",
    "query_genre"
   ]
  },
  {
   "cell_type": "code",
   "execution_count": 26,
   "id": "069367cc",
   "metadata": {},
   "outputs": [
    {
     "data": {
      "text/plain": [
       "0.9"
      ]
     },
     "execution_count": 26,
     "metadata": {},
     "output_type": "execute_result"
    }
   ],
   "source": [
    "p1 = calculate_precision(query_genre, retrieved_genres)\n",
    "p1"
   ]
  },
  {
   "cell_type": "code",
   "execution_count": 27,
   "id": "d030483d",
   "metadata": {},
   "outputs": [
    {
     "data": {
      "text/plain": [
       "[('XXShp3IW8QBbI6AU', \"['soul', 'dance pop']\"),\n",
       " ('pNUcTH7vMfVZ7yYs', \"['pop', 'rain', 'europop']\"),\n",
       " ('51XYIfDaAUgQXb5u',\n",
       "  \"['pop', 'disco', 'europop', 'rock', 'pop rock', 'classic rock', 'dance pop', 'soft rock', 'swedish pop']\"),\n",
       " ('CZuApL1gKvIynMwO',\n",
       "  \"['pop', 'dance pop', 'electropop', 'hip hop', 'anthem']\"),\n",
       " ('CMoYcyU4kMOa3sVY', \"['ukulele', 'rock', 'alternative rock', 'pop rock']\"),\n",
       " ('DCuWGUQBdWiIXEkR', \"['pop', 'latin', 'latin pop', 'teen pop']\"),\n",
       " ('2K0JDCBAlEvRXqrl',\n",
       "  \"['rock', 'alternative rock', 'indie rock', 'experimental', 'dub', 'indietronica', 'alternative dance', 'art pop']\"),\n",
       " ('zLIZEr0zFataPTEI', \"['pop', 'soul', 'singer songwriter', 'r b']\"),\n",
       " ('4RsPg7cccVfV7BWQ', \"['rock', 'jazz pop']\"),\n",
       " ('mxKahNL0muWgijyX',\n",
       "  \"['pop', 'rock', 'pop rock', 'punk', 'alternative rock', 'anarcho punk', 'dance pop', 'alternative dance', 'dance punk', 'europop', 'acid house']\")]"
      ]
     },
     "execution_count": 27,
     "metadata": {},
     "output_type": "execute_result"
    }
   ],
   "source": [
    "retrieved_genres"
   ]
  },
  {
   "cell_type": "code",
   "execution_count": 28,
   "id": "5fa34884",
   "metadata": {},
   "outputs": [
    {
     "data": {
      "text/plain": [
       "7187"
      ]
     },
     "execution_count": 28,
     "metadata": {},
     "output_type": "execute_result"
    }
   ],
   "source": [
    "count_relevant_songs_in_dataset(query_genre,dataset_genres)"
   ]
  },
  {
   "cell_type": "code",
   "execution_count": 29,
   "id": "67312c8d",
   "metadata": {},
   "outputs": [
    {
     "data": {
      "text/plain": [
       "9"
      ]
     },
     "execution_count": 29,
     "metadata": {},
     "output_type": "execute_result"
    }
   ],
   "source": [
    "count_relevant_songs_in_result(query_genre,retrieved_genres)"
   ]
  },
  {
   "cell_type": "code",
   "execution_count": 30,
   "id": "d361f303",
   "metadata": {},
   "outputs": [
    {
     "data": {
      "text/plain": [
       "0.001252261026854042"
      ]
     },
     "execution_count": 30,
     "metadata": {},
     "output_type": "execute_result"
    }
   ],
   "source": [
    "r1 = calculate_recall(query_genre, retrieved_genres, dataset_genres)\n",
    "r1"
   ]
  },
  {
   "cell_type": "code",
   "execution_count": 31,
   "id": "d07a56fc",
   "metadata": {},
   "outputs": [
    {
     "name": "stdout",
     "output_type": "stream",
     "text": [
      "Name: High Horse                               Singer: Kacey Musgraves\n",
      "Name: SPRORGNSM                                Singer: Superorganism\n",
      "Name: Goin' Crazy                              Singer: Ashley Tisdale\n",
      "Name: Do Somethin'                             Singer: Britney Spears\n",
      "Name: Ni**as In Paris                          Singer: Jay-Z & Kanye West\n",
      "Name: Good... Good                             Singer: Belinda\n",
      "Name: Honey, Don't Kill My Vibe                Singer: YESEO\n",
      "Name: Girlfriend                               Singer: Bea Miller\n",
      "Name: Jealousy                                 Singer: Paris Hilton\n",
      "Name: No Time For Love                         Singer: Bryan Adams\n"
     ]
    }
   ],
   "source": [
    "display_res(res[\"track1\"][\"mfcc_bow\"][\"cos_sim\"], info)"
   ]
  },
  {
   "cell_type": "code",
   "execution_count": 32,
   "id": "3df467fe",
   "metadata": {},
   "outputs": [
    {
     "name": "stdout",
     "output_type": "stream",
     "text": [
      "Name: Falling for You                          Singer: Tamia\n",
      "Name: Sunshine on a Rainy Day                  Singer: Emma Bunton\n",
      "Name: Honey, Honey                             Singer: ABBA\n",
      "Name: Do You Wanna Come Over?                  Singer: Britney Spears\n",
      "Name: The Thoughts That Give Me the Creeps     Singer: Hellogoodbye\n",
      "Name: Good... Good                             Singer: Belinda\n",
      "Name: Everybody's Weird                        Singer: dEUS\n",
      "Name: Hesitation                               Singer: Stacie Orrico\n",
      "Name: Fm                                       Singer: Nathan Haines\n",
      "Name: Amnesia                                  Singer: Chumbawamba\n"
     ]
    }
   ],
   "source": [
    "display_res(res[\"track1\"][\"mfcc_stats\"][\"cos_sim\"], info)"
   ]
  },
  {
   "cell_type": "code",
   "execution_count": 33,
   "id": "c4439dcb",
   "metadata": {},
   "outputs": [
    {
     "ename": "TypeError",
     "evalue": "'NoneType' object is not iterable",
     "output_type": "error",
     "traceback": [
      "\u001b[1;31m---------------------------------------------------------------------------\u001b[0m",
      "\u001b[1;31mTypeError\u001b[0m                                 Traceback (most recent call last)",
      "Input \u001b[1;32mIn [33]\u001b[0m, in \u001b[0;36m<cell line: 1>\u001b[1;34m()\u001b[0m\n\u001b[1;32m----> 1\u001b[0m \u001b[43mdisplay_res\u001b[49m\u001b[43m(\u001b[49m\u001b[43mres\u001b[49m\u001b[43m[\u001b[49m\u001b[38;5;124;43m\"\u001b[39;49m\u001b[38;5;124;43mtrack1\u001b[39;49m\u001b[38;5;124;43m\"\u001b[39;49m\u001b[43m]\u001b[49m\u001b[43m[\u001b[49m\u001b[38;5;124;43m\"\u001b[39;49m\u001b[38;5;124;43mbase_line\u001b[39;49m\u001b[38;5;124;43m\"\u001b[39;49m\u001b[43m]\u001b[49m\u001b[43m,\u001b[49m\u001b[43m \u001b[49m\u001b[43minfo\u001b[49m\u001b[43m)\u001b[49m\n",
      "File \u001b[1;32m~\\Documents\\GitHub\\MMSR\\project_2_team_E\\ret.py:47\u001b[0m, in \u001b[0;36mdisplay_res\u001b[1;34m(ids, info)\u001b[0m\n\u001b[0;32m     46\u001b[0m \u001b[38;5;28;01mdef\u001b[39;00m \u001b[38;5;21mdisplay_res\u001b[39m(ids, info):\n\u001b[1;32m---> 47\u001b[0m     trl \u001b[38;5;241m=\u001b[39m \u001b[43mget_info_from_ids\u001b[49m\u001b[43m(\u001b[49m\u001b[43mids\u001b[49m\u001b[43m,\u001b[49m\u001b[43m \u001b[49m\u001b[43minfo\u001b[49m\u001b[43m)\u001b[49m\n\u001b[0;32m     48\u001b[0m     display_track_list(trl)\n",
      "File \u001b[1;32m~\\Documents\\GitHub\\MMSR\\project_2_team_E\\ret.py:59\u001b[0m, in \u001b[0;36mget_info_from_ids\u001b[1;34m(ids, info)\u001b[0m\n\u001b[0;32m     57\u001b[0m \u001b[38;5;28;01mdef\u001b[39;00m \u001b[38;5;21mget_info_from_ids\u001b[39m(ids, info):\n\u001b[0;32m     58\u001b[0m     res \u001b[38;5;241m=\u001b[39m []\n\u001b[1;32m---> 59\u001b[0m     \u001b[38;5;28;01mfor\u001b[39;00m \u001b[38;5;28mid\u001b[39m \u001b[38;5;129;01min\u001b[39;00m ids:\n\u001b[0;32m     60\u001b[0m         entry \u001b[38;5;241m=\u001b[39m info[info[\u001b[38;5;124m'\u001b[39m\u001b[38;5;124mid\u001b[39m\u001b[38;5;124m'\u001b[39m] \u001b[38;5;241m==\u001b[39m \u001b[38;5;28mid\u001b[39m]\n\u001b[0;32m     61\u001b[0m         \u001b[38;5;28;01mif\u001b[39;00m \u001b[38;5;129;01mnot\u001b[39;00m entry\u001b[38;5;241m.\u001b[39mempty:\n",
      "\u001b[1;31mTypeError\u001b[0m: 'NoneType' object is not iterable"
     ]
    }
   ],
   "source": [
    "display_res(res[\"track1\"][\"base_line\"], info)"
   ]
  },
  {
   "cell_type": "markdown",
   "id": "cceb476d",
   "metadata": {},
   "source": [
    "## Track 2 "
   ]
  },
  {
   "cell_type": "markdown",
   "id": "89bd5531",
   "metadata": {},
   "source": [
    "\"One\" \"U2\""
   ]
  },
  {
   "cell_type": "code",
   "execution_count": null,
   "id": "c5011335",
   "metadata": {},
   "outputs": [],
   "source": [
    "name = 'One'\n",
    "artist = 'U2'\n",
    "id_track2 = get_id_from_info(name, artist, info)"
   ]
  },
  {
   "cell_type": "code",
   "execution_count": null,
   "id": "dbf54e26",
   "metadata": {},
   "outputs": [],
   "source": [
    "res[\"track2\"][\"mfcc_bow\"][\"cos_sim\"] = audio_based(id=id_track2, repr=mfcc_bow, N=10, sim_func=cos_sim)"
   ]
  },
  {
   "cell_type": "code",
   "execution_count": null,
   "id": "06eccb80",
   "metadata": {},
   "outputs": [],
   "source": [
    "res[\"track2\"][\"mfcc_stats\"][\"cos_sim\"] = audio_based(id=id_track2, repr=mfcc_stats, N=10, sim_func=cos_sim)"
   ]
  },
  {
   "cell_type": "code",
   "execution_count": null,
   "id": "9e572b6b",
   "metadata": {},
   "outputs": [],
   "source": [
    "query_genre2 = get_genre_from_query(id_track2, genres)\n",
    "retrieved_genres2 = get_genre_from_ids(audio_based(id=id_track2, repr=mfcc_stats, N=10, sim_func=cos_sim), genres)\n",
    "query_genre2"
   ]
  },
  {
   "cell_type": "code",
   "execution_count": null,
   "id": "9ee175f2",
   "metadata": {},
   "outputs": [],
   "source": [
    "retrieved_genres2"
   ]
  },
  {
   "cell_type": "code",
   "execution_count": null,
   "id": "354a13df",
   "metadata": {},
   "outputs": [],
   "source": [
    "p2 = calculate_precision(query_genre2, retrieved_genres2)\n",
    "p2"
   ]
  },
  {
   "cell_type": "code",
   "execution_count": null,
   "id": "42ed5ad8",
   "metadata": {},
   "outputs": [],
   "source": [
    "r2 = calculate_recall(query_genre2, retrieved_genres2, dataset_genres)"
   ]
  },
  {
   "cell_type": "code",
   "execution_count": null,
   "id": "dac129a9",
   "metadata": {},
   "outputs": [],
   "source": [
    "def compute_genre_distribution(query_genre, retrieved_result):\n",
    "    # Get unique genres in the dataset\n",
    "    all_genres = set()\n",
    "\n",
    "    # Update genre distribution based on the query genre\n",
    "    query_genres = set(eval(query_genre[0][1]))\n",
    "    for genre in query_genres:\n",
    "        all_genres.add(genre)\n",
    "\n",
    "    # Initialize genre distribution vector with zeros\n",
    "    genre_distribution = {genre: 0.0 for genre in all_genres}\n",
    "\n",
    "    # Update genre distribution based on the query genre\n",
    "    for genre in query_genres:\n",
    "        genre_distribution[genre] += 1.0\n",
    "\n",
    "    # Update genre distribution based on the retrieved tracks\n",
    "    for _, retrieved_genres_str in retrieved_result:\n",
    "        retrieved_genres = set(eval(retrieved_genres_str))\n",
    "        for genre in retrieved_genres:\n",
    "            if genre in all_genres:\n",
    "                genre_distribution[genre] += 1.0 / len(retrieved_result)\n",
    "\n",
    "    # Convert genre distribution to a list of tuples\n",
    "    genre_distribution_list = [(genre, value) for genre, value in genre_distribution.items()]\n",
    "\n",
    "    return genre_distribution_list"
   ]
  },
  {
   "cell_type": "code",
   "execution_count": null,
   "id": "dee21938",
   "metadata": {},
   "outputs": [],
   "source": [
    "compute_genre_distribution(query_genre2,retrieved_genres2)"
   ]
  },
  {
   "cell_type": "code",
   "execution_count": null,
   "id": "ec188e4a",
   "metadata": {},
   "outputs": [],
   "source": [
    "display_res(res[\"track2\"][\"mfcc_bow\"][\"cos_sim\"], info)"
   ]
  },
  {
   "cell_type": "code",
   "execution_count": null,
   "id": "846cc372",
   "metadata": {},
   "outputs": [],
   "source": [
    "display_res(res[\"track2\"][\"mfcc_stats\"][\"cos_sim\"], info)"
   ]
  },
  {
   "cell_type": "code",
   "execution_count": null,
   "id": "645f0542",
   "metadata": {},
   "outputs": [],
   "source": [
    "display_res(res[\"track2\"][\"base_line\"], info)"
   ]
  },
  {
   "cell_type": "markdown",
   "id": "6bf2e082",
   "metadata": {},
   "source": [
    "## Track 3"
   ]
  },
  {
   "cell_type": "markdown",
   "id": "f5b0ae61",
   "metadata": {},
   "source": [
    "\"Every Christmas\" \"Kelly Clarkson\""
   ]
  },
  {
   "cell_type": "code",
   "execution_count": null,
   "id": "c156fd26",
   "metadata": {},
   "outputs": [],
   "source": [
    "name = 'Every Christmas'\n",
    "artist = 'Kelly Clarkson'\n",
    "id_track3 = get_id_from_info(name, artist, info)"
   ]
  },
  {
   "cell_type": "code",
   "execution_count": null,
   "id": "02a4e6a3",
   "metadata": {},
   "outputs": [],
   "source": [
    "res[\"track3\"][\"mfcc_bow\"][\"cos_sim\"] = audio_based(id=id_track3, repr=mfcc_bow, N=10, sim_func=cos_sim)"
   ]
  },
  {
   "cell_type": "code",
   "execution_count": null,
   "id": "f7d6f91b",
   "metadata": {},
   "outputs": [],
   "source": [
    "res[\"track3\"][\"mfcc_stats\"][\"cos_sim\"] = audio_based(id=id_track3, repr=mfcc_stats, N=10, sim_func=cos_sim)"
   ]
  },
  {
   "cell_type": "code",
   "execution_count": null,
   "id": "26a0404e",
   "metadata": {},
   "outputs": [],
   "source": [
    "res[\"track3\"][\"base_line\"] = random_baseline(id=id_track3, info=info, N=10)"
   ]
  },
  {
   "cell_type": "code",
   "execution_count": null,
   "id": "d29fc1d0",
   "metadata": {},
   "outputs": [],
   "source": [
    "query_genre3 = get_genre_from_query(id_track3, genres)\n",
    "query_genre3"
   ]
  },
  {
   "cell_type": "code",
   "execution_count": null,
   "id": "e767ad59",
   "metadata": {},
   "outputs": [],
   "source": [
    "retrieved_genres3 = get_genre_from_ids(audio_based(id=id_track3, repr=mfcc_stats, N=10, sim_func=cos_sim), genres)\n",
    "retrieved_genres3"
   ]
  },
  {
   "cell_type": "code",
   "execution_count": null,
   "id": "7097ae4f",
   "metadata": {},
   "outputs": [],
   "source": [
    "p3 = calculate_precision(query_genre3, retrieved_genres3)\n",
    "p3"
   ]
  },
  {
   "cell_type": "code",
   "execution_count": null,
   "id": "78c50410",
   "metadata": {},
   "outputs": [],
   "source": [
    "r3 = calculate_recall(query_genre3, retrieved_genres3, dataset_genres)\n",
    "r3"
   ]
  },
  {
   "cell_type": "code",
   "execution_count": null,
   "id": "b45daced",
   "metadata": {},
   "outputs": [],
   "source": [
    "display_res(res[\"track3\"][\"mfcc_bow\"][\"cos_sim\"], info)"
   ]
  },
  {
   "cell_type": "code",
   "execution_count": null,
   "id": "1adde100",
   "metadata": {},
   "outputs": [],
   "source": [
    "display_res(res[\"track3\"][\"mfcc_stats\"][\"cos_sim\"], info)"
   ]
  },
  {
   "cell_type": "code",
   "execution_count": null,
   "id": "25b23996",
   "metadata": {},
   "outputs": [],
   "source": [
    "display_res(res[\"track3\"][\"base_line\"], info)"
   ]
  },
  {
   "cell_type": "markdown",
   "id": "558ad1f3",
   "metadata": {},
   "source": [
    "# Accuracy"
   ]
  },
  {
   "cell_type": "code",
   "execution_count": null,
   "id": "778d212a",
   "metadata": {},
   "outputs": [],
   "source": [
    "average_precision(p1, p2, p3)"
   ]
  },
  {
   "cell_type": "code",
   "execution_count": null,
   "id": "6b071b24",
   "metadata": {},
   "outputs": [],
   "source": [
    "average_recall(r1, r2, r3)"
   ]
  }
 ],
 "metadata": {
  "kernelspec": {
   "display_name": "Python 3 (ipykernel)",
   "language": "python",
   "name": "python3"
  },
  "language_info": {
   "codemirror_mode": {
    "name": "ipython",
    "version": 3
   },
   "file_extension": ".py",
   "mimetype": "text/x-python",
   "name": "python",
   "nbconvert_exporter": "python",
   "pygments_lexer": "ipython3",
   "version": "3.9.12"
  }
 },
 "nbformat": 4,
 "nbformat_minor": 5
}
