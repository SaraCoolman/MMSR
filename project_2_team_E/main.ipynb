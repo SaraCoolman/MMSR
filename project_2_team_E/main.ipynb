{
 "cells": [
  {
   "cell_type": "markdown",
   "id": "e35b9525",
   "metadata": {},
   "source": [
    "# Task 1 Simple Text-based Similarity and Retrieval"
   ]
  },
  {
   "cell_type": "markdown",
   "id": "2006f989",
   "metadata": {},
   "source": [
    "### Team E\n",
    "Version 1.0.1\n",
    "Date: 14/11/2023"
   ]
  },
  {
   "cell_type": "markdown",
   "id": "5c6729f5",
   "metadata": {},
   "source": [
    "## Import Libraries  "
   ]
  },
  {
   "cell_type": "code",
   "execution_count": 1,
   "id": "858c3296",
   "metadata": {},
   "outputs": [],
   "source": [
    "import pandas as pd\n",
    "import numpy as np\n",
    "import statistics as st\n",
    "import math"
   ]
  },
  {
   "cell_type": "code",
   "execution_count": 2,
   "id": "d6614d1e",
   "metadata": {},
   "outputs": [],
   "source": [
    "from ret import read_data # utility func to load data\n",
    "from ret import get_id_from_info # utility func to return id by entering song's info\n",
    "from ret import display_res # utility func to display results \n",
    "from ret import audio_based # modularized audio based retrieval system\n",
    "from ret import text_based # modularized text based retrieval system\n",
    "from ret import random_baseline # base line retrieval system that returns random results \n",
    "from ret import cos_sim # wrapper function to calculate cosine similarity\n",
    "from ret import euc_sim # wrapper function to calculate euclidean similarity \n",
    "from ret import get_info_from_ids #utility func to return infro from id\n",
    "from ret import get_genre_from_ids\n",
    "from ret import get_genre_from_query\n",
    "from ret import calculate_precision \n",
    "from ret import calculate_recall\n",
    "from ret import count_relevant_songs_in_dataset\n",
    "from ret import count_relevant_songs_in_result\n",
    "from ret import average_precision\n",
    "from ret import average_recall\n",
    "from ret import calculate_recall_at_k\n",
    "from ret import calculate_precision_at_k\n",
    "\n",
    "import matplotlib.pyplot as plt\n",
    "from sklearn.metrics import precision_recall_curve\n",
    "from sklearn.metrics import average_precision_score\n",
    "from sklearn.model_selection import train_test_split\n",
    "from sklearn.linear_model import LogisticRegression"
   ]
  },
  {
   "cell_type": "markdown",
   "id": "28642a4c",
   "metadata": {},
   "source": [
    "## Load Data"
   ]
  },
  {
   "cell_type": "code",
   "execution_count": 3,
   "id": "c76b9179",
   "metadata": {},
   "outputs": [
    {
     "data": {
      "text/html": [
       "<div>\n",
       "<style scoped>\n",
       "    .dataframe tbody tr th:only-of-type {\n",
       "        vertical-align: middle;\n",
       "    }\n",
       "\n",
       "    .dataframe tbody tr th {\n",
       "        vertical-align: top;\n",
       "    }\n",
       "\n",
       "    .dataframe thead th {\n",
       "        text-align: right;\n",
       "    }\n",
       "</style>\n",
       "<table border=\"1\" class=\"dataframe\">\n",
       "  <thead>\n",
       "    <tr style=\"text-align: right;\">\n",
       "      <th></th>\n",
       "      <th>id</th>\n",
       "      <th>genre</th>\n",
       "    </tr>\n",
       "  </thead>\n",
       "  <tbody>\n",
       "    <tr>\n",
       "      <th>0</th>\n",
       "      <td>01Yfj2T3YTwJ1Yfy</td>\n",
       "      <td>['rock', 'christian rock']</td>\n",
       "    </tr>\n",
       "    <tr>\n",
       "      <th>1</th>\n",
       "      <td>01gyRHLquwXDlhkO</td>\n",
       "      <td>['hip hop', 'rap', 'grindcore', 'death metal']</td>\n",
       "    </tr>\n",
       "    <tr>\n",
       "      <th>2</th>\n",
       "      <td>01rMxQv6vhyE1oQX</td>\n",
       "      <td>['rock', 'pop punk']</td>\n",
       "    </tr>\n",
       "    <tr>\n",
       "      <th>3</th>\n",
       "      <td>02RGE9FNH65RtMS7</td>\n",
       "      <td>['trance', 'techno', 'progressive trance']</td>\n",
       "    </tr>\n",
       "    <tr>\n",
       "      <th>4</th>\n",
       "      <td>02ZnlCGZEbkfCDxo</td>\n",
       "      <td>['pop', 'italian pop', 'latin', 'europop', 'am...</td>\n",
       "    </tr>\n",
       "    <tr>\n",
       "      <th>...</th>\n",
       "      <td>...</td>\n",
       "      <td>...</td>\n",
       "    </tr>\n",
       "    <tr>\n",
       "      <th>10089</th>\n",
       "      <td>zyzILCQvVeUFIINi</td>\n",
       "      <td>['rock', 'pop', 'indie rock', 'folk rock', 'ne...</td>\n",
       "    </tr>\n",
       "    <tr>\n",
       "      <th>10090</th>\n",
       "      <td>zzgS4ZqyswamEWNj</td>\n",
       "      <td>['pop', 'rock', 'teen pop', 'soundtrack', 'sin...</td>\n",
       "    </tr>\n",
       "    <tr>\n",
       "      <th>10091</th>\n",
       "      <td>zzoFYDMlqU1X2zz1</td>\n",
       "      <td>['jazz', 'jazz fusion']</td>\n",
       "    </tr>\n",
       "    <tr>\n",
       "      <th>10092</th>\n",
       "      <td>zzpkRCGA5ud8q4mv</td>\n",
       "      <td>['soul', 'blues', 'r b', 'blues rock', 'southe...</td>\n",
       "    </tr>\n",
       "    <tr>\n",
       "      <th>10093</th>\n",
       "      <td>zzx8CWdM7qkxKQpC</td>\n",
       "      <td>['indie rock', 'rock', 'alternative rock', 'in...</td>\n",
       "    </tr>\n",
       "  </tbody>\n",
       "</table>\n",
       "<p>10094 rows × 2 columns</p>\n",
       "</div>"
      ],
      "text/plain": [
       "                     id                                              genre\n",
       "0      01Yfj2T3YTwJ1Yfy                         ['rock', 'christian rock']\n",
       "1      01gyRHLquwXDlhkO     ['hip hop', 'rap', 'grindcore', 'death metal']\n",
       "2      01rMxQv6vhyE1oQX                               ['rock', 'pop punk']\n",
       "3      02RGE9FNH65RtMS7         ['trance', 'techno', 'progressive trance']\n",
       "4      02ZnlCGZEbkfCDxo  ['pop', 'italian pop', 'latin', 'europop', 'am...\n",
       "...                 ...                                                ...\n",
       "10089  zyzILCQvVeUFIINi  ['rock', 'pop', 'indie rock', 'folk rock', 'ne...\n",
       "10090  zzgS4ZqyswamEWNj  ['pop', 'rock', 'teen pop', 'soundtrack', 'sin...\n",
       "10091  zzoFYDMlqU1X2zz1                            ['jazz', 'jazz fusion']\n",
       "10092  zzpkRCGA5ud8q4mv  ['soul', 'blues', 'r b', 'blues rock', 'southe...\n",
       "10093  zzx8CWdM7qkxKQpC  ['indie rock', 'rock', 'alternative rock', 'in...\n",
       "\n",
       "[10094 rows x 2 columns]"
      ]
     },
     "execution_count": 3,
     "metadata": {},
     "output_type": "execute_result"
    }
   ],
   "source": [
    "\"\"\"\n",
    "Please put data files in \"\"./data/\" before use \n",
    "\"\"\"\n",
    "\n",
    "info = read_data(\"information\")\n",
    "tfidf = read_data(\"lyrics_tf-idf\")\n",
    "word2vec = read_data(\"lyrics_word2vec\")\n",
    "bert = read_data(\"lyrics_bert\")\n",
    "mfcc_stats = read_data(\"mfcc_stats\")\n",
    "mfcc_bow = read_data(\"mfcc_bow\")\n",
    "blf_correlation = read_data(\"blf_correlation\")\n",
    "ivec256 = read_data(\"ivec256\")\n",
    "musicnn = read_data(\"musicnn\")\n",
    "genres = read_data(\"genres\")\n",
    "\n",
    "genres"
   ]
  },
  {
   "cell_type": "code",
   "execution_count": 4,
   "id": "cba2b1ce",
   "metadata": {},
   "outputs": [],
   "source": [
    "dataset_genres = genres.values.tolist()\n"
   ]
  },
  {
   "cell_type": "markdown",
   "id": "a13ba797",
   "metadata": {},
   "source": [
    "## Dictionary to Store Results "
   ]
  },
  {
   "cell_type": "code",
   "execution_count": 5,
   "id": "f1e1b436",
   "metadata": {},
   "outputs": [],
   "source": [
    "\"\"\"\n",
    "Dict to store results:\n",
    "query format: res[\"trackTRACKNUMBER\"][\"REPRESENTATION\"][\"SIMILARITYFUNCTION\"]\n",
    "sample query: res[\"track1\"][\"tfidf\"][\"cos_sim\"]\n",
    "\n",
    "returns - list[str] \n",
    "list containing ids of a retrieved tracks \n",
    "\n",
    "After running, use display_res(res[\"trackTRACKNUMBER\"][\"REPRESENTATION\"][\"SIMILARITYFUNCTION\"],info) to display results\n",
    "e.g. display_res(res[\"track1\"][\"tfidf\"][\"cos_sim\"],info)\n",
    "\n",
    "\"\"\"\n",
    "res={\n",
    "    \"track1\": \n",
    "    {\n",
    "    \"base_line\": None,\n",
    "    \"mfcc_bow\":\n",
    "    {\n",
    "        \"cos_sim\": None,\n",
    "        \"euc_sim\": None\n",
    "    },\n",
    "    \"mfcc_stats\":\n",
    "    {\n",
    "        \"cos_sim\": None,\n",
    "        \"euc_sim\": None\n",
    "    }\n",
    "    },\n",
    "    \"track2\": \n",
    "    {\n",
    "    \"base_line\": None,\n",
    "    \"mfcc_bow\":\n",
    "    {\n",
    "        \"cos_sim\": None,\n",
    "        \"euc_sim\": None\n",
    "    },\n",
    "    \"mfcc_stats\":\n",
    "    {\n",
    "        \"cos_sim\": None,\n",
    "        \"euc_sim\": None\n",
    "    }\n",
    "    },\n",
    "    \"track3\": \n",
    "    {\n",
    "    \"base_line\": None,\n",
    "    \"mfcc_bow\":\n",
    "    {\n",
    "        \"cos_sim\": None,\n",
    "        \"euc_sim\": None\n",
    "    },\n",
    "    \"mfcc_stats\":\n",
    "    {\n",
    "        \"cos_sim\": None,\n",
    "        \"euc_sim\": None\n",
    "    }\n",
    "    \n",
    "}\n",
    "}"
   ]
  },
  {
   "cell_type": "markdown",
   "id": "1471ae3f",
   "metadata": {},
   "source": [
    "## Track 1 \n",
    "\"Love Me\" \"The 1975\""
   ]
  },
  {
   "cell_type": "code",
   "execution_count": 6,
   "id": "7c602738",
   "metadata": {},
   "outputs": [
    {
     "data": {
      "text/plain": [
       "'rTXO5VOLQGcypcmB'"
      ]
     },
     "execution_count": 6,
     "metadata": {},
     "output_type": "execute_result"
    }
   ],
   "source": [
    "name = \"Love Me\"\n",
    "artist = \"The 1975\"\n",
    "id_track1 = get_id_from_info(name, artist, info)\n",
    "id_track1"
   ]
  },
  {
   "cell_type": "code",
   "execution_count": 7,
   "id": "a6e599d2",
   "metadata": {},
   "outputs": [],
   "source": [
    "res[\"track1\"][\"mfcc_bow\"][\"cos_sim\"] = audio_based(id=id_track1, repr=mfcc_bow, N=10, sim_func=cos_sim)"
   ]
  },
  {
   "cell_type": "code",
   "execution_count": 8,
   "id": "6fd93e5f",
   "metadata": {},
   "outputs": [],
   "source": [
    "res[\"track1\"][\"mfcc_stats\"][\"cos_sim\"] = audio_based(id=id_track1, repr=mfcc_stats, N=10, sim_func=cos_sim)"
   ]
  },
  {
   "cell_type": "code",
   "execution_count": 9,
   "id": "56083c2d",
   "metadata": {},
   "outputs": [
    {
     "data": {
      "text/plain": [
       "[('rTXO5VOLQGcypcmB',\n",
       "  \"['pop', 'rock', 'indie pop', 'electropop', 'indie rock', 'funk', 'funk rock']\")]"
      ]
     },
     "execution_count": 9,
     "metadata": {},
     "output_type": "execute_result"
    }
   ],
   "source": [
    "query_genre1 = get_genre_from_query(id_track1, genres)\n",
    "query_genre1"
   ]
  },
  {
   "cell_type": "code",
   "execution_count": 17,
   "id": "b0016942",
   "metadata": {},
   "outputs": [],
   "source": [
    "#audio based\n",
    "retrieved_genres_mfcc_stats = get_genre_from_ids(audio_based(id=id_track1, repr=mfcc_stats, N=100, sim_func=cos_sim), genres)\n",
    "retrieved_genres_mfcc_stats10 = get_genre_from_ids(audio_based(id=id_track1, repr=mfcc_stats, N=10, sim_func=cos_sim), genres)\n",
    "retrieved_genres_blf_correlation = get_genre_from_ids(audio_based(id=id_track1, repr=blf_correlation, N=10, sim_func=cos_sim), genres)\n",
    "retrieved_genres_ivec256 = get_genre_from_ids(audio_based(id=id_track1, repr=ivec256, N=10, sim_func=cos_sim), genres)\n",
    "retrieved_genres_musicnn = get_genre_from_ids(audio_based(id=id_track1, repr=musicnn, N=10, sim_func=cos_sim), genres)\n",
    "#text based\n",
    "retrieved_genres_tfidf = get_genre_from_ids(text_based(id=id_track1, repr=tfidf, N=10, sim_func=cos_sim), genres)\n",
    "retrieved_genres_word2vec = get_genre_from_ids(text_based(id=id_track1, repr=word2vec, N=10, sim_func=cos_sim),genres)\n",
    "retrieved_genres_bert =  get_genre_from_ids(text_based(id=id_track1, repr=bert, N=10, sim_func=cos_sim),genres)\n",
    "retrieved_genres_random = get_genre_from_ids(random_baseline(id=id_track1, info=info, N=10),genres)"
   ]
  },
  {
   "cell_type": "code",
   "execution_count": 11,
   "id": "069367cc",
   "metadata": {},
   "outputs": [
    {
     "data": {
      "text/plain": [
       "0.76"
      ]
     },
     "execution_count": 11,
     "metadata": {},
     "output_type": "execute_result"
    }
   ],
   "source": [
    "#audio based precision\n",
    "p_mfcc_stats = calculate_precision(query_genre1, retrieved_genres_mfcc_stats)\n",
    "p_blf_correlation = calculate_precision(query_genre1, retrieved_genres_blf_correlation)\n",
    "p_ivec256 = calculate_precision(query_genre1, retrieved_genres_ivec256)\n",
    "p_musicnn = calculate_precision(query_genre1, retrieved_genres_musicnn)\n",
    "#text based precision\n",
    "p_tfidf = calculate_precision(query_genre1, retrieved_genres_tfidf)\n",
    "p_word2vec = calculate_precision(query_genre1, retrieved_genres_word2vec)\n",
    "p_bert = calculate_precision(query_genre1, retrieved_genres_bert)\n",
    "p_random = calculate_precision(query_genre1, retrieved_genres_random)\n",
    "p_mfcc_stats"
   ]
  },
  {
   "cell_type": "code",
   "execution_count": 12,
   "id": "3adfbfb3",
   "metadata": {},
   "outputs": [
    {
     "data": {
      "text/plain": [
       "[('XXShp3IW8QBbI6AU', \"['soul', 'dance pop']\"),\n",
       " ('pNUcTH7vMfVZ7yYs', \"['pop', 'rain', 'europop']\"),\n",
       " ('51XYIfDaAUgQXb5u',\n",
       "  \"['pop', 'disco', 'europop', 'rock', 'pop rock', 'classic rock', 'dance pop', 'soft rock', 'swedish pop']\"),\n",
       " ('CZuApL1gKvIynMwO',\n",
       "  \"['pop', 'dance pop', 'electropop', 'hip hop', 'anthem']\"),\n",
       " ('CMoYcyU4kMOa3sVY', \"['ukulele', 'rock', 'alternative rock', 'pop rock']\"),\n",
       " ('DCuWGUQBdWiIXEkR', \"['pop', 'latin', 'latin pop', 'teen pop']\"),\n",
       " ('2K0JDCBAlEvRXqrl',\n",
       "  \"['rock', 'alternative rock', 'indie rock', 'experimental', 'dub', 'indietronica', 'alternative dance', 'art pop']\"),\n",
       " ('zLIZEr0zFataPTEI', \"['pop', 'soul', 'singer songwriter', 'r b']\"),\n",
       " ('4RsPg7cccVfV7BWQ', \"['rock', 'jazz pop']\"),\n",
       " ('mxKahNL0muWgijyX',\n",
       "  \"['pop', 'rock', 'pop rock', 'punk', 'alternative rock', 'anarcho punk', 'dance pop', 'alternative dance', 'dance punk', 'europop', 'acid house']\"),\n",
       " ('OKtdWyDbmVm4DhBW', \"['pop']\"),\n",
       " ('7Hr7U4NdQ29P8wa8', \"['synthpop', 'electropop', 'pop']\"),\n",
       " ('vAEoypmEu5hAkPyn', \"['synthpop']\"),\n",
       " ('TdMEXg8TO1mKpJmg', \"['rap', 'hip hop']\"),\n",
       " ('VWfQ7NAqjzDbKsIS', \"['power pop']\"),\n",
       " ('nBId14vHwXSQHFQV',\n",
       "  \"['funk', 'dance pop', 'r b', 'pop', 'house', 'nu disco', 'disco', 'acid jazz', 'easy listening', 'lounge', 'chill out']\"),\n",
       " ('Hja23XejDRzCMh8j',\n",
       "  \"['funk', 'disco', 'pop', 'dance pop', 'acid jazz', 'nu disco']\"),\n",
       " ('T6tUJxqWPlUDDsbf',\n",
       "  \"['pop', 'electropop', 'dance pop', 'disco', 'singer songwriter', 'emo', 'indie pop', 'r b', 'easy listening', 'lounge', 'beats', 'alternative pop', 'europop']\"),\n",
       " ('vMXVEMG0TqaVu8H2', \"['pop']\"),\n",
       " ('lwCTOXXxd3B3sx6h', \"['singer songwriter', 'jazz pop']\"),\n",
       " ('A9ihY5XGgH5MxQOH', \"['rap', 'hip hop', 'pop']\"),\n",
       " ('hCOrhSz5KM5xUNGU', \"['hard rock', 'pop punk']\"),\n",
       " ('h0ICQ49mSTK9IBl6',\n",
       "  \"['pop', 'electronica', 'dance pop', 'ambient', 'disco', 'pop rock', 'easy listening', 'quiet storm', 'lounge', 'chill out']\"),\n",
       " ('mNf1CvP8VBVm6RxG',\n",
       "  \"['reggae', 'dancehall', 'hip hop', 'roots reggae', 'rap', 'jazz', 'dub']\"),\n",
       " ('PBFAxExx5KTjrNWE', \"['rap']\"),\n",
       " ('3A9xFYR9P4g77E8P', \"['pop']\"),\n",
       " ('wfqqGorkznI1BXQo',\n",
       "  \"['pop', 'rap', 'pop rock', 'dance pop', 'pop rap', 'teen pop']\"),\n",
       " ('GRlCQYNd17jNgAtf',\n",
       "  \"['pop', 'teen pop', 'electropop', 'world', 'dance pop', 'nu disco']\"),\n",
       " ('0MhSVMMC2sqqHQIa',\n",
       "  \"['rock', 'indie rock', 'britpop', 'alternative rock', 'indie pop', 'garage pop', 'singer songwriter', 'pop', 'folk', 'experimental', 'lo fi', 'garage rock revival', 'british indie rock']\"),\n",
       " ('8GmcQtqYZKj7TSFx', \"['pop', 'soul']\"),\n",
       " ('aYfhVF6MlwbLPm0i',\n",
       "  \"['pop', 'hip hop', 'r b', 'soul', 'reggae', 'dancehall', 'dance pop']\"),\n",
       " ('wvrZy2Xgc4Nf0VzZ',\n",
       "  \"['pop', 'soul', 'rock', 'hard rock', 'singer songwriter', 'pop rock', 'dance pop']\"),\n",
       " ('qPR0RhH84VAcLrN4', \"['pop']\"),\n",
       " ('p85GgM9IeRvZgD3B', \"['disco', 'pop']\"),\n",
       " ('1VGASJntDh6QN0sA', \"['black metal']\"),\n",
       " ('LQeXBuOX2R23RjRA', \"['eurovision']\"),\n",
       " ('3G6YdquxUGPnpubQ',\n",
       "  \"['pop', 'rock', 'alternative rock', 'indie pop', 'indie rock']\"),\n",
       " ('vH24ejuJAwTYfa0e',\n",
       "  \"['pop', 'dance pop', 'soul', 'r b', 'beats', 'hip hop', 'singer songwriter', 'easy listening']\"),\n",
       " ('1PYQMBk8LERTncVr', \"['pop']\"),\n",
       " ('jj55fEqkySIv4qy1', \"['hip hop', 'trap', 'rap', 'horrorcore']\"),\n",
       " ('guEE7A3XUyFEyJVt', \"['pop', 'teen pop', 'disney', 'dance pop']\"),\n",
       " ('svsII9fIPSldaswA',\n",
       "  \"['disco', 'pop', 'funk', 'easy listening', 'electropop', 'dance pop', 'world', 'synthpop', 'edm', 'nu disco']\"),\n",
       " ('su2dj3wvaEiD2dQl', \"['k pop']\"),\n",
       " ('dMs7t7npVoXB1GUW',\n",
       "  \"['pop', 'soundtrack', 'electronica', 'dance pop', 'techno', 'electropop', 'rock', 'disco', 'synthpop', 'pop rock', 'electro']\"),\n",
       " ('DMSPSXCv8UN5942f',\n",
       "  \"['pop', 'electronica', 'synthpop', 'indie pop', 'electropop', 'easy listening', 'electro', 'rock', 'ambient', 'synthesizer', 'indietronica', 'singer songwriter', 'soul', 'emo', 'indie rock', 'soft rock', 'sleep', 'jazz', 'hip hop', 'power pop']\"),\n",
       " ('5LzHvHAIwDeNxBA0',\n",
       "  \"['synthpop', 'pop', 'indie pop', 'indietronica', 'trip hop', 'chillwave', 'glitch pop']\"),\n",
       " ('Hh5SXSJZKYHThZL1', \"['electropop']\"),\n",
       " ('hAkFH1cGy1fLhCUr', \"['funk', 'pop', 'progressive rock', 'techno']\"),\n",
       " ('4obYDGdz4roNJU9f',\n",
       "  \"['soundtrack', 'pop', 'electropop', 'singer songwriter', 'electronica', 'experimental', 'electro', 'techno', 'synthpop', 'alternative pop', 'black metal', 'rock', 'power pop', 'new wave', 'post punk', 'dance pop', 'gothic rock', 'harp', 'estonian pop']\"),\n",
       " ('gL8FeZidAOCmW33m', \"['pop']\"),\n",
       " ('6gFXw2OIl2VYg49K', \"['soundtrack']\"),\n",
       " ('MzFlDNw7zSvhZ7pM', \"['pop', 'teen pop']\"),\n",
       " ('PwTLKKsM34cgBDDm', \"['pop punk', 'rap rock']\"),\n",
       " ('1f13MAfipcAOI0Ju', \"['k pop', 'boy band', 'korean pop']\"),\n",
       " ('bHgc75T9woUNcCoI',\n",
       "  \"['pop', 'rock', 'dance pop', 'electro', 'pop rock', 'disco', 'electropop', 'punk', 'emo', 'indie rock', 'rock and roll', 'teen pop']\"),\n",
       " ('IYECU4Jz8rtUgT5M', \"['electropop']\"),\n",
       " ('sDuizta8HiGTaZHn', \"['pop']\"),\n",
       " ('ES5ODoVy4wfszATB', \"['pop', 'dance pop', 'house', 'vocal house']\"),\n",
       " ('dOt3O7LE5eUSI0HX', \"['soul']\"),\n",
       " ('KO5bV2cN61zILYqO',\n",
       "  \"['pop', 'hip hop', 'r b', 'reggae', 'electropop', 'soul', 'dancehall']\"),\n",
       " ('OX2WoOD3TmrLjBkI',\n",
       "  \"['experimental', 'funk', 'lounge', 'outsider', 'avant garde', 'rock and roll', 'ccm']\"),\n",
       " ('HbuQKtQ5NzKDxHLb', \"['hip hop', 'rap']\"),\n",
       " ('PYWnbVVEBUnY8FcW',\n",
       "  \"['disney', 'pop', 'rock', 'pop rock', 'singer songwriter', 'soul', 'country', 'pop punk', 'teen pop']\"),\n",
       " ('dZG90iuYYFIuksa2', \"['rock', 'rock and roll']\"),\n",
       " ('0OuXKk7qlgvo6egK', \"['indie rock']\"),\n",
       " ('n4E45yFs24YDacWB', \"['r b']\"),\n",
       " ('r1PxPW8seHeCOY3c',\n",
       "  \"['rap', 'hip hop', 'comedy', 'reggae', 'pop', 'rock', 'downtempo', 'bounce', 'novelty', 'comedy rap']\"),\n",
       " ('dN6dZS8y3P95uzVl', \"['pop']\"),\n",
       " ('xkPTvAc1BtmgvjfM', \"['reggae']\"),\n",
       " ('QQ48tJRRnT53Qx6c', \"['punk', 'rock', 'pop punk', 'pop']\"),\n",
       " ('1OAeEHzoQXvoQOOz', \"['pop', 'singer songwriter', 'doo wop', 'teen pop']\"),\n",
       " ('PmybuO5TsGds5bVu', \"['hip hop', 'pop', 'rap', 'brazilian hip hop']\"),\n",
       " ('QLrf6bNhbdCGxry7',\n",
       "  \"['metalcore', 'progressive metalcore', 'djent', 'hardcore', 'ambient', 'melodic metalcore', 'metal', 'beatdown']\"),\n",
       " ('Cd9coQC9xk9saea7', \"['pop', 'synthpop', 'emo', 'new wave', 'britpop']\"),\n",
       " ('KTqiwp3D2UyBbnqy',\n",
       "  \"['electropop', 'indie pop', 'new wave', 'synthpop', 'alternative pop', 'art pop']\"),\n",
       " ('boklYP26HbQAPVAD',\n",
       "  \"['rock', 'indie rock', 'britpop', 'alternative rock', 'garage rock', 'punk', 'garage rock revival', 'folk', 'post punk', 'acoustic rock']\"),\n",
       " ('MBeRy8SFL6wOGR4i',\n",
       "  \"['pop', 'house', 'disco', 'electropop', 'soul', 'singer songwriter', 'dance pop', 'rave']\"),\n",
       " ('VWi0TDOiDugPTEhA', \"['hip hop', 'pop']\"),\n",
       " ('wzG5e1s4l2nlFStJ', \"['eurovision', 'pop', 'dubstep']\"),\n",
       " ('3SdG6bPltgrwbEQk',\n",
       "  \"['experimental', 'electronica', 'rock', 'dream pop', 'pop', 'ambient', 'indie pop', 'britpop', 'ambient pop', 'psychedelic pop', 'indietronica', 'hypnosis', 'neo psychedelic']\"),\n",
       " ('xHSvLWaBLBPPjTC3', \"['schlager', 'eurovision', 'discofox', 'pop']\"),\n",
       " ('PIBoyu8yCp86gk15',\n",
       "  \"['rock', 'alternative rock', 'classic rock', 'post punk']\"),\n",
       " ('YUSRhczUwZqFT54S',\n",
       "  \"['pop', 'country', 'folk', 'dance pop', 'country pop']\"),\n",
       " ('xUsrGbjirGDzbtdB',\n",
       "  \"['soul', 'easy listening', 'pop', 'motown', 'jazz funk']\"),\n",
       " ('AIMISCWIplym2JNG', \"['j pop']\"),\n",
       " ('Tgd6rArJj9imIA25',\n",
       "  \"['pop', 'teen pop', 'dance pop', 'rock', 'disco', 'electronica', 'jazz', 'punk', 'emo', 'pop rock', 'bubblegum pop']\"),\n",
       " ('0FfoKa4zHXdvTsgU', \"['rock', 'indie pop', 'indie rock']\"),\n",
       " ('DQ2wK0gqtQdoMK9F',\n",
       "  \"['progressive rock', 'rock', 'experimental', 'psychedelic rock', 'art rock', 'progressive metal', 'experimental rock', 'space rock', 'post rock', 'psychedelic space rock', 'alternative rock', 'ambient', 'hard rock', 'piano rock', 'pop rock']\"),\n",
       " ('3ThxO5Q3A29V2vnd', \"['hip hop', 'grime']\"),\n",
       " ('u5u3QYyowXHu5NvO',\n",
       "  \"['synthpop', 'experimental', 'industrial', 'electro', 'psychedelic pop', 'indietronica', 'dream pop', 'electronica', 'ambient', 'downtempo', 'trip hop', 'k pop', 'dark ambient', 'art pop']\"),\n",
       " ('8NaGA4Mmu7LhuB5m',\n",
       "  \"['pop', 'latin', 'r b', 'hip hop', 'latin pop', 'rock', 'soul', 'dance pop']\"),\n",
       " ('nB0Z9UDydK0L8xtl',\n",
       "  \"['electropop', 'pop', 'synthpop', 'indie pop', 'dance pop', 'indietronica', 'dream pop', 'glitch pop']\"),\n",
       " ('pfbZuYk5eygVYcBs',\n",
       "  \"['hip hop', 'rap', 'comedy', 'horrorcore', 'hardcore hip hop', 'detroit hip hop']\"),\n",
       " ('aLnyNXmTOS4FPRqO',\n",
       "  \"['progressive rock', 'rock', 'experimental', 'progressive metal', 'psychedelic rock', 'space rock', 'metal', 'experimental rock', 'ambient', 'noise rock', 'shoegaze', 'art rock', 'alternative rock', 'post rock', 'thrash metal', 'atmosphere']\"),\n",
       " ('8WVV9tfgSQHVDehI',\n",
       "  \"['new wave', 'rock', 'classic rock', 'pop', 'post punk', 'punk', 'alternative rock', 'reggae rock', 'singer songwriter', 'ska']\"),\n",
       " ('7QgcMKJoKBlXzX2n',\n",
       "  \"['rock', 'punk', 'pop punk', 'alternative rock', 'pop rock', 'pop', 'emo', 'indie rock', 'hard rock', 'metal', 'alternative metal']\"),\n",
       " ('Bu1GIjPq54fw5CNZ',\n",
       "  \"['pop', 'new jack swing', 'rock', 'funk', 'r b', 'soul', 'singer songwriter', 'dance pop', 'pop rock', 'disco', 'hip hop', 'rhythm and blues', 'anthem']\"),\n",
       " ('PZ5hPyNGGjcUNwK5',\n",
       "  \"['pop', 'soul', 'new jack swing', 'r b', 'rhythm and blues', 'dance pop', 'funk', 'teen pop', 'disco', 'hip hop', 'soft rock', 'synthesizer']\"),\n",
       " ('zRUgwsyOq5OwMPSM', \"['pop', 'soul', 'britpop']\"),\n",
       " ('8wCIyJeefmI9DZTF', \"['power pop', 'indie rock', 'electronic rock']\")]"
      ]
     },
     "execution_count": 12,
     "metadata": {},
     "output_type": "execute_result"
    }
   ],
   "source": [
    "retrieved_genres_mfcc_stats"
   ]
  },
  {
   "cell_type": "code",
   "execution_count": 13,
   "id": "45b921fc",
   "metadata": {},
   "outputs": [],
   "source": [
    "#calculate recall and precision for different k values\n",
    "\n",
    "precision10 = calculate_precision(query_genre1,get_genre_from_ids(audio_based(id=id_track1, repr=mfcc_stats, N=10, sim_func=cos_sim), genres))\n",
    "precision20 = calculate_precision(query_genre1,get_genre_from_ids(audio_based(id=id_track1, repr=mfcc_stats, N=20, sim_func=cos_sim), genres))\n",
    "precision30 = calculate_precision(query_genre1,get_genre_from_ids(audio_based(id=id_track1, repr=mfcc_stats, N=30, sim_func=cos_sim), genres))\n",
    "\n",
    "retrieved_genres_10 = get_genre_from_ids(audio_based(id=id_track1, repr=mfcc_stats, N=10, sim_func=cos_sim), genres)\n",
    "retrieved_genres_20 = get_genre_from_ids(audio_based(id=id_track1, repr=mfcc_stats, N=20, sim_func=cos_sim), genres)\n",
    "retrieved_genres_30 = get_genre_from_ids(audio_based(id=id_track1, repr=mfcc_stats, N=30, sim_func=cos_sim), genres)\n",
    "\n",
    "recall10 = calculate_recall(query_genre1, retrieved_genres_10, dataset_genres)\n",
    "recall20 = calculate_recall(query_genre1, retrieved_genres_20, dataset_genres)\n",
    "recall30 = calculate_recall(query_genre1, retrieved_genres_30, dataset_genres)"
   ]
  },
  {
   "cell_type": "code",
   "execution_count": 14,
   "id": "e03a413c",
   "metadata": {},
   "outputs": [],
   "source": [
    "precision_values = [precision10, precision20, precision30]\n",
    "recall_values = [recall10, recall20, recall30]"
   ]
  },
  {
   "cell_type": "code",
   "execution_count": 19,
   "id": "b59dda3e",
   "metadata": {},
   "outputs": [
    {
     "data": {
      "text/plain": [
       "0.5"
      ]
     },
     "execution_count": 19,
     "metadata": {},
     "output_type": "execute_result"
    }
   ],
   "source": [
    "calculate_precision_at_k(query_genre1, retrieved_genres_mfcc_stats, 10)"
   ]
  },
  {
   "cell_type": "code",
   "execution_count": 20,
   "id": "790b2def",
   "metadata": {},
   "outputs": [
    {
     "data": {
      "text/plain": [
       "0.9"
      ]
     },
     "execution_count": 20,
     "metadata": {},
     "output_type": "execute_result"
    }
   ],
   "source": [
    "calculate_precision(query_genre1,retrieved_genres_mfcc_stats10)"
   ]
  },
  {
   "cell_type": "code",
   "execution_count": 16,
   "id": "9977dfbb",
   "metadata": {},
   "outputs": [
    {
     "data": {
      "text/plain": [
       "0.001252261026854042"
      ]
     },
     "execution_count": 16,
     "metadata": {},
     "output_type": "execute_result"
    }
   ],
   "source": [
    "calculate_recall_at_k(query_genre1, retrieved_genres_mfcc_stats, dataset_genres, 10)"
   ]
  },
  {
   "cell_type": "code",
   "execution_count": null,
   "id": "9f892fc2",
   "metadata": {},
   "outputs": [],
   "source": [
    "recall_values = [recall10, recall20, recall30]\n",
    "recall_values"
   ]
  },
  {
   "cell_type": "code",
   "execution_count": 31,
   "id": "5fa34884",
   "metadata": {},
   "outputs": [
    {
     "data": {
      "text/plain": [
       "4989"
      ]
     },
     "execution_count": 31,
     "metadata": {},
     "output_type": "execute_result"
    }
   ],
   "source": [
    "count_relevant_songs_in_dataset(query_genre1,dataset_genres)"
   ]
  },
  {
   "cell_type": "code",
   "execution_count": null,
   "id": "03ed8230",
   "metadata": {},
   "outputs": [],
   "source": [
    "precision_recall(id_track1, mfcc_stats,genres,cos_sim, 10)"
   ]
  },
  {
   "cell_type": "code",
   "execution_count": 32,
   "id": "67312c8d",
   "metadata": {},
   "outputs": [
    {
     "data": {
      "text/plain": [
       "6"
      ]
     },
     "execution_count": 32,
     "metadata": {},
     "output_type": "execute_result"
    }
   ],
   "source": [
    "count_relevant_songs_in_result(query_genre1,retrieved_genres_mfcc_stats)"
   ]
  },
  {
   "cell_type": "code",
   "execution_count": 26,
   "id": "d361f303",
   "metadata": {},
   "outputs": [],
   "source": [
    "#audio based recall\n",
    "r_mfcc_stats = calculate_recall(query_genre1, retrieved_genres_mfcc_stats, dataset_genres)\n",
    "r_blf_correlation = calculate_recall(query_genre1, retrieved_genres_blf_correlation, dataset_genres)\n",
    "r_ivec256 = calculate_recall(query_genre1, retrieved_genres_ivec256, dataset_genres)\n",
    "r_musicnn = calculate_recall(query_genre1, retrieved_genres_musicnn, dataset_genres)\n",
    "#text based recall\n",
    "r_tfidf = calculate_recall(query_genre1, retrieved_genres_tfidf, dataset_genres)\n",
    "r_word2vec = calculate_recall(query_genre1, retrieved_genres_word2vec, dataset_genres)\n",
    "r_bert = calculate_recall(query_genre1,  retrieved_genres_bert, dataset_genres)\n",
    "r_random = calculate_recall(query_genre1, retrieved_genres_random, dataset_genres)"
   ]
  },
  {
   "cell_type": "code",
   "execution_count": 27,
   "id": "d07a56fc",
   "metadata": {},
   "outputs": [
    {
     "name": "stdout",
     "output_type": "stream",
     "text": [
      "Name: Animals                                  Singer: Ice Nine Kills\n",
      "Name: Sleepwalk Capsules                       Singer: At the Drive-In\n",
      "Name: Caveman                                  Singer: Angra\n",
      "Name: Light In The Cave                        Singer: I See Stars\n",
      "Name: You Better Pray                          Singer: The Red Jumpsuit Apparatus\n",
      "Name: Drown Me Out                             Singer: Andy Black\n",
      "Name: Pain                                     Singer: Of Mice & Men\n",
      "Name: Thrown Into the Fire                     Singer: Trivium\n",
      "Name: Act of Desperation                       Singer: Amaranthe\n",
      "Name: Supersonic                               Singer: Bad Religion\n"
     ]
    }
   ],
   "source": [
    "display_res(res[\"track1\"][\"mfcc_bow\"][\"cos_sim\"], info)"
   ]
  },
  {
   "cell_type": "code",
   "execution_count": 28,
   "id": "3df467fe",
   "metadata": {},
   "outputs": [
    {
     "name": "stdout",
     "output_type": "stream",
     "text": [
      "Name: The Heart of Everything                  Singer: Within Temptation\n",
      "Name: Cactus                                   Singer: David Bowie\n",
      "Name: Local Man Ruins Everything               Singer: The Wonder Years\n",
      "Name: Unknown Soldier                          Singer: Breaking Benjamin\n",
      "Name: Broken Promises                          Singer: Element Eighty\n",
      "Name: Geraldine                                Singer: Glasvegas\n",
      "Name: Call My Name                             Singer: In Flames\n",
      "Name: Start a Fire                             Singer: Ryan Star\n",
      "Name: Someone Who Does                         Singer: Issues\n",
      "Name: My Revenge                               Singer: Bury Tomorrow\n"
     ]
    }
   ],
   "source": [
    "display_res(res[\"track1\"][\"mfcc_stats\"][\"cos_sim\"], info)"
   ]
  },
  {
   "cell_type": "markdown",
   "id": "cceb476d",
   "metadata": {},
   "source": [
    "## Track 2 "
   ]
  },
  {
   "cell_type": "markdown",
   "id": "89bd5531",
   "metadata": {},
   "source": [
    "\"One\" \"U2\""
   ]
  },
  {
   "cell_type": "code",
   "execution_count": 38,
   "id": "c5011335",
   "metadata": {},
   "outputs": [],
   "source": [
    "name = 'One'\n",
    "artist = 'U2'\n",
    "id_track2 = get_id_from_info(name, artist, info)"
   ]
  },
  {
   "cell_type": "code",
   "execution_count": 39,
   "id": "dbf54e26",
   "metadata": {},
   "outputs": [],
   "source": [
    "res[\"track2\"][\"mfcc_bow\"][\"cos_sim\"] = audio_based(id=id_track2, repr=mfcc_bow, N=10, sim_func=cos_sim)"
   ]
  },
  {
   "cell_type": "code",
   "execution_count": 40,
   "id": "06eccb80",
   "metadata": {},
   "outputs": [],
   "source": [
    "res[\"track2\"][\"mfcc_stats\"][\"cos_sim\"] = audio_based(id=id_track2, repr=mfcc_stats, N=10, sim_func=cos_sim)"
   ]
  },
  {
   "cell_type": "code",
   "execution_count": 41,
   "id": "9e572b6b",
   "metadata": {},
   "outputs": [
    {
     "data": {
      "text/plain": [
       "[('Ddg8zi2tOooa4HH1',\n",
       "  \"['rock', 'classic rock', 'pop', 'alternative rock', 'soft rock', 'pop rock', 'easy listening', 'irish rock']\")]"
      ]
     },
     "execution_count": 41,
     "metadata": {},
     "output_type": "execute_result"
    }
   ],
   "source": [
    "query_genre2 = get_genre_from_query(id_track2, genres)\n",
    "retrieved_genres2 = get_genre_from_ids(audio_based(id=id_track2, repr=mfcc_stats, N=10, sim_func=cos_sim), genres)\n",
    "query_genre2"
   ]
  },
  {
   "cell_type": "code",
   "execution_count": 42,
   "id": "9ee175f2",
   "metadata": {},
   "outputs": [
    {
     "data": {
      "text/plain": [
       "[('neXpq2wNn2gu35iL',\n",
       "  \"['mpb', 'rock nacional', 'rock', 'pop rock', 'pop', 'electronica', 'latin', 'latin rock', 'latin pop']\"),\n",
       " ('vfliWivCfCT3LqCr',\n",
       "  \"['indie rock', 'rock', 'alternative rock', 'folk', 'indie pop', 'rock and roll']\"),\n",
       " ('CgmAyvJeQM7erUkr', \"['singer songwriter']\"),\n",
       " ('eZK0NP90z9y7FyrU',\n",
       "  \"['electro', 'electronica', 'electropop', 'pop', 'rock', 'math rock', 'indietronica', 'indie pop', 'new rave', 'synthpop', 'alternative dance']\"),\n",
       " ('FgrARDURDDmwl5nT',\n",
       "  \"['emo', 'rock', 'indie rock', 'singer songwriter', 'soft rock', 'pop', 'punk', 'alternative rock', 'folk', 'gothic rock']\"),\n",
       " ('BZRLcghyu0eSrkV6',\n",
       "  \"['rock', 'pop', 'pop rock', 'alternative rock', 'soft rock']\"),\n",
       " ('bTcgazquJmGJzp0D',\n",
       "  \"['folk', 'singer songwriter', 'folk rock', 'rock', 'poetry', 'blues']\"),\n",
       " ('OwRx3TAJLm4dPu4U', \"['indie rock']\"),\n",
       " ('oRU3mzhGkqNswVIi', \"['indie folk', 'folk', 'supergroup']\"),\n",
       " ('sCfs1FcbW6TFm0UM', \"['shoegaze', 'dream pop']\")]"
      ]
     },
     "execution_count": 42,
     "metadata": {},
     "output_type": "execute_result"
    }
   ],
   "source": [
    "retrieved_genres2"
   ]
  },
  {
   "cell_type": "code",
   "execution_count": 43,
   "id": "354a13df",
   "metadata": {},
   "outputs": [
    {
     "data": {
      "text/plain": [
       "0.6"
      ]
     },
     "execution_count": 43,
     "metadata": {},
     "output_type": "execute_result"
    }
   ],
   "source": [
    "p2 = calculate_precision(query_genre2, retrieved_genres2)\n",
    "p2"
   ]
  },
  {
   "cell_type": "code",
   "execution_count": 48,
   "id": "42ed5ad8",
   "metadata": {},
   "outputs": [
    {
     "data": {
      "text/plain": [
       "0.0008525149190110827"
      ]
     },
     "execution_count": 48,
     "metadata": {},
     "output_type": "execute_result"
    }
   ],
   "source": [
    "r2 = calculate_recall(query_genre2, retrieved_genres2, dataset_genres)\n",
    "r2"
   ]
  },
  {
   "cell_type": "code",
   "execution_count": 45,
   "id": "ec188e4a",
   "metadata": {},
   "outputs": [
    {
     "name": "stdout",
     "output_type": "stream",
     "text": [
      "Name: La Raja De Tu Falda                      Singer: Estopa\n",
      "Name: Doubt                                    Singer: Hippo Campus\n",
      "Name: Isla Bella                               Singer: Ricky Martin\n",
      "Name: Lariat                                   Singer: Stephen Malkmus & The Jicks\n",
      "Name: Ridin' in My Car                         Singer: She & Him\n",
      "Name: Love Long Distance                       Singer: Gossip\n",
      "Name: Boum Boum Boum                           Singer: Mika\n",
      "Name: Within You Without You                   Singer: Patti Smith\n",
      "Name: Each Time                                Singer: Tamino\n",
      "Name: Bonnie (Rhythm & Melody)                 Singer: Turnover\n"
     ]
    }
   ],
   "source": [
    "display_res(res[\"track2\"][\"mfcc_bow\"][\"cos_sim\"], info)"
   ]
  },
  {
   "cell_type": "code",
   "execution_count": 46,
   "id": "846cc372",
   "metadata": {},
   "outputs": [
    {
     "name": "stdout",
     "output_type": "stream",
     "text": [
      "Name: Garotos II - O Outro Lado                Singer: Leoni\n",
      "Name: Lariat                                   Singer: Stephen Malkmus & The Jicks\n",
      "Name: Ran Before the Storm                     Singer: Roo Panes\n",
      "Name: Bendable Poseable                        Singer: Hot Chip\n",
      "Name: So Long, So Long                         Singer: Dashboard Confessional\n",
      "Name: Pieprz i sól                             Singer: Kasia Kowalska\n",
      "Name: Sing Another Song, Boys                  Singer: Leonard Cohen\n",
      "Name: Sleep Paralysis                          Singer: Bad Suns\n",
      "Name: All Things All At Once                   Singer: Tired Pony\n",
      "Name: Curiosity                                Singer: Turnover\n"
     ]
    }
   ],
   "source": [
    "display_res(res[\"track2\"][\"mfcc_stats\"][\"cos_sim\"], info)"
   ]
  },
  {
   "cell_type": "code",
   "execution_count": 47,
   "id": "645f0542",
   "metadata": {},
   "outputs": [
    {
     "ename": "TypeError",
     "evalue": "'NoneType' object is not iterable",
     "output_type": "error",
     "traceback": [
      "\u001b[1;31m---------------------------------------------------------------------------\u001b[0m",
      "\u001b[1;31mTypeError\u001b[0m                                 Traceback (most recent call last)",
      "Input \u001b[1;32mIn [47]\u001b[0m, in \u001b[0;36m<cell line: 1>\u001b[1;34m()\u001b[0m\n\u001b[1;32m----> 1\u001b[0m \u001b[43mdisplay_res\u001b[49m\u001b[43m(\u001b[49m\u001b[43mres\u001b[49m\u001b[43m[\u001b[49m\u001b[38;5;124;43m\"\u001b[39;49m\u001b[38;5;124;43mtrack2\u001b[39;49m\u001b[38;5;124;43m\"\u001b[39;49m\u001b[43m]\u001b[49m\u001b[43m[\u001b[49m\u001b[38;5;124;43m\"\u001b[39;49m\u001b[38;5;124;43mbase_line\u001b[39;49m\u001b[38;5;124;43m\"\u001b[39;49m\u001b[43m]\u001b[49m\u001b[43m,\u001b[49m\u001b[43m \u001b[49m\u001b[43minfo\u001b[49m\u001b[43m)\u001b[49m\n",
      "File \u001b[1;32m~\\Documents\\GitHub\\MMSR\\project_2_team_E\\ret.py:52\u001b[0m, in \u001b[0;36mdisplay_res\u001b[1;34m(ids, info)\u001b[0m\n\u001b[0;32m     51\u001b[0m \u001b[38;5;28;01mdef\u001b[39;00m \u001b[38;5;21mdisplay_res\u001b[39m(ids, info):\n\u001b[1;32m---> 52\u001b[0m     trl \u001b[38;5;241m=\u001b[39m \u001b[43mget_info_from_ids\u001b[49m\u001b[43m(\u001b[49m\u001b[43mids\u001b[49m\u001b[43m,\u001b[49m\u001b[43m \u001b[49m\u001b[43minfo\u001b[49m\u001b[43m)\u001b[49m\n\u001b[0;32m     53\u001b[0m     display_track_list(trl)\n",
      "File \u001b[1;32m~\\Documents\\GitHub\\MMSR\\project_2_team_E\\ret.py:64\u001b[0m, in \u001b[0;36mget_info_from_ids\u001b[1;34m(ids, info)\u001b[0m\n\u001b[0;32m     62\u001b[0m \u001b[38;5;28;01mdef\u001b[39;00m \u001b[38;5;21mget_info_from_ids\u001b[39m(ids, info):\n\u001b[0;32m     63\u001b[0m     res \u001b[38;5;241m=\u001b[39m []\n\u001b[1;32m---> 64\u001b[0m     \u001b[38;5;28;01mfor\u001b[39;00m \u001b[38;5;28mid\u001b[39m \u001b[38;5;129;01min\u001b[39;00m ids:\n\u001b[0;32m     65\u001b[0m         entry \u001b[38;5;241m=\u001b[39m info[info[\u001b[38;5;124m'\u001b[39m\u001b[38;5;124mid\u001b[39m\u001b[38;5;124m'\u001b[39m] \u001b[38;5;241m==\u001b[39m \u001b[38;5;28mid\u001b[39m]\n\u001b[0;32m     66\u001b[0m         \u001b[38;5;28;01mif\u001b[39;00m \u001b[38;5;129;01mnot\u001b[39;00m entry\u001b[38;5;241m.\u001b[39mempty:\n",
      "\u001b[1;31mTypeError\u001b[0m: 'NoneType' object is not iterable"
     ]
    }
   ],
   "source": [
    "display_res(res[\"track2\"][\"base_line\"], info)"
   ]
  },
  {
   "cell_type": "markdown",
   "id": "6bf2e082",
   "metadata": {},
   "source": [
    "## Track 3"
   ]
  },
  {
   "cell_type": "code",
   "execution_count": null,
   "id": "be4698e5",
   "metadata": {},
   "outputs": [],
   "source": [
    "compute_genre_distribution(retrieved_genres_mfcc_stats, dataset_genres)"
   ]
  },
  {
   "cell_type": "markdown",
   "id": "f5b0ae61",
   "metadata": {},
   "source": [
    "\"Every Christmas\" \"Kelly Clarkson\""
   ]
  },
  {
   "cell_type": "code",
   "execution_count": 46,
   "id": "c156fd26",
   "metadata": {},
   "outputs": [],
   "source": [
    "name = 'Every Christmas'\n",
    "artist = 'Kelly Clarkson'\n",
    "id_track3 = get_id_from_info(name, artist, info)"
   ]
  },
  {
   "cell_type": "code",
   "execution_count": 47,
   "id": "02a4e6a3",
   "metadata": {},
   "outputs": [],
   "source": [
    "res[\"track3\"][\"mfcc_bow\"][\"cos_sim\"] = audio_based(id=id_track3, repr=mfcc_bow, N=10, sim_func=cos_sim)"
   ]
  },
  {
   "cell_type": "code",
   "execution_count": 48,
   "id": "f7d6f91b",
   "metadata": {},
   "outputs": [],
   "source": [
    "res[\"track3\"][\"mfcc_stats\"][\"cos_sim\"] = audio_based(id=id_track3, repr=mfcc_stats, N=10, sim_func=cos_sim)"
   ]
  },
  {
   "cell_type": "code",
   "execution_count": 49,
   "id": "d29fc1d0",
   "metadata": {},
   "outputs": [
    {
     "data": {
      "text/plain": [
       "[('9ScGeeaW8XcxgePd', \"['pop']\")]"
      ]
     },
     "execution_count": 49,
     "metadata": {},
     "output_type": "execute_result"
    }
   ],
   "source": [
    "query_genre3 = get_genre_from_query(id_track3, genres)\n",
    "query_genre3"
   ]
  },
  {
   "cell_type": "code",
   "execution_count": 50,
   "id": "e767ad59",
   "metadata": {},
   "outputs": [
    {
     "data": {
      "text/plain": [
       "[('wBTcwkIaSigTMoOx',\n",
       "  \"['easy listening', 'pop', 'soundtrack', 'classic rock', 'rock', 'soft rock', 'blues', 'folk', 'country', 'rain', 'soul', 'indie pop', 'vocal jazz', 'swing']\"),\n",
       " ('Z4jTCucd9f4TZbbp',\n",
       "  \"['progressive rock', 'rock', 'psychedelic rock', 'experimental', 'alternative rock', 'space rock', 'art rock', 'progressive metal', 'classic rock', 'pop', 'ambient', 'indie rock', 'experimental rock', 'soft rock', 'dream pop', 'synthesizer', 'acoustic rock', 'technical death metal', 'neo progressive', 'psychedelic space rock', 'electronic rock']\"),\n",
       " ('vMluKVsjLFKZEmdg', \"['soul', 'disco', 'funk', 'violin']\"),\n",
       " ('kkY7mCedkgh4VE6r',\n",
       "  \"['shoegaze', 'synthpop', 'indietronica', 'electronica', 'spoken word', 'electropop', 'rock', 'experimental', 'indie pop', 'indie rock', 'post rock', 'singer songwriter', 'progressive rock', 'lo fi', 'dream pop', 'asmr']\"),\n",
       " ('F7ebJa7eUiPkChuj',\n",
       "  \"['rock', 'soundtrack', 'classic rock', 'hard rock', 'power pop', 'pop rock', 'new wave', 'pop', 'rock and roll', 'anthem', 'melodic hard rock']\"),\n",
       " ('KJyVTXfwdjUGtj5m', \"['pop', 'pop dance']\"),\n",
       " ('dvZ9L7CWRwKNNmUw', \"['rock']\"),\n",
       " ('RKXwxOZcuKwIApvj',\n",
       "  \"['progressive rock', 'classic rock', 'rock', 'hard rock', 'progressive metal', 'new wave', 'album rock', 'power pop', 'pop rock', 'art rock', 'canadian rock']\"),\n",
       " ('IIs72wE6hB8vxGJG',\n",
       "  \"['soul', 'disco', 'funk', 'rhythm and blues', 'jazz', 'jazz funk', 'post disco', 'classic soul']\"),\n",
       " ('D1zJHMFpDm6JosWR',\n",
       "  \"['synthpop', 'new wave', 'pop', 'rock', 'disco', 'electronica', 'electro', 'world', 'techno', 'dark electro', 'new romantic', 'dark wave']\")]"
      ]
     },
     "execution_count": 50,
     "metadata": {},
     "output_type": "execute_result"
    }
   ],
   "source": [
    "retrieved_genres3 = get_genre_from_ids(audio_based(id=id_track3, repr=mfcc_stats, N=10, sim_func=cos_sim), genres)\n",
    "retrieved_genres3"
   ]
  },
  {
   "cell_type": "code",
   "execution_count": 51,
   "id": "7097ae4f",
   "metadata": {},
   "outputs": [
    {
     "data": {
      "text/plain": [
       "0.5"
      ]
     },
     "execution_count": 51,
     "metadata": {},
     "output_type": "execute_result"
    }
   ],
   "source": [
    "p3 = calculate_precision(query_genre3, retrieved_genres3)\n",
    "p3"
   ]
  },
  {
   "cell_type": "code",
   "execution_count": 52,
   "id": "78c50410",
   "metadata": {},
   "outputs": [
    {
     "data": {
      "text/plain": [
       "0.0011899095668729176"
      ]
     },
     "execution_count": 52,
     "metadata": {},
     "output_type": "execute_result"
    }
   ],
   "source": [
    "r3 = calculate_recall(query_genre3, retrieved_genres3, dataset_genres)\n",
    "r3"
   ]
  },
  {
   "cell_type": "code",
   "execution_count": null,
   "id": "b45daced",
   "metadata": {},
   "outputs": [],
   "source": [
    "display_res(res[\"track3\"][\"mfcc_bow\"][\"cos_sim\"], info)"
   ]
  },
  {
   "cell_type": "code",
   "execution_count": null,
   "id": "1adde100",
   "metadata": {},
   "outputs": [],
   "source": [
    "display_res(res[\"track3\"][\"mfcc_stats\"][\"cos_sim\"], info)"
   ]
  },
  {
   "cell_type": "markdown",
   "id": "558ad1f3",
   "metadata": {},
   "source": [
    "# Accuracy"
   ]
  },
  {
   "cell_type": "code",
   "execution_count": 53,
   "id": "778d212a",
   "metadata": {},
   "outputs": [
    {
     "data": {
      "text/plain": [
       "0.6666666666666666"
      ]
     },
     "execution_count": 53,
     "metadata": {},
     "output_type": "execute_result"
    }
   ],
   "source": [
    "average_precision(p1, p2, p3)"
   ]
  },
  {
   "cell_type": "code",
   "execution_count": 54,
   "id": "6b071b24",
   "metadata": {},
   "outputs": [
    {
     "data": {
      "text/plain": [
       "0.001098228504246014"
      ]
     },
     "execution_count": 54,
     "metadata": {},
     "output_type": "execute_result"
    }
   ],
   "source": [
    "average_recall(r1, r2, r3)"
   ]
  },
  {
   "cell_type": "code",
   "execution_count": null,
   "id": "d382c686",
   "metadata": {},
   "outputs": [],
   "source": [
    "import matplotlib.pyplot as plt\n",
    "\n",
    "system_data = {\n",
    "    \"System1\": {\"query_genre\": ..., \"retrieved_genres\": ..., \"dataset_genres\": ...},\n",
    "    \"System2\": {\"query_genre\": ..., \"retrieved_genres\": ..., \"dataset_genres\": ...},\n",
    "    # ... Add data for the other 6 systems\n",
    "}\n",
    "\n",
    "# Vary k from 1 to 100\n",
    "k_values = list(range(1, 101))\n",
    "\n",
    "# Plot Precision-Recall curve for each system\n",
    "for system_name, system_info in system_data.items():\n",
    "    precisions = []\n",
    "    recalls = []\n",
    "\n",
    "    for k in k_values:\n",
    "        precision = calculate_precision_at_k(system_info[\"query_genre\"], system_info[\"retrieved_genres\"], system_info[\"dataset_genres\"], k)\n",
    "        recall = calculate_recall_at_k(system_info[\"query_genre\"], system_info[\"retrieved_genres\"], system_info[\"dataset_genres\"], k)\n",
    "\n",
    "        precisions.append(precision)\n",
    "        recalls.append(recall)\n",
    "\n",
    "    plt.plot(recalls, precisions, label=system_name)\n",
    "\n",
    "# Add labels and legend\n",
    "plt.xlabel(\"Recall\")\n",
    "plt.ylabel(\"Precision\")\n",
    "plt.title(\"Precision-Recall Curve for Evaluated Systems\")\n",
    "plt.legend()\n",
    "\n",
    "# Display the plot\n",
    "plt.show()\n"
   ]
  }
 ],
 "metadata": {
  "kernelspec": {
   "display_name": "Python 3 (ipykernel)",
   "language": "python",
   "name": "python3"
  },
  "language_info": {
   "codemirror_mode": {
    "name": "ipython",
    "version": 3
   },
   "file_extension": ".py",
   "mimetype": "text/x-python",
   "name": "python",
   "nbconvert_exporter": "python",
   "pygments_lexer": "ipython3",
   "version": "3.9.12"
  }
 },
 "nbformat": 4,
 "nbformat_minor": 5
}
