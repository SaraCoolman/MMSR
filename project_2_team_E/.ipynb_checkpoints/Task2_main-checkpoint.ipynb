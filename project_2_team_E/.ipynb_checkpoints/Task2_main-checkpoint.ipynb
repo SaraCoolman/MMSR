{
 "cells": [
  {
   "cell_type": "markdown",
   "id": "e35b9525",
   "metadata": {},
   "source": [
    "# Task 1 Simple Text-based Similarity and Retrieval"
   ]
  },
  {
   "cell_type": "markdown",
   "id": "2006f989",
   "metadata": {},
   "source": [
    "### Team E\n",
    "Version 1.0.1\n",
    "Date: 14/11/2023"
   ]
  },
  {
   "cell_type": "markdown",
   "id": "5c6729f5",
   "metadata": {},
   "source": [
    "## Import Libraries  "
   ]
  },
  {
   "cell_type": "code",
   "execution_count": 1,
   "id": "858c3296",
   "metadata": {},
   "outputs": [],
   "source": [
    "import pandas as pd\n",
    "import numpy as np\n",
    "import statistics as st\n",
    "import math\n",
    "import matplotlib.pyplot as plt"
   ]
  },
  {
   "cell_type": "code",
   "execution_count": 1,
   "id": "d6614d1e",
   "metadata": {},
   "outputs": [],
   "source": [
    "from task2_ret import read_data # utility func to load data\n",
    "from task2_ret  import get_id_from_info # utility func to return id by entering song's info\n",
    "from task2_ret  import display_res # utility func to display results \n",
    "from task2_ret  import audio_based # modularized audio based retrieval system\n",
    "from task2_ret  import text_based # modularized text based retrieval system\n",
    "from task2_ret  import random_baseline # base line retrieval system that returns random results \n",
    "from task2_ret  import cos_sim # wrapper function to calculate cosine similarity\n",
    "from task2_ret  import euc_sim # wrapper function to calculate euclidean similarity \n",
    "from task2_ret  import get_info_from_ids #utility func to return infro from id\n",
    "from task2_ret  import get_genre_from_ids\n",
    "from task2_ret  import get_genre_from_query\n",
    "from task2_ret  import calculate_precision \n",
    "from task2_ret  import calculate_recall\n",
    "from task2_ret  import count_relevant_songs_in_dataset\n",
    "from task2_ret  import count_relevant_songs_in_result\n",
    "from task2_ret  import average_precision\n",
    "from task2_ret  import average_recall\n",
    "from task2_ret  import calculate_recall_at_k\n",
    "from task2_ret  import calculate_precision_at_k\n",
    "\n",
    "import matplotlib.pyplot as plt\n",
    "from sklearn.metrics import precision_recall_curve\n",
    "from sklearn.metrics import average_precision_score\n",
    "from sklearn.model_selection import train_test_split\n",
    "from sklearn.linear_model import LogisticRegression"
   ]
  },
  {
   "cell_type": "markdown",
   "id": "28642a4c",
   "metadata": {},
   "source": [
    "## Load Data"
   ]
  },
  {
   "cell_type": "code",
   "execution_count": 2,
   "id": "c76b9179",
   "metadata": {},
   "outputs": [
    {
     "data": {
      "text/html": [
       "<div>\n",
       "<style scoped>\n",
       "    .dataframe tbody tr th:only-of-type {\n",
       "        vertical-align: middle;\n",
       "    }\n",
       "\n",
       "    .dataframe tbody tr th {\n",
       "        vertical-align: top;\n",
       "    }\n",
       "\n",
       "    .dataframe thead th {\n",
       "        text-align: right;\n",
       "    }\n",
       "</style>\n",
       "<table border=\"1\" class=\"dataframe\">\n",
       "  <thead>\n",
       "    <tr style=\"text-align: right;\">\n",
       "      <th></th>\n",
       "      <th>id</th>\n",
       "      <th>genre</th>\n",
       "    </tr>\n",
       "  </thead>\n",
       "  <tbody>\n",
       "    <tr>\n",
       "      <th>0</th>\n",
       "      <td>01Yfj2T3YTwJ1Yfy</td>\n",
       "      <td>['rock', 'christian rock']</td>\n",
       "    </tr>\n",
       "    <tr>\n",
       "      <th>1</th>\n",
       "      <td>01gyRHLquwXDlhkO</td>\n",
       "      <td>['hip hop', 'rap', 'grindcore', 'death metal']</td>\n",
       "    </tr>\n",
       "    <tr>\n",
       "      <th>2</th>\n",
       "      <td>01rMxQv6vhyE1oQX</td>\n",
       "      <td>['rock', 'pop punk']</td>\n",
       "    </tr>\n",
       "    <tr>\n",
       "      <th>3</th>\n",
       "      <td>02RGE9FNH65RtMS7</td>\n",
       "      <td>['trance', 'techno', 'progressive trance']</td>\n",
       "    </tr>\n",
       "    <tr>\n",
       "      <th>4</th>\n",
       "      <td>02ZnlCGZEbkfCDxo</td>\n",
       "      <td>['pop', 'italian pop', 'latin', 'europop', 'am...</td>\n",
       "    </tr>\n",
       "    <tr>\n",
       "      <th>...</th>\n",
       "      <td>...</td>\n",
       "      <td>...</td>\n",
       "    </tr>\n",
       "    <tr>\n",
       "      <th>10089</th>\n",
       "      <td>zyzILCQvVeUFIINi</td>\n",
       "      <td>['rock', 'pop', 'indie rock', 'folk rock', 'ne...</td>\n",
       "    </tr>\n",
       "    <tr>\n",
       "      <th>10090</th>\n",
       "      <td>zzgS4ZqyswamEWNj</td>\n",
       "      <td>['pop', 'rock', 'teen pop', 'soundtrack', 'sin...</td>\n",
       "    </tr>\n",
       "    <tr>\n",
       "      <th>10091</th>\n",
       "      <td>zzoFYDMlqU1X2zz1</td>\n",
       "      <td>['jazz', 'jazz fusion']</td>\n",
       "    </tr>\n",
       "    <tr>\n",
       "      <th>10092</th>\n",
       "      <td>zzpkRCGA5ud8q4mv</td>\n",
       "      <td>['soul', 'blues', 'r b', 'blues rock', 'southe...</td>\n",
       "    </tr>\n",
       "    <tr>\n",
       "      <th>10093</th>\n",
       "      <td>zzx8CWdM7qkxKQpC</td>\n",
       "      <td>['indie rock', 'rock', 'alternative rock', 'in...</td>\n",
       "    </tr>\n",
       "  </tbody>\n",
       "</table>\n",
       "<p>10094 rows × 2 columns</p>\n",
       "</div>"
      ],
      "text/plain": [
       "                     id                                              genre\n",
       "0      01Yfj2T3YTwJ1Yfy                         ['rock', 'christian rock']\n",
       "1      01gyRHLquwXDlhkO     ['hip hop', 'rap', 'grindcore', 'death metal']\n",
       "2      01rMxQv6vhyE1oQX                               ['rock', 'pop punk']\n",
       "3      02RGE9FNH65RtMS7         ['trance', 'techno', 'progressive trance']\n",
       "4      02ZnlCGZEbkfCDxo  ['pop', 'italian pop', 'latin', 'europop', 'am...\n",
       "...                 ...                                                ...\n",
       "10089  zyzILCQvVeUFIINi  ['rock', 'pop', 'indie rock', 'folk rock', 'ne...\n",
       "10090  zzgS4ZqyswamEWNj  ['pop', 'rock', 'teen pop', 'soundtrack', 'sin...\n",
       "10091  zzoFYDMlqU1X2zz1                            ['jazz', 'jazz fusion']\n",
       "10092  zzpkRCGA5ud8q4mv  ['soul', 'blues', 'r b', 'blues rock', 'southe...\n",
       "10093  zzx8CWdM7qkxKQpC  ['indie rock', 'rock', 'alternative rock', 'in...\n",
       "\n",
       "[10094 rows x 2 columns]"
      ]
     },
     "execution_count": 2,
     "metadata": {},
     "output_type": "execute_result"
    }
   ],
   "source": [
    "\"\"\"\n",
    "Please put data files in \"\"./data/\" before use \n",
    "\"\"\"\n",
    "\n",
    "info = read_data(\"information\")\n",
    "tfidf = read_data(\"lyrics_tf-idf\")\n",
    "word2vec = read_data(\"lyrics_word2vec\")\n",
    "bert = read_data(\"lyrics_bert\")\n",
    "mfcc_stats = read_data(\"mfcc_stats\")\n",
    "mfcc_bow = read_data(\"mfcc_bow\")\n",
    "blf_correlation = read_data(\"blf_correlation\")\n",
    "ivec256 = read_data(\"ivec256\")\n",
    "musicnn = read_data(\"musicnn\")\n",
    "genres = read_data(\"genres\")\n",
    "\n",
    "genres"
   ]
  },
  {
   "cell_type": "code",
   "execution_count": 3,
   "id": "cba2b1ce",
   "metadata": {},
   "outputs": [],
   "source": [
    "dataset_genres = genres.values.tolist()\n"
   ]
  },
  {
   "cell_type": "markdown",
   "id": "a13ba797",
   "metadata": {},
   "source": [
    "## Dictionary to Store Results "
   ]
  },
  {
   "cell_type": "code",
   "execution_count": 4,
   "id": "f1e1b436",
   "metadata": {},
   "outputs": [],
   "source": [
    "\"\"\"\n",
    "Dict to store results:\n",
    "query format: res[\"trackTRACKNUMBER\"][\"REPRESENTATION\"][\"SIMILARITYFUNCTION\"]\n",
    "sample query: res[\"track1\"][\"tfidf\"][\"cos_sim\"]\n",
    "\n",
    "returns - list[str] \n",
    "list containing ids of a retrieved tracks \n",
    "\n",
    "After running, use display_res(res[\"trackTRACKNUMBER\"][\"REPRESENTATION\"][\"SIMILARITYFUNCTION\"],info) to display results\n",
    "e.g. display_res(res[\"track1\"][\"tfidf\"][\"cos_sim\"],info)\n",
    "\n",
    "\"\"\"\n",
    "res={\n",
    "    \"track1\": \n",
    "    {\n",
    "    \"base_line\": None,\n",
    "    \"mfcc_bow\":\n",
    "    {\n",
    "        \"cos_sim\": None,\n",
    "        \"euc_sim\": None\n",
    "    },\n",
    "    \"mfcc_stats\":\n",
    "    {\n",
    "        \"cos_sim\": None,\n",
    "        \"euc_sim\": None\n",
    "    }\n",
    "    },\n",
    "    \"track2\": \n",
    "    {\n",
    "    \"base_line\": None,\n",
    "    \"mfcc_bow\":\n",
    "    {\n",
    "        \"cos_sim\": None,\n",
    "        \"euc_sim\": None\n",
    "    },\n",
    "    \"mfcc_stats\":\n",
    "    {\n",
    "        \"cos_sim\": None,\n",
    "        \"euc_sim\": None\n",
    "    }\n",
    "    },\n",
    "    \"track3\": \n",
    "    {\n",
    "    \"base_line\": None,\n",
    "    \"mfcc_bow\":\n",
    "    {\n",
    "        \"cos_sim\": None,\n",
    "        \"euc_sim\": None\n",
    "    },\n",
    "    \"mfcc_stats\":\n",
    "    {\n",
    "        \"cos_sim\": None,\n",
    "        \"euc_sim\": None\n",
    "    }\n",
    "    \n",
    "}\n",
    "}"
   ]
  },
  {
   "cell_type": "markdown",
   "id": "1471ae3f",
   "metadata": {},
   "source": [
    "## Track 1 \n",
    "\"Love Me\" \"The 1975\""
   ]
  },
  {
   "cell_type": "code",
   "execution_count": 5,
   "id": "7c602738",
   "metadata": {},
   "outputs": [
    {
     "data": {
      "text/plain": [
       "'rTXO5VOLQGcypcmB'"
      ]
     },
     "execution_count": 5,
     "metadata": {},
     "output_type": "execute_result"
    }
   ],
   "source": [
    "name = \"Love Me\"\n",
    "artist = \"The 1975\"\n",
    "id_track1 = get_id_from_info(name, artist, info)\n",
    "id_track1"
   ]
  },
  {
   "cell_type": "code",
   "execution_count": 6,
   "id": "a6e599d2",
   "metadata": {},
   "outputs": [],
   "source": [
    "res[\"track1\"][\"mfcc_bow\"][\"cos_sim\"] = audio_based(id=id_track1, repr=mfcc_bow, N=10, sim_func=cos_sim)"
   ]
  },
  {
   "cell_type": "code",
   "execution_count": 7,
   "id": "6fd93e5f",
   "metadata": {},
   "outputs": [],
   "source": [
    "res[\"track1\"][\"mfcc_stats\"][\"cos_sim\"] = audio_based(id=id_track1, repr=mfcc_stats, N=10, sim_func=cos_sim)"
   ]
  },
  {
   "cell_type": "code",
   "execution_count": 8,
   "id": "56083c2d",
   "metadata": {},
   "outputs": [
    {
     "data": {
      "text/plain": [
       "[('rTXO5VOLQGcypcmB',\n",
       "  \"['pop', 'rock', 'indie pop', 'electropop', 'indie rock', 'funk', 'funk rock']\")]"
      ]
     },
     "execution_count": 8,
     "metadata": {},
     "output_type": "execute_result"
    }
   ],
   "source": [
    "query_genre1 = get_genre_from_query(id_track1, genres)\n",
    "query_genre1"
   ]
  },
  {
   "cell_type": "code",
   "execution_count": null,
   "id": "b0016942",
   "metadata": {},
   "outputs": [],
   "source": [
    "#retrieve 100 results (audio based)\n",
    "q1_genres_mfcc_stats = get_genre_from_ids(audio_based(id=id_track1, repr=mfcc_stats, N=100, sim_func=cos_sim), genres)\n",
    "q1_genres_blf_correlation = get_genre_from_ids(audio_based(id=id_track1, repr=blf_correlation, N=100, sim_func=cos_sim), genres)\n",
    "q1_genres_ivec256 = get_genre_from_ids(audio_based(id=id_track1, repr=ivec256, N=100, sim_func=cos_sim), genres)\n",
    "q1_genres_musicnn = get_genre_from_ids(audio_based(id=id_track1, repr=musicnn, N=100, sim_func=cos_sim), genres)\n",
    "#text based\n",
    "q1_genres_tfidf = get_genre_from_ids(text_based(id=id_track1, repr=tfidf, N=100, sim_func=cos_sim), genres)\n",
    "q1_genres_word2vec = get_genre_from_ids(text_based(id=id_track1, repr=word2vec, N=100, sim_func=cos_sim),genres)\n",
    "q1_genres_bert =  get_genre_from_ids(text_based(id=id_track1, repr=bert, N=100, sim_func=cos_sim),genres)\n",
    "q1_genres_random = get_genre_from_ids(random_baseline(id=id_track1, info=info, N=100),genres)\n"
   ]
  },
  {
   "cell_type": "code",
   "execution_count": null,
   "id": "069367cc",
   "metadata": {},
   "outputs": [],
   "source": [
    "#plot precision recall curve for query track1 for all evaluated retrieval systems\n",
    "\n",
    "system_data = {\n",
    "    \"audio mfcc stats\": {\"query_genre\": query_genre1, \"retrieved_genres\": q1_genres_mfcc_stats, \"dataset_genres\": dataset_genres},\n",
    "    \"audio blf correlation\": {\"query_genre\": query_genre1, \"retrieved_genres\": q1_genres_blf_correlation, \"dataset_genres\": dataset_genres},\n",
    "    \"audio ivec_256\": {\"query_genre\": query_genre1, \"retrieved_genres\": q1_genres_ivec256, \"dataset_genres\": dataset_genres},\n",
    "    \"audio miscnn\": {\"query_genre\": query_genre1, \"retrieved_genres\": q1_genres_musicnn, \"dataset_genres\": dataset_genres},\n",
    "    \"text tf-idf\": {\"query_genre\": query_genre1, \"retrieved_genres\": q1_genres_tfidf, \"dataset_genres\": dataset_genres},\n",
    "    \"text word2vec\": {\"query_genre\": query_genre1, \"retrieved_genres\": q1_genres_word2vec, \"dataset_genres\": dataset_genres},\n",
    "    \"text bert\": {\"query_genre\": query_genre1, \"retrieved_genres\": q1_genres_bert, \"dataset_genres\": dataset_genres},\n",
    "    \"text random\": {\"query_genre\": query_genre1, \"retrieved_genres\": q1_genres_random, \"dataset_genres\": dataset_genres},\n",
    "}\n",
    "\n",
    "#Vary k from 1 to 100\n",
    "k_values = list(range(1, 100))\n",
    "\n",
    "for system_name, system_info in system_data.items():\n",
    "    precisions = []\n",
    "    recalls = []\n",
    "\n",
    "    for k in k_values:\n",
    "        precision = calculate_precision_at_k(system_info[\"query_genre\"], system_info[\"retrieved_genres\"], k)\n",
    "        recall = calculate_recall_at_k(system_info[\"query_genre\"], system_info[\"retrieved_genres\"], system_info[\"dataset_genres\"], k)\n",
    "\n",
    "        precisions.append(precision)\n",
    "        recalls.append(recall)\n",
    "\n",
    "    plt.plot(recalls, precisions, label=system_name)\n",
    "\n",
    "# Add labels and legend\n",
    "plt.xlabel(\"Recall\")\n",
    "plt.ylabel(\"Precision\")\n",
    "plt.title(\"Precision-Recall Curve for Evaluated Systems\")\n",
    "plt.legend()\n",
    "\n",
    "plt.show()"
   ]
  },
  {
   "cell_type": "code",
   "execution_count": 30,
   "id": "b59dda3e",
   "metadata": {},
   "outputs": [
    {
     "data": {
      "text/plain": [
       "0.9"
      ]
     },
     "execution_count": 30,
     "metadata": {},
     "output_type": "execute_result"
    }
   ],
   "source": [
    "calculate_precision_at_k(query_genre1, retrieved_genres_mfcc_stats, 10)"
   ]
  },
  {
   "cell_type": "code",
   "execution_count": 31,
   "id": "790b2def",
   "metadata": {},
   "outputs": [
    {
     "data": {
      "text/plain": [
       "0.9"
      ]
     },
     "execution_count": 31,
     "metadata": {},
     "output_type": "execute_result"
    }
   ],
   "source": [
    "calculate_precision(query_genre1,retrieved_genres_mfcc_stats10)"
   ]
  },
  {
   "cell_type": "code",
   "execution_count": 32,
   "id": "9977dfbb",
   "metadata": {},
   "outputs": [
    {
     "data": {
      "text/plain": [
       "0.001252261026854042"
      ]
     },
     "execution_count": 32,
     "metadata": {},
     "output_type": "execute_result"
    }
   ],
   "source": [
    "calculate_recall_at_k(query_genre1, retrieved_genres_mfcc_stats, dataset_genres, 10)"
   ]
  },
  {
   "cell_type": "code",
   "execution_count": 33,
   "id": "58183d40",
   "metadata": {},
   "outputs": [
    {
     "data": {
      "text/plain": [
       "0.001252261026854042"
      ]
     },
     "execution_count": 33,
     "metadata": {},
     "output_type": "execute_result"
    }
   ],
   "source": [
    "calculate_recall(query_genre1,retrieved_genres_mfcc_stats10, dataset_genres)"
   ]
  },
  {
   "cell_type": "code",
   "execution_count": 34,
   "id": "5fa34884",
   "metadata": {},
   "outputs": [
    {
     "data": {
      "text/plain": [
       "7187"
      ]
     },
     "execution_count": 34,
     "metadata": {},
     "output_type": "execute_result"
    }
   ],
   "source": [
    "count_relevant_songs_in_dataset(query_genre1,dataset_genres)"
   ]
  },
  {
   "cell_type": "code",
   "execution_count": 35,
   "id": "67312c8d",
   "metadata": {},
   "outputs": [
    {
     "data": {
      "text/plain": [
       "76"
      ]
     },
     "execution_count": 35,
     "metadata": {},
     "output_type": "execute_result"
    }
   ],
   "source": [
    "count_relevant_songs_in_result(query_genre1,retrieved_genres_mfcc_stats)"
   ]
  },
  {
   "cell_type": "code",
   "execution_count": 36,
   "id": "d361f303",
   "metadata": {},
   "outputs": [],
   "source": [
    "#audio based recall\n",
    "r_mfcc_stats = calculate_recall(query_genre1, retrieved_genres_mfcc_stats, dataset_genres)\n",
    "r_blf_correlation = calculate_recall(query_genre1, retrieved_genres_blf_correlation, dataset_genres)\n",
    "r_ivec256 = calculate_recall(query_genre1, retrieved_genres_ivec256, dataset_genres)\n",
    "r_musicnn = calculate_recall(query_genre1, retrieved_genres_musicnn, dataset_genres)\n",
    "#text based recall\n",
    "r_tfidf = calculate_recall(query_genre1, retrieved_genres_tfidf, dataset_genres)\n",
    "r_word2vec = calculate_recall(query_genre1, retrieved_genres_word2vec, dataset_genres)\n",
    "r_bert = calculate_recall(query_genre1,  retrieved_genres_bert, dataset_genres)\n",
    "r_random = calculate_recall(query_genre1, retrieved_genres_random, dataset_genres)"
   ]
  },
  {
   "cell_type": "code",
   "execution_count": 37,
   "id": "d07a56fc",
   "metadata": {},
   "outputs": [
    {
     "name": "stdout",
     "output_type": "stream",
     "text": [
      "Name: High Horse                               Singer: Kacey Musgraves\n",
      "Name: SPRORGNSM                                Singer: Superorganism\n",
      "Name: Goin' Crazy                              Singer: Ashley Tisdale\n",
      "Name: Do Somethin'                             Singer: Britney Spears\n",
      "Name: Ni**as In Paris                          Singer: Jay-Z & Kanye West\n",
      "Name: Good... Good                             Singer: Belinda\n",
      "Name: Honey, Don't Kill My Vibe                Singer: YESEO\n",
      "Name: Girlfriend                               Singer: Bea Miller\n",
      "Name: Jealousy                                 Singer: Paris Hilton\n",
      "Name: No Time For Love                         Singer: Bryan Adams\n"
     ]
    }
   ],
   "source": [
    "display_res(res[\"track1\"][\"mfcc_bow\"][\"cos_sim\"], info)"
   ]
  },
  {
   "cell_type": "code",
   "execution_count": 38,
   "id": "3df467fe",
   "metadata": {},
   "outputs": [
    {
     "name": "stdout",
     "output_type": "stream",
     "text": [
      "Name: Falling for You                          Singer: Tamia\n",
      "Name: Sunshine on a Rainy Day                  Singer: Emma Bunton\n",
      "Name: Honey, Honey                             Singer: ABBA\n",
      "Name: Do You Wanna Come Over?                  Singer: Britney Spears\n",
      "Name: The Thoughts That Give Me the Creeps     Singer: Hellogoodbye\n",
      "Name: Good... Good                             Singer: Belinda\n",
      "Name: Everybody's Weird                        Singer: dEUS\n",
      "Name: Hesitation                               Singer: Stacie Orrico\n",
      "Name: Fm                                       Singer: Nathan Haines\n",
      "Name: Amnesia                                  Singer: Chumbawamba\n"
     ]
    }
   ],
   "source": [
    "display_res(res[\"track1\"][\"mfcc_stats\"][\"cos_sim\"], info)"
   ]
  },
  {
   "cell_type": "markdown",
   "id": "cceb476d",
   "metadata": {},
   "source": [
    "## Track 2 "
   ]
  },
  {
   "cell_type": "markdown",
   "id": "89bd5531",
   "metadata": {},
   "source": [
    "\"One\" \"U2\""
   ]
  },
  {
   "cell_type": "code",
   "execution_count": 61,
   "id": "c5011335",
   "metadata": {},
   "outputs": [],
   "source": [
    "name = 'One'\n",
    "artist = 'U2'\n",
    "id_track2 = get_id_from_info(name, artist, info)"
   ]
  },
  {
   "cell_type": "code",
   "execution_count": 62,
   "id": "dbf54e26",
   "metadata": {},
   "outputs": [],
   "source": [
    "res[\"track2\"][\"mfcc_bow\"][\"cos_sim\"] = audio_based(id=id_track2, repr=mfcc_bow, N=10, sim_func=cos_sim)"
   ]
  },
  {
   "cell_type": "code",
   "execution_count": 63,
   "id": "06eccb80",
   "metadata": {},
   "outputs": [],
   "source": [
    "res[\"track2\"][\"mfcc_stats\"][\"cos_sim\"] = audio_based(id=id_track2, repr=mfcc_stats, N=10, sim_func=cos_sim)"
   ]
  },
  {
   "cell_type": "code",
   "execution_count": 64,
   "id": "9e572b6b",
   "metadata": {},
   "outputs": [
    {
     "data": {
      "text/plain": [
       "[('Ddg8zi2tOooa4HH1',\n",
       "  \"['rock', 'classic rock', 'pop', 'alternative rock', 'soft rock', 'pop rock', 'easy listening', 'irish rock']\")]"
      ]
     },
     "execution_count": 64,
     "metadata": {},
     "output_type": "execute_result"
    }
   ],
   "source": [
    "query_genre2 = get_genre_from_query(id_track2, genres)\n",
    "query_genre2"
   ]
  },
  {
   "cell_type": "code",
   "execution_count": 76,
   "id": "354a13df",
   "metadata": {},
   "outputs": [],
   "source": [
    "#retrieve 100 results (audio based)\n",
    "q2_genres_mfcc_stats = get_genre_from_ids(audio_based(id=id_track2, repr=mfcc_stats, N=100, sim_func=cos_sim), genres)\n",
    "q2_genres_blf_correlation = get_genre_from_ids(audio_based(id=id_track2, repr=blf_correlation, N=100, sim_func=cos_sim), genres)\n",
    "q2_genres_ivec256 = get_genre_from_ids(audio_based(id=id_track2, repr=ivec256, N=100, sim_func=cos_sim), genres)\n",
    "q2_genres_musicnn = get_genre_from_ids(audio_based(id=id_track2, repr=musicnn, N=100, sim_func=cos_sim), genres)\n",
    "#text based\n",
    "q2_genres_tfidf = get_genre_from_ids(text_based(id=id_track2, repr=tfidf, N=100, sim_func=cos_sim), genres)\n",
    "q2_genres_word2vec = get_genre_from_ids(text_based(id=id_track2, repr=word2vec, N=100, sim_func=cos_sim),genres)\n",
    "q2_genres_bert =  get_genre_from_ids(text_based(id=id_track2, repr=bert, N=100, sim_func=cos_sim),genres)\n",
    "q2_genres_random = get_genre_from_ids(random_baseline(id=id_track2, info=info, N=100),genres)\n",
    "\n",
    "q2_genres_mfcc_stats10 = get_genre_from_ids(audio_based(id=id_track2, repr=mfcc_stats, N=10, sim_func=cos_sim), genres)"
   ]
  },
  {
   "cell_type": "code",
   "execution_count": 77,
   "id": "a3ff2204",
   "metadata": {},
   "outputs": [
    {
     "data": {
      "text/plain": [
       "0.6"
      ]
     },
     "execution_count": 77,
     "metadata": {},
     "output_type": "execute_result"
    }
   ],
   "source": [
    "calculate_precision(query_genre2,q2_genres_mfcc_stats10)"
   ]
  },
  {
   "cell_type": "code",
   "execution_count": 78,
   "id": "6917e094",
   "metadata": {},
   "outputs": [
    {
     "data": {
      "text/plain": [
       "0.6"
      ]
     },
     "execution_count": 78,
     "metadata": {},
     "output_type": "execute_result"
    }
   ],
   "source": [
    "calculate_precision_at_k(query_genre2,q2_genres_mfcc_stats,10)"
   ]
  },
  {
   "cell_type": "code",
   "execution_count": 79,
   "id": "30f7fa91",
   "metadata": {},
   "outputs": [
    {
     "data": {
      "text/plain": [
       "0.0008525149190110827"
      ]
     },
     "execution_count": 79,
     "metadata": {},
     "output_type": "execute_result"
    }
   ],
   "source": [
    "calculate_recall(query_genre2,q2_genres_mfcc_stats10,dataset_genres)"
   ]
  },
  {
   "cell_type": "code",
   "execution_count": 80,
   "id": "4c522e1e",
   "metadata": {},
   "outputs": [
    {
     "data": {
      "text/plain": [
       "0.0008525149190110827"
      ]
     },
     "execution_count": 80,
     "metadata": {},
     "output_type": "execute_result"
    }
   ],
   "source": [
    "calculate_recall_at_k(query_genre2,q2_genres_mfcc_stats, dataset_genres, 10)"
   ]
  },
  {
   "cell_type": "code",
   "execution_count": 13,
   "id": "b46a81f5",
   "metadata": {},
   "outputs": [
    {
     "ename": "NameError",
     "evalue": "name 'query_genre2' is not defined",
     "output_type": "error",
     "traceback": [
      "\u001b[1;31m---------------------------------------------------------------------------\u001b[0m",
      "\u001b[1;31mNameError\u001b[0m                                 Traceback (most recent call last)",
      "Input \u001b[1;32mIn [13]\u001b[0m, in \u001b[0;36m<cell line: 4>\u001b[1;34m()\u001b[0m\n\u001b[0;32m      1\u001b[0m \u001b[38;5;66;03m#plot precision recall curve for query track2 for all evaluated systems\u001b[39;00m\n\u001b[0;32m      3\u001b[0m system_data \u001b[38;5;241m=\u001b[39m {\n\u001b[1;32m----> 4\u001b[0m     \u001b[38;5;124m\"\u001b[39m\u001b[38;5;124mSystem1\u001b[39m\u001b[38;5;124m\"\u001b[39m: {\u001b[38;5;124m\"\u001b[39m\u001b[38;5;124mquery_genre\u001b[39m\u001b[38;5;124m\"\u001b[39m: \u001b[43mquery_genre2\u001b[49m, \u001b[38;5;124m\"\u001b[39m\u001b[38;5;124mretrieved_genres\u001b[39m\u001b[38;5;124m\"\u001b[39m: q2_genres_mfcc_stats, \u001b[38;5;124m\"\u001b[39m\u001b[38;5;124mdataset_genres\u001b[39m\u001b[38;5;124m\"\u001b[39m: dataset_genres},\n\u001b[0;32m      5\u001b[0m     \u001b[38;5;124m\"\u001b[39m\u001b[38;5;124mSystem2\u001b[39m\u001b[38;5;124m\"\u001b[39m: {\u001b[38;5;124m\"\u001b[39m\u001b[38;5;124mquery_genre\u001b[39m\u001b[38;5;124m\"\u001b[39m: query_genre2, \u001b[38;5;124m\"\u001b[39m\u001b[38;5;124mretrieved_genres\u001b[39m\u001b[38;5;124m\"\u001b[39m: q2_genres_blf_correlation, \u001b[38;5;124m\"\u001b[39m\u001b[38;5;124mdataset_genres\u001b[39m\u001b[38;5;124m\"\u001b[39m: dataset_genres},\n\u001b[0;32m      6\u001b[0m     \u001b[38;5;124m\"\u001b[39m\u001b[38;5;124mSystem3\u001b[39m\u001b[38;5;124m\"\u001b[39m: {\u001b[38;5;124m\"\u001b[39m\u001b[38;5;124mquery_genre\u001b[39m\u001b[38;5;124m\"\u001b[39m: query_genre2, \u001b[38;5;124m\"\u001b[39m\u001b[38;5;124mretrieved_genres\u001b[39m\u001b[38;5;124m\"\u001b[39m: q2_genres_ivec256, \u001b[38;5;124m\"\u001b[39m\u001b[38;5;124mdataset_genres\u001b[39m\u001b[38;5;124m\"\u001b[39m: dataset_genres},\n\u001b[0;32m      7\u001b[0m     \u001b[38;5;124m\"\u001b[39m\u001b[38;5;124mSystem4\u001b[39m\u001b[38;5;124m\"\u001b[39m: {\u001b[38;5;124m\"\u001b[39m\u001b[38;5;124mquery_genre\u001b[39m\u001b[38;5;124m\"\u001b[39m: query_genre2, \u001b[38;5;124m\"\u001b[39m\u001b[38;5;124mretrieved_genres\u001b[39m\u001b[38;5;124m\"\u001b[39m: q2_genres_musicnn, \u001b[38;5;124m\"\u001b[39m\u001b[38;5;124mdataset_genres\u001b[39m\u001b[38;5;124m\"\u001b[39m: dataset_genres},\n\u001b[0;32m      8\u001b[0m     \u001b[38;5;124m\"\u001b[39m\u001b[38;5;124mSystem5\u001b[39m\u001b[38;5;124m\"\u001b[39m: {\u001b[38;5;124m\"\u001b[39m\u001b[38;5;124mquery_genre\u001b[39m\u001b[38;5;124m\"\u001b[39m: query_genre2, \u001b[38;5;124m\"\u001b[39m\u001b[38;5;124mretrieved_genres\u001b[39m\u001b[38;5;124m\"\u001b[39m: q2_genres_tfidf, \u001b[38;5;124m\"\u001b[39m\u001b[38;5;124mdataset_genres\u001b[39m\u001b[38;5;124m\"\u001b[39m: dataset_genres},\n\u001b[0;32m      9\u001b[0m     \u001b[38;5;124m\"\u001b[39m\u001b[38;5;124mSystem6\u001b[39m\u001b[38;5;124m\"\u001b[39m: {\u001b[38;5;124m\"\u001b[39m\u001b[38;5;124mquery_genre\u001b[39m\u001b[38;5;124m\"\u001b[39m: query_genre2, \u001b[38;5;124m\"\u001b[39m\u001b[38;5;124mretrieved_genres\u001b[39m\u001b[38;5;124m\"\u001b[39m: q2_genres_word2vec, \u001b[38;5;124m\"\u001b[39m\u001b[38;5;124mdataset_genres\u001b[39m\u001b[38;5;124m\"\u001b[39m: dataset_genres},\n\u001b[0;32m     10\u001b[0m     \u001b[38;5;124m\"\u001b[39m\u001b[38;5;124mSystem7\u001b[39m\u001b[38;5;124m\"\u001b[39m: {\u001b[38;5;124m\"\u001b[39m\u001b[38;5;124mquery_genre\u001b[39m\u001b[38;5;124m\"\u001b[39m: query_genre2, \u001b[38;5;124m\"\u001b[39m\u001b[38;5;124mretrieved_genres\u001b[39m\u001b[38;5;124m\"\u001b[39m: q2_genres_bert, \u001b[38;5;124m\"\u001b[39m\u001b[38;5;124mdataset_genres\u001b[39m\u001b[38;5;124m\"\u001b[39m: dataset_genres},\n\u001b[0;32m     11\u001b[0m     \u001b[38;5;124m\"\u001b[39m\u001b[38;5;124mSystem8\u001b[39m\u001b[38;5;124m\"\u001b[39m: {\u001b[38;5;124m\"\u001b[39m\u001b[38;5;124mquery_genre\u001b[39m\u001b[38;5;124m\"\u001b[39m: query_genre2, \u001b[38;5;124m\"\u001b[39m\u001b[38;5;124mretrieved_genres\u001b[39m\u001b[38;5;124m\"\u001b[39m: q2_genres_random, \u001b[38;5;124m\"\u001b[39m\u001b[38;5;124mdataset_genres\u001b[39m\u001b[38;5;124m\"\u001b[39m: dataset_genres},\n\u001b[0;32m     12\u001b[0m }\n\u001b[0;32m     14\u001b[0m \u001b[38;5;66;03m#Vary k from 1 to 100\u001b[39;00m\n\u001b[0;32m     15\u001b[0m k_values \u001b[38;5;241m=\u001b[39m \u001b[38;5;28mlist\u001b[39m(\u001b[38;5;28mrange\u001b[39m(\u001b[38;5;241m1\u001b[39m, \u001b[38;5;241m100\u001b[39m))\n",
      "\u001b[1;31mNameError\u001b[0m: name 'query_genre2' is not defined"
     ]
    }
   ],
   "source": [
    "#plot precision recall curve for query track2 for all evaluated systems\n",
    "\n",
    "system_data = {\n",
    "    \"System1\": {\"query_genre\": query_genre2, \"retrieved_genres\": q2_genres_mfcc_stats, \"dataset_genres\": dataset_genres},\n",
    "    \"System2\": {\"query_genre\": query_genre2, \"retrieved_genres\": q2_genres_blf_correlation, \"dataset_genres\": dataset_genres},\n",
    "    \"System3\": {\"query_genre\": query_genre2, \"retrieved_genres\": q2_genres_ivec256, \"dataset_genres\": dataset_genres},\n",
    "    \"System4\": {\"query_genre\": query_genre2, \"retrieved_genres\": q2_genres_musicnn, \"dataset_genres\": dataset_genres},\n",
    "    \"System5\": {\"query_genre\": query_genre2, \"retrieved_genres\": q2_genres_tfidf, \"dataset_genres\": dataset_genres},\n",
    "    \"System6\": {\"query_genre\": query_genre2, \"retrieved_genres\": q2_genres_word2vec, \"dataset_genres\": dataset_genres},\n",
    "    \"System7\": {\"query_genre\": query_genre2, \"retrieved_genres\": q2_genres_bert, \"dataset_genres\": dataset_genres},\n",
    "    \"System8\": {\"query_genre\": query_genre2, \"retrieved_genres\": q2_genres_random, \"dataset_genres\": dataset_genres},\n",
    "}\n",
    "\n",
    "#Vary k from 1 to 100\n",
    "k_values = list(range(1, 100))\n",
    "\n",
    "for system_name, system_info in system_data.items():\n",
    "    precisions = []\n",
    "    recalls = []\n",
    "\n",
    "    for k in k_values:\n",
    "        precision = calculate_precision_at_k(system_info[\"query_genre\"], system_info[\"retrieved_genres\"], k)\n",
    "        recall = calculate_recall_at_k(system_info[\"query_genre\"], system_info[\"retrieved_genres\"], system_info[\"dataset_genres\"], k)\n",
    "\n",
    "        precisions.append(precision)\n",
    "        recalls.append(recall)\n",
    "\n",
    "    plt.plot(recalls, precisions, label=system_name)\n",
    "\n",
    "# Add labels and legend\n",
    "plt.xlabel(\"Recall\")\n",
    "plt.ylabel(\"Precision\")\n",
    "plt.title(\"Precision-Recall Curve for Evaluated Systems\")\n",
    "plt.legend()\n",
    "\n",
    "plt.show()"
   ]
  },
  {
   "cell_type": "code",
   "execution_count": null,
   "id": "ec188e4a",
   "metadata": {},
   "outputs": [],
   "source": [
    "display_res(res[\"track2\"][\"mfcc_bow\"][\"cos_sim\"], info)"
   ]
  },
  {
   "cell_type": "code",
   "execution_count": null,
   "id": "846cc372",
   "metadata": {},
   "outputs": [],
   "source": [
    "display_res(res[\"track2\"][\"mfcc_stats\"][\"cos_sim\"], info)"
   ]
  },
  {
   "cell_type": "code",
   "execution_count": null,
   "id": "645f0542",
   "metadata": {},
   "outputs": [],
   "source": [
    "display_res(res[\"track2\"][\"base_line\"], info)"
   ]
  },
  {
   "cell_type": "markdown",
   "id": "6bf2e082",
   "metadata": {},
   "source": [
    "## Track 3"
   ]
  },
  {
   "cell_type": "markdown",
   "id": "f5b0ae61",
   "metadata": {},
   "source": [
    "\"Every Christmas\" \"Kelly Clarkson\""
   ]
  },
  {
   "cell_type": "code",
   "execution_count": 85,
   "id": "c156fd26",
   "metadata": {},
   "outputs": [],
   "source": [
    "name = 'Every Christmas'\n",
    "artist = 'Kelly Clarkson'\n",
    "id_track3 = get_id_from_info(name, artist, info)"
   ]
  },
  {
   "cell_type": "code",
   "execution_count": 86,
   "id": "02a4e6a3",
   "metadata": {},
   "outputs": [],
   "source": [
    "res[\"track3\"][\"mfcc_bow\"][\"cos_sim\"] = audio_based(id=id_track3, repr=mfcc_bow, N=10, sim_func=cos_sim)"
   ]
  },
  {
   "cell_type": "code",
   "execution_count": 87,
   "id": "f7d6f91b",
   "metadata": {},
   "outputs": [],
   "source": [
    "res[\"track3\"][\"mfcc_stats\"][\"cos_sim\"] = audio_based(id=id_track3, repr=mfcc_stats, N=10, sim_func=cos_sim)"
   ]
  },
  {
   "cell_type": "code",
   "execution_count": 88,
   "id": "d29fc1d0",
   "metadata": {},
   "outputs": [
    {
     "data": {
      "text/plain": [
       "[('9ScGeeaW8XcxgePd', \"['pop']\")]"
      ]
     },
     "execution_count": 88,
     "metadata": {},
     "output_type": "execute_result"
    }
   ],
   "source": [
    "query_genre3 = get_genre_from_query(id_track3, genres)\n",
    "query_genre3"
   ]
  },
  {
   "cell_type": "code",
   "execution_count": 90,
   "id": "8a0bc077",
   "metadata": {},
   "outputs": [],
   "source": [
    "#retrieve 100 results (audio based)\n",
    "q3_genres_mfcc_stats = get_genre_from_ids(audio_based(id=id_track3, repr=mfcc_stats, N=100, sim_func=cos_sim), genres)\n",
    "q3_genres_blf_correlation = get_genre_from_ids(audio_based(id=id_track3, repr=blf_correlation, N=100, sim_func=cos_sim), genres)\n",
    "q3_genres_ivec256 = get_genre_from_ids(audio_based(id=id_track3, repr=ivec256, N=100, sim_func=cos_sim), genres)\n",
    "q3_genres_musicnn = get_genre_from_ids(audio_based(id=id_track3, repr=musicnn, N=100, sim_func=cos_sim), genres)\n",
    "#retrieve 100 results text based\n",
    "q3_genres_tfidf = get_genre_from_ids(text_based(id=id_track3, repr=tfidf, N=100, sim_func=cos_sim), genres)\n",
    "q3_genres_word2vec = get_genre_from_ids(text_based(id=id_track3, repr=word2vec, N=100, sim_func=cos_sim),genres)\n",
    "q3_genres_bert =  get_genre_from_ids(text_based(id=id_track3, repr=bert, N=100, sim_func=cos_sim),genres)\n",
    "q3_genres_random = get_genre_from_ids(random_baseline(id=id_track3, info=info, N=100),genres)\n",
    "\n",
    "q3_genres_mfcc_stats10 = get_genre_from_ids(audio_based(id=id_track3, repr=mfcc_stats, N=10, sim_func=cos_sim), genres)"
   ]
  },
  {
   "cell_type": "code",
   "execution_count": null,
   "id": "a84f6fde",
   "metadata": {},
   "outputs": [],
   "source": [
    "#plot precision recall curve for query track3 for all evaluated systems\n",
    "\n",
    "system_data = {\n",
    "    \"System1\": {\"query_genre\": query_genre3, \"retrieved_genres\": q3_genres_mfcc_stats, \"dataset_genres\": dataset_genres},\n",
    "    \"System2\": {\"query_genre\": query_genre3, \"retrieved_genres\": q3_genres_blf_correlation, \"dataset_genres\": dataset_genres},\n",
    "    \"System3\": {\"query_genre\": query_genre3, \"retrieved_genres\": q3_genres_ivec256, \"dataset_genres\": dataset_genres},\n",
    "    \"System4\": {\"query_genre\": query_genre3, \"retrieved_genres\": q3_genres_musicnn, \"dataset_genres\": dataset_genres},\n",
    "    \"System5\": {\"query_genre\": query_genre3, \"retrieved_genres\": q3_genres_tfidf, \"dataset_genres\": dataset_genres},\n",
    "    \"System6\": {\"query_genre\": query_genre3, \"retrieved_genres\": q3_genres_word2vec, \"dataset_genres\": dataset_genres},\n",
    "    \"System7\": {\"query_genre\": query_genre3, \"retrieved_genres\": q3_genres_bert, \"dataset_genres\": dataset_genres},\n",
    "    \"System8\": {\"query_genre\": query_genre3, \"retrieved_genres\": q3_genres_random, \"dataset_genres\": dataset_genres},\n",
    "}\n",
    "\n",
    "#Vary k from 1 to 100\n",
    "k_values = list(range(1, 100))\n",
    "\n",
    "for system_name, system_info in system_data.items():\n",
    "    precisions = []\n",
    "    recalls = []\n",
    "\n",
    "    for k in k_values:\n",
    "        precision = calculate_precision_at_k(system_info[\"query_genre\"], system_info[\"retrieved_genres\"], k)\n",
    "        recall = calculate_recall_at_k(system_info[\"query_genre\"], system_info[\"retrieved_genres\"], system_info[\"dataset_genres\"], k)\n",
    "\n",
    "        precisions.append(precision)\n",
    "        recalls.append(recall)\n",
    "\n",
    "    plt.plot(recalls, precisions, label=system_name)\n",
    "\n",
    "# Add labels and legend\n",
    "plt.xlabel(\"Recall\")\n",
    "plt.ylabel(\"Precision\")\n",
    "plt.title(\"Precision-Recall Curve for Evaluated Systems\")\n",
    "plt.legend()\n",
    "\n",
    "plt.show()"
   ]
  },
  {
   "cell_type": "code",
   "execution_count": null,
   "id": "7097ae4f",
   "metadata": {},
   "outputs": [],
   "source": [
    "p3 = calculate_precision(query_genre3, retrieved_genres3)\n",
    "p3"
   ]
  },
  {
   "cell_type": "code",
   "execution_count": null,
   "id": "78c50410",
   "metadata": {},
   "outputs": [],
   "source": [
    "r3 = calculate_recall(query_genre3, retrieved_genres3, dataset_genres)\n",
    "r3"
   ]
  },
  {
   "cell_type": "code",
   "execution_count": null,
   "id": "b45daced",
   "metadata": {},
   "outputs": [],
   "source": [
    "display_res(res[\"track3\"][\"mfcc_bow\"][\"cos_sim\"], info)"
   ]
  },
  {
   "cell_type": "code",
   "execution_count": null,
   "id": "1adde100",
   "metadata": {},
   "outputs": [],
   "source": [
    "display_res(res[\"track3\"][\"mfcc_stats\"][\"cos_sim\"], info)"
   ]
  },
  {
   "cell_type": "markdown",
   "id": "558ad1f3",
   "metadata": {},
   "source": [
    "# Accuracy"
   ]
  },
  {
   "cell_type": "code",
   "execution_count": 92,
   "id": "778d212a",
   "metadata": {},
   "outputs": [
    {
     "data": {
      "text/plain": [
       "0.6666666666666666"
      ]
     },
     "execution_count": 92,
     "metadata": {},
     "output_type": "execute_result"
    }
   ],
   "source": [
    "#Average precision for all 3 Query tracks mfcc_stats, K = 10\n",
    "p1 = calculate_precision_at_k(query_genre1,q1_genres_mfcc_stats,10)\n",
    "p2 = calculate_precision_at_k(query_genre2,q2_genres_mfcc_stats,10)\n",
    "p3 = calculate_precision_at_k(query_genre3,q3_genres_mfcc_stats,10)\n",
    "average_precision(p1, p2, p3)"
   ]
  },
  {
   "cell_type": "code",
   "execution_count": 91,
   "id": "6b071b24",
   "metadata": {},
   "outputs": [
    {
     "data": {
      "text/plain": [
       "0.001098228504246014"
      ]
     },
     "execution_count": 91,
     "metadata": {},
     "output_type": "execute_result"
    }
   ],
   "source": [
    "#Average recall for all 3 Query tracks mfcc_stats, K = 10\n",
    "r1 = calculate_recall_at_k(query_genre1,q1_genres_mfcc_stats, dataset_genres, 10)\n",
    "r2 = calculate_recall_at_k(query_genre2,q2_genres_mfcc_stats, dataset_genres, 10)\n",
    "r3 = calculate_recall_at_k(query_genre3,q3_genres_mfcc_stats, dataset_genres, 10)\n",
    "average_recall(r1, r2, r3)"
   ]
  },
  {
   "cell_type": "code",
   "execution_count": null,
   "id": "3487c866",
   "metadata": {},
   "outputs": [],
   "source": []
  }
 ],
 "metadata": {
  "kernelspec": {
   "display_name": "Python 3 (ipykernel)",
   "language": "python",
   "name": "python3"
  },
  "language_info": {
   "codemirror_mode": {
    "name": "ipython",
    "version": 3
   },
   "file_extension": ".py",
   "mimetype": "text/x-python",
   "name": "python",
   "nbconvert_exporter": "python",
   "pygments_lexer": "ipython3",
   "version": "3.9.12"
  }
 },
 "nbformat": 4,
 "nbformat_minor": 5
}
