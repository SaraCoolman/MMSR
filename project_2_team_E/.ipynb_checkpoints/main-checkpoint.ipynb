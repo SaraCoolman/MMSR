{
 "cells": [
  {
   "cell_type": "markdown",
   "id": "e35b9525",
   "metadata": {},
   "source": [
    "# Task 1 Simple Text-based Similarity and Retrieval"
   ]
  },
  {
   "cell_type": "markdown",
   "id": "2006f989",
   "metadata": {},
   "source": [
    "### Team E\n",
    "Version 1.0.1\n",
    "Date: 14/11/2023"
   ]
  },
  {
   "cell_type": "markdown",
   "id": "5c6729f5",
   "metadata": {},
   "source": [
    "## Import Libraries  "
   ]
  },
  {
   "cell_type": "code",
   "execution_count": 51,
   "id": "858c3296",
   "metadata": {},
   "outputs": [],
   "source": [
    "import pandas as pd\n",
    "import numpy as np\n",
    "import statistics as st"
   ]
  },
  {
   "cell_type": "code",
   "execution_count": 2,
   "id": "d6614d1e",
   "metadata": {},
   "outputs": [],
   "source": [
    "from ret import read_data # utility func to load data\n",
    "from ret import get_id_from_info # utility func to return id by entering song's info\n",
    "from ret import display_res # utility func to display results \n",
    "from ret import audio_based # modularized text based retrieval system\n",
    "from ret import random_baseline # base line retrieval system that returns random results \n",
    "from ret import cos_sim # wrapper function to calculate cosine similarity\n",
    "from ret import euc_sim # wrapper function to calculate euclidean similarity \n",
    "from ret import get_info_from_ids #utility func to return infro from id\n",
    "from ret import get_genre_from_ids \n",
    "from ret import get_genre_from_query\n",
    "from ret import calculate_precision \n",
    "from ret import calculate_recall\n",
    "from ret import count_relevant_songs_in_dataset\n",
    "from ret import count_relevant_songs_in_result"
   ]
  },
  {
   "cell_type": "markdown",
   "id": "28642a4c",
   "metadata": {},
   "source": [
    "## Load Data"
   ]
  },
  {
   "cell_type": "code",
   "execution_count": 3,
   "id": "c76b9179",
   "metadata": {},
   "outputs": [
    {
     "data": {
      "text/html": [
       "<div>\n",
       "<style scoped>\n",
       "    .dataframe tbody tr th:only-of-type {\n",
       "        vertical-align: middle;\n",
       "    }\n",
       "\n",
       "    .dataframe tbody tr th {\n",
       "        vertical-align: top;\n",
       "    }\n",
       "\n",
       "    .dataframe thead th {\n",
       "        text-align: right;\n",
       "    }\n",
       "</style>\n",
       "<table border=\"1\" class=\"dataframe\">\n",
       "  <thead>\n",
       "    <tr style=\"text-align: right;\">\n",
       "      <th></th>\n",
       "      <th>id</th>\n",
       "      <th>genre</th>\n",
       "    </tr>\n",
       "  </thead>\n",
       "  <tbody>\n",
       "    <tr>\n",
       "      <th>0</th>\n",
       "      <td>01Yfj2T3YTwJ1Yfy</td>\n",
       "      <td>['rock', 'christian rock']</td>\n",
       "    </tr>\n",
       "    <tr>\n",
       "      <th>1</th>\n",
       "      <td>01gyRHLquwXDlhkO</td>\n",
       "      <td>['hip hop', 'rap', 'grindcore', 'death metal']</td>\n",
       "    </tr>\n",
       "    <tr>\n",
       "      <th>2</th>\n",
       "      <td>01rMxQv6vhyE1oQX</td>\n",
       "      <td>['rock', 'pop punk']</td>\n",
       "    </tr>\n",
       "    <tr>\n",
       "      <th>3</th>\n",
       "      <td>02RGE9FNH65RtMS7</td>\n",
       "      <td>['trance', 'techno', 'progressive trance']</td>\n",
       "    </tr>\n",
       "    <tr>\n",
       "      <th>4</th>\n",
       "      <td>02ZnlCGZEbkfCDxo</td>\n",
       "      <td>['pop', 'italian pop', 'latin', 'europop', 'am...</td>\n",
       "    </tr>\n",
       "    <tr>\n",
       "      <th>...</th>\n",
       "      <td>...</td>\n",
       "      <td>...</td>\n",
       "    </tr>\n",
       "    <tr>\n",
       "      <th>10089</th>\n",
       "      <td>zyzILCQvVeUFIINi</td>\n",
       "      <td>['rock', 'pop', 'indie rock', 'folk rock', 'ne...</td>\n",
       "    </tr>\n",
       "    <tr>\n",
       "      <th>10090</th>\n",
       "      <td>zzgS4ZqyswamEWNj</td>\n",
       "      <td>['pop', 'rock', 'teen pop', 'soundtrack', 'sin...</td>\n",
       "    </tr>\n",
       "    <tr>\n",
       "      <th>10091</th>\n",
       "      <td>zzoFYDMlqU1X2zz1</td>\n",
       "      <td>['jazz', 'jazz fusion']</td>\n",
       "    </tr>\n",
       "    <tr>\n",
       "      <th>10092</th>\n",
       "      <td>zzpkRCGA5ud8q4mv</td>\n",
       "      <td>['soul', 'blues', 'r b', 'blues rock', 'southe...</td>\n",
       "    </tr>\n",
       "    <tr>\n",
       "      <th>10093</th>\n",
       "      <td>zzx8CWdM7qkxKQpC</td>\n",
       "      <td>['indie rock', 'rock', 'alternative rock', 'in...</td>\n",
       "    </tr>\n",
       "  </tbody>\n",
       "</table>\n",
       "<p>10094 rows × 2 columns</p>\n",
       "</div>"
      ],
      "text/plain": [
       "                     id                                              genre\n",
       "0      01Yfj2T3YTwJ1Yfy                         ['rock', 'christian rock']\n",
       "1      01gyRHLquwXDlhkO     ['hip hop', 'rap', 'grindcore', 'death metal']\n",
       "2      01rMxQv6vhyE1oQX                               ['rock', 'pop punk']\n",
       "3      02RGE9FNH65RtMS7         ['trance', 'techno', 'progressive trance']\n",
       "4      02ZnlCGZEbkfCDxo  ['pop', 'italian pop', 'latin', 'europop', 'am...\n",
       "...                 ...                                                ...\n",
       "10089  zyzILCQvVeUFIINi  ['rock', 'pop', 'indie rock', 'folk rock', 'ne...\n",
       "10090  zzgS4ZqyswamEWNj  ['pop', 'rock', 'teen pop', 'soundtrack', 'sin...\n",
       "10091  zzoFYDMlqU1X2zz1                            ['jazz', 'jazz fusion']\n",
       "10092  zzpkRCGA5ud8q4mv  ['soul', 'blues', 'r b', 'blues rock', 'southe...\n",
       "10093  zzx8CWdM7qkxKQpC  ['indie rock', 'rock', 'alternative rock', 'in...\n",
       "\n",
       "[10094 rows x 2 columns]"
      ]
     },
     "execution_count": 3,
     "metadata": {},
     "output_type": "execute_result"
    }
   ],
   "source": [
    "\"\"\"\n",
    "Please put data files in \"\"./data/\" before use \n",
    "\"\"\"\n",
    "\n",
    "info = read_data(\"information\")\n",
    "mfcc_stats = read_data(\"mfcc_stats\")\n",
    "mfcc_bow = read_data(\"mfcc_bow\")\n",
    "genres = read_data(\"genres\")\n",
    "\n",
    "genres"
   ]
  },
  {
   "cell_type": "code",
   "execution_count": 6,
   "id": "cba2b1ce",
   "metadata": {},
   "outputs": [],
   "source": [
    "dataset_genres = genres.values.tolist()\n"
   ]
  },
  {
   "cell_type": "code",
   "execution_count": 79,
   "id": "b65ca0da",
   "metadata": {},
   "outputs": [],
   "source": [
    "def average_recall(r1, r2, r3):\n",
    "    recalls = [r1,r2,r3]\n",
    "    average_recall = st.mean(recalls)\n",
    "    return average_recall"
   ]
  },
  {
   "cell_type": "markdown",
   "id": "a13ba797",
   "metadata": {},
   "source": [
    "## Dictionary to Store Results "
   ]
  },
  {
   "cell_type": "code",
   "execution_count": 7,
   "id": "f1e1b436",
   "metadata": {},
   "outputs": [],
   "source": [
    "\"\"\"\n",
    "Dict to store results:\n",
    "query format: res[\"trackTRACKNUMBER\"][\"REPRESENTATION\"][\"SIMILARITYFUNCTION\"]\n",
    "sample query: res[\"track1\"][\"tfidf\"][\"cos_sim\"]\n",
    "\n",
    "returns - list[str] \n",
    "list containing ids of a retrieved tracks \n",
    "\n",
    "After running, use display_res(res[\"trackTRACKNUMBER\"][\"REPRESENTATION\"][\"SIMILARITYFUNCTION\"],info) to display results\n",
    "e.g. display_res(res[\"track1\"][\"tfidf\"][\"cos_sim\"],info)\n",
    "\n",
    "\"\"\"\n",
    "res={\n",
    "    \"track1\": \n",
    "    {\n",
    "    \"base_line\": None,\n",
    "    \"mfcc_bow\":\n",
    "    {\n",
    "        \"cos_sim\": None,\n",
    "        \"euc_sim\": None\n",
    "    },\n",
    "    \"mfcc_stats\":\n",
    "    {\n",
    "        \"cos_sim\": None,\n",
    "        \"euc_sim\": None\n",
    "    }\n",
    "    },\n",
    "    \"track2\": \n",
    "    {\n",
    "    \"base_line\": None,\n",
    "    \"mfcc_bow\":\n",
    "    {\n",
    "        \"cos_sim\": None,\n",
    "        \"euc_sim\": None\n",
    "    },\n",
    "    \"mfcc_stats\":\n",
    "    {\n",
    "        \"cos_sim\": None,\n",
    "        \"euc_sim\": None\n",
    "    }\n",
    "    },\n",
    "    \"track3\": \n",
    "    {\n",
    "    \"base_line\": None,\n",
    "    \"mfcc_bow\":\n",
    "    {\n",
    "        \"cos_sim\": None,\n",
    "        \"euc_sim\": None\n",
    "    },\n",
    "    \"mfcc_stats\":\n",
    "    {\n",
    "        \"cos_sim\": None,\n",
    "        \"euc_sim\": None\n",
    "    }\n",
    "    \n",
    "}\n",
    "}"
   ]
  },
  {
   "cell_type": "markdown",
   "id": "1471ae3f",
   "metadata": {},
   "source": [
    "## Track 1 \n",
    "\"Love Me\" \"The 1975\""
   ]
  },
  {
   "cell_type": "code",
   "execution_count": 8,
   "id": "7c602738",
   "metadata": {},
   "outputs": [
    {
     "data": {
      "text/plain": [
       "'rTXO5VOLQGcypcmB'"
      ]
     },
     "execution_count": 8,
     "metadata": {},
     "output_type": "execute_result"
    }
   ],
   "source": [
    "name = \"Love Me\"\n",
    "artist = \"The 1975\"\n",
    "id_track1 = get_id_from_info(name, artist, info)\n",
    "id_track1"
   ]
  },
  {
   "cell_type": "code",
   "execution_count": 9,
   "id": "a6e599d2",
   "metadata": {},
   "outputs": [],
   "source": [
    "res[\"track1\"][\"mfcc_bow\"][\"cos_sim\"] = audio_based(id=id_track1, repr=mfcc_bow, N=10, sim_func=cos_sim)"
   ]
  },
  {
   "cell_type": "code",
   "execution_count": 10,
   "id": "6fd93e5f",
   "metadata": {},
   "outputs": [],
   "source": [
    "res[\"track1\"][\"mfcc_stats\"][\"cos_sim\"] = audio_based(id=id_track1, repr=mfcc_stats, N=10, sim_func=cos_sim)"
   ]
  },
  {
   "cell_type": "code",
   "execution_count": 11,
   "id": "b0016942",
   "metadata": {},
   "outputs": [
    {
     "data": {
      "text/plain": [
       "[('rTXO5VOLQGcypcmB',\n",
       "  \"['pop', 'rock', 'indie pop', 'electropop', 'indie rock', 'funk', 'funk rock']\")]"
      ]
     },
     "execution_count": 11,
     "metadata": {},
     "output_type": "execute_result"
    }
   ],
   "source": [
    "query_genre = get_genre_from_query(id_track1, genres)\n",
    "retrieved_genres = get_genre_from_ids(audio_based(id=id_track1, repr=mfcc_stats, N=10, sim_func=cos_sim), genres)\n",
    "query_genre"
   ]
  },
  {
   "cell_type": "code",
   "execution_count": 18,
   "id": "069367cc",
   "metadata": {},
   "outputs": [
    {
     "data": {
      "text/plain": [
       "0.9"
      ]
     },
     "execution_count": 18,
     "metadata": {},
     "output_type": "execute_result"
    }
   ],
   "source": [
    "p1 = calculate_precision(query_genre, retrieved_genres)\n",
    "p1"
   ]
  },
  {
   "cell_type": "code",
   "execution_count": 13,
   "id": "d030483d",
   "metadata": {},
   "outputs": [
    {
     "data": {
      "text/plain": [
       "[('XXShp3IW8QBbI6AU', \"['soul', 'dance pop']\"),\n",
       " ('pNUcTH7vMfVZ7yYs', \"['pop', 'rain', 'europop']\"),\n",
       " ('51XYIfDaAUgQXb5u',\n",
       "  \"['pop', 'disco', 'europop', 'rock', 'pop rock', 'classic rock', 'dance pop', 'soft rock', 'swedish pop']\"),\n",
       " ('CZuApL1gKvIynMwO',\n",
       "  \"['pop', 'dance pop', 'electropop', 'hip hop', 'anthem']\"),\n",
       " ('CMoYcyU4kMOa3sVY', \"['ukulele', 'rock', 'alternative rock', 'pop rock']\"),\n",
       " ('DCuWGUQBdWiIXEkR', \"['pop', 'latin', 'latin pop', 'teen pop']\"),\n",
       " ('2K0JDCBAlEvRXqrl',\n",
       "  \"['rock', 'alternative rock', 'indie rock', 'experimental', 'dub', 'indietronica', 'alternative dance', 'art pop']\"),\n",
       " ('zLIZEr0zFataPTEI', \"['pop', 'soul', 'singer songwriter', 'r b']\"),\n",
       " ('4RsPg7cccVfV7BWQ', \"['rock', 'jazz pop']\"),\n",
       " ('mxKahNL0muWgijyX',\n",
       "  \"['pop', 'rock', 'pop rock', 'punk', 'alternative rock', 'anarcho punk', 'dance pop', 'alternative dance', 'dance punk', 'europop', 'acid house']\")]"
      ]
     },
     "execution_count": 13,
     "metadata": {},
     "output_type": "execute_result"
    }
   ],
   "source": [
    "retrieved_genres"
   ]
  },
  {
   "cell_type": "code",
   "execution_count": 14,
   "id": "5fa34884",
   "metadata": {},
   "outputs": [
    {
     "data": {
      "text/plain": [
       "7187"
      ]
     },
     "execution_count": 14,
     "metadata": {},
     "output_type": "execute_result"
    }
   ],
   "source": [
    "count_relevant_songs_in_dataset(query_genre,dataset_genres)"
   ]
  },
  {
   "cell_type": "code",
   "execution_count": 15,
   "id": "67312c8d",
   "metadata": {},
   "outputs": [
    {
     "data": {
      "text/plain": [
       "9"
      ]
     },
     "execution_count": 15,
     "metadata": {},
     "output_type": "execute_result"
    }
   ],
   "source": [
    "count_relevant_songs_in_result(query_genre,retrieved_genres)"
   ]
  },
  {
   "cell_type": "code",
   "execution_count": 68,
   "id": "d361f303",
   "metadata": {},
   "outputs": [
    {
     "data": {
      "text/plain": [
       "0.001252261026854042"
      ]
     },
     "execution_count": 68,
     "metadata": {},
     "output_type": "execute_result"
    }
   ],
   "source": [
    "r1 = calculate_recall(query_genre, retrieved_genres, dataset_genres)\n",
    "r1"
   ]
  },
  {
   "cell_type": "code",
   "execution_count": 78,
   "id": "d07a56fc",
   "metadata": {},
   "outputs": [
    {
     "name": "stdout",
     "output_type": "stream",
     "text": [
      "Name: High Horse                               Singer: Kacey Musgraves\n",
      "Name: SPRORGNSM                                Singer: Superorganism\n",
      "Name: Goin' Crazy                              Singer: Ashley Tisdale\n",
      "Name: Do Somethin'                             Singer: Britney Spears\n",
      "Name: Ni**as In Paris                          Singer: Jay-Z & Kanye West\n",
      "Name: Good... Good                             Singer: Belinda\n",
      "Name: Honey, Don't Kill My Vibe                Singer: YESEO\n",
      "Name: Girlfriend                               Singer: Bea Miller\n",
      "Name: Jealousy                                 Singer: Paris Hilton\n",
      "Name: No Time For Love                         Singer: Bryan Adams\n"
     ]
    }
   ],
   "source": [
    "display_res(res[\"track1\"][\"mfcc_bow\"][\"cos_sim\"], info)"
   ]
  },
  {
   "cell_type": "code",
   "execution_count": 20,
   "id": "3df467fe",
   "metadata": {},
   "outputs": [
    {
     "name": "stdout",
     "output_type": "stream",
     "text": [
      "Name: Falling for You                          Singer: Tamia\n",
      "Name: Sunshine on a Rainy Day                  Singer: Emma Bunton\n",
      "Name: Honey, Honey                             Singer: ABBA\n",
      "Name: Do You Wanna Come Over?                  Singer: Britney Spears\n",
      "Name: The Thoughts That Give Me the Creeps     Singer: Hellogoodbye\n",
      "Name: Good... Good                             Singer: Belinda\n",
      "Name: Everybody's Weird                        Singer: dEUS\n",
      "Name: Hesitation                               Singer: Stacie Orrico\n",
      "Name: Fm                                       Singer: Nathan Haines\n",
      "Name: Amnesia                                  Singer: Chumbawamba\n"
     ]
    }
   ],
   "source": [
    "display_res(res[\"track1\"][\"mfcc_stats\"][\"cos_sim\"], info)"
   ]
  },
  {
   "cell_type": "code",
   "execution_count": 21,
   "id": "c4439dcb",
   "metadata": {},
   "outputs": [
    {
     "name": "stdout",
     "output_type": "stream",
     "text": [
      "Name: Fahrenheit                               Singer: Toto\n",
      "Name: Trouble                                  Singer: Connie Converse\n",
      "Name: Hey Paul                                 Singer: The Pains of Being Pure at Heart\n",
      "Name: Yes I Know                               Singer: Memory Tapes\n",
      "Name: ERASER                                   Singer: Mondo Grosso\n",
      "Name: Feelin' Way Too Damn Good                Singer: Nickelback\n",
      "Name: Changes                                  Singer: The Zombies\n",
      "Name: The Man                                  Singer: The Killers\n",
      "Name: Measurements                             Singer: James Blake\n",
      "Name: Hooting & Howling                        Singer: Wild Beasts\n"
     ]
    }
   ],
   "source": [
    "display_res(res[\"track1\"][\"base_line\"], info)"
   ]
  },
  {
   "cell_type": "markdown",
   "id": "cceb476d",
   "metadata": {},
   "source": [
    "## Track 2 "
   ]
  },
  {
   "cell_type": "markdown",
   "id": "89bd5531",
   "metadata": {},
   "source": [
    "\"One\" \"U2\""
   ]
  },
  {
   "cell_type": "code",
   "execution_count": 30,
   "id": "c5011335",
   "metadata": {},
   "outputs": [],
   "source": [
    "name = 'One'\n",
    "artist = 'U2'\n",
    "id_track2 = get_id_from_info(name, artist, info)"
   ]
  },
  {
   "cell_type": "code",
   "execution_count": 31,
   "id": "dbf54e26",
   "metadata": {},
   "outputs": [],
   "source": [
    "res[\"track2\"][\"mfcc_bow\"][\"cos_sim\"] = audio_based(id=id_track2, repr=mfcc_bow, N=10, sim_func=cos_sim)"
   ]
  },
  {
   "cell_type": "code",
   "execution_count": 32,
   "id": "06eccb80",
   "metadata": {},
   "outputs": [],
   "source": [
    "res[\"track2\"][\"mfcc_stats\"][\"cos_sim\"] = audio_based(id=id_track2, repr=mfcc_stats, N=10, sim_func=cos_sim)"
   ]
  },
  {
   "cell_type": "code",
   "execution_count": 39,
   "id": "9e572b6b",
   "metadata": {},
   "outputs": [
    {
     "data": {
      "text/plain": [
       "[('Ddg8zi2tOooa4HH1',\n",
       "  \"['rock', 'classic rock', 'pop', 'alternative rock', 'soft rock', 'pop rock', 'easy listening', 'irish rock']\")]"
      ]
     },
     "execution_count": 39,
     "metadata": {},
     "output_type": "execute_result"
    }
   ],
   "source": [
    "query_genre2 = get_genre_from_query(id_track2, genres)\n",
    "retrieved_genres2 = get_genre_from_ids(audio_based(id=id_track2, repr=mfcc_stats, N=10, sim_func=cos_sim), genres)\n",
    "query_genre2"
   ]
  },
  {
   "cell_type": "code",
   "execution_count": 40,
   "id": "9ee175f2",
   "metadata": {},
   "outputs": [
    {
     "data": {
      "text/plain": [
       "[('neXpq2wNn2gu35iL',\n",
       "  \"['mpb', 'rock nacional', 'rock', 'pop rock', 'pop', 'electronica', 'latin', 'latin rock', 'latin pop']\"),\n",
       " ('vfliWivCfCT3LqCr',\n",
       "  \"['indie rock', 'rock', 'alternative rock', 'folk', 'indie pop', 'rock and roll']\"),\n",
       " ('CgmAyvJeQM7erUkr', \"['singer songwriter']\"),\n",
       " ('eZK0NP90z9y7FyrU',\n",
       "  \"['electro', 'electronica', 'electropop', 'pop', 'rock', 'math rock', 'indietronica', 'indie pop', 'new rave', 'synthpop', 'alternative dance']\"),\n",
       " ('FgrARDURDDmwl5nT',\n",
       "  \"['emo', 'rock', 'indie rock', 'singer songwriter', 'soft rock', 'pop', 'punk', 'alternative rock', 'folk', 'gothic rock']\"),\n",
       " ('BZRLcghyu0eSrkV6',\n",
       "  \"['rock', 'pop', 'pop rock', 'alternative rock', 'soft rock']\"),\n",
       " ('bTcgazquJmGJzp0D',\n",
       "  \"['folk', 'singer songwriter', 'folk rock', 'rock', 'poetry', 'blues']\"),\n",
       " ('OwRx3TAJLm4dPu4U', \"['indie rock']\"),\n",
       " ('oRU3mzhGkqNswVIi', \"['indie folk', 'folk', 'supergroup']\"),\n",
       " ('sCfs1FcbW6TFm0UM', \"['shoegaze', 'dream pop']\")]"
      ]
     },
     "execution_count": 40,
     "metadata": {},
     "output_type": "execute_result"
    }
   ],
   "source": [
    "retrieved_genres2"
   ]
  },
  {
   "cell_type": "code",
   "execution_count": 36,
   "id": "354a13df",
   "metadata": {},
   "outputs": [
    {
     "data": {
      "text/plain": [
       "0.6"
      ]
     },
     "execution_count": 36,
     "metadata": {},
     "output_type": "execute_result"
    }
   ],
   "source": [
    "p2 = calculate_precision(query_genre2, retrieved_genres2)\n",
    "p2"
   ]
  },
  {
   "cell_type": "code",
   "execution_count": 63,
   "id": "42ed5ad8",
   "metadata": {},
   "outputs": [],
   "source": [
    "r2 = calculate_recall(query_genre2, retrieved_genres2, dataset_genres)"
   ]
  },
  {
   "cell_type": "code",
   "execution_count": 122,
   "id": "dac129a9",
   "metadata": {},
   "outputs": [],
   "source": [
    "def compute_genre_distribution(query_genre, retrieved_result):\n",
    "    # Get unique genres in the dataset\n",
    "    all_genres = set()\n",
    "\n",
    "    # Update genre distribution based on the query genre\n",
    "    query_genres = set(eval(query_genre[0][1]))\n",
    "    for genre in query_genres:\n",
    "        all_genres.add(genre)\n",
    "\n",
    "    # Initialize genre distribution vector with zeros\n",
    "    genre_distribution = {genre: 0.0 for genre in all_genres}\n",
    "\n",
    "    # Update genre distribution based on the query genre\n",
    "    for genre in query_genres:\n",
    "        genre_distribution[genre] += 1.0\n",
    "\n",
    "    # Update genre distribution based on the retrieved tracks\n",
    "    for _, retrieved_genres_str in retrieved_result:\n",
    "        retrieved_genres = set(eval(retrieved_genres_str))\n",
    "        for genre in retrieved_genres:\n",
    "            if genre in all_genres:\n",
    "                genre_distribution[genre] += 1.0 / len(retrieved_result)\n",
    "\n",
    "    # Convert genre distribution to a list of tuples\n",
    "    genre_distribution_list = [(genre, value) for genre, value in genre_distribution.items()]\n",
    "\n",
    "    return genre_distribution_list"
   ]
  },
  {
   "cell_type": "code",
   "execution_count": 123,
   "id": "dee21938",
   "metadata": {},
   "outputs": [
    {
     "data": {
      "text/plain": [
       "[('rock', 1.6000000000000005), ('christian rock', 1.0)]"
      ]
     },
     "execution_count": 123,
     "metadata": {},
     "output_type": "execute_result"
    }
   ],
   "source": [
    "compute_genre_distribution(query_genre2,retrieved_genres2)"
   ]
  },
  {
   "cell_type": "code",
   "execution_count": 113,
   "id": "ec188e4a",
   "metadata": {},
   "outputs": [
    {
     "name": "stdout",
     "output_type": "stream",
     "text": [
      "Name: Animals                                  Singer: Ice Nine Kills\n",
      "Name: Sleepwalk Capsules                       Singer: At the Drive-In\n",
      "Name: Caveman                                  Singer: Angra\n",
      "Name: Light In The Cave                        Singer: I See Stars\n",
      "Name: You Better Pray                          Singer: The Red Jumpsuit Apparatus\n",
      "Name: Drown Me Out                             Singer: Andy Black\n",
      "Name: Pain                                     Singer: Of Mice & Men\n",
      "Name: Thrown Into the Fire                     Singer: Trivium\n",
      "Name: Act of Desperation                       Singer: Amaranthe\n",
      "Name: Supersonic                               Singer: Bad Religion\n"
     ]
    }
   ],
   "source": [
    "display_res(res[\"track2\"][\"mfcc_bow\"][\"cos_sim\"], info)"
   ]
  },
  {
   "cell_type": "code",
   "execution_count": 78,
   "id": "846cc372",
   "metadata": {},
   "outputs": [
    {
     "name": "stdout",
     "output_type": "stream",
     "text": [
      "Name: The Heart of Everything                  Singer: Within Temptation\n",
      "Name: Cactus                                   Singer: David Bowie\n",
      "Name: Local Man Ruins Everything               Singer: The Wonder Years\n",
      "Name: Unknown Soldier                          Singer: Breaking Benjamin\n",
      "Name: Broken Promises                          Singer: Element Eighty\n",
      "Name: Geraldine                                Singer: Glasvegas\n",
      "Name: Call My Name                             Singer: In Flames\n",
      "Name: Start a Fire                             Singer: Ryan Star\n",
      "Name: Someone Who Does                         Singer: Issues\n",
      "Name: My Revenge                               Singer: Bury Tomorrow\n"
     ]
    }
   ],
   "source": [
    "display_res(res[\"track2\"][\"mfcc_stats\"][\"cos_sim\"], info)"
   ]
  },
  {
   "cell_type": "code",
   "execution_count": 79,
   "id": "645f0542",
   "metadata": {},
   "outputs": [
    {
     "name": "stdout",
     "output_type": "stream",
     "text": [
      "Name: Own Worst Enemy                          Singer: Yonaka\n",
      "Name: Dr. Troll                                Singer: Xiu Xiu\n",
      "Name: Time                                     Singer: Pink Floyd\n",
      "Name: Tanngrisnir                              Singer: Windhand\n",
      "Name: Hai Bby                                  Singer: The Bilinda Butchers\n",
      "Name: Tie Me Up! Untie Me!                     Singer: mewithoutYou\n",
      "Name: Give It Up                               Singer: Etherwood\n",
      "Name: Tha Shiznit                              Singer: Snoop Dogg\n",
      "Name: Black Crow Blues                         Singer: Bob Dylan\n",
      "Name: Ballad Of A Teenage Queen                Singer: Johnny Cash\n"
     ]
    }
   ],
   "source": [
    "display_res(res[\"track2\"][\"base_line\"], info)"
   ]
  },
  {
   "cell_type": "markdown",
   "id": "6bf2e082",
   "metadata": {},
   "source": [
    "## Track 3"
   ]
  },
  {
   "cell_type": "markdown",
   "id": "f5b0ae61",
   "metadata": {},
   "source": [
    "\"Every Christmas\" \"Kelly Clarkson\""
   ]
  },
  {
   "cell_type": "code",
   "execution_count": 57,
   "id": "c156fd26",
   "metadata": {},
   "outputs": [],
   "source": [
    "name = 'Every Christmas'\n",
    "artist = 'Kelly Clarkson'\n",
    "id_track3 = get_id_from_info(name, artist, info)"
   ]
  },
  {
   "cell_type": "code",
   "execution_count": 58,
   "id": "02a4e6a3",
   "metadata": {},
   "outputs": [],
   "source": [
    "res[\"track3\"][\"mfcc_bow\"][\"cos_sim\"] = audio_based(id=id_track3, repr=mfcc_bow, N=10, sim_func=cos_sim)"
   ]
  },
  {
   "cell_type": "code",
   "execution_count": 59,
   "id": "f7d6f91b",
   "metadata": {},
   "outputs": [],
   "source": [
    "res[\"track3\"][\"mfcc_stats\"][\"cos_sim\"] = audio_based(id=id_track3, repr=mfcc_stats, N=10, sim_func=cos_sim)"
   ]
  },
  {
   "cell_type": "code",
   "execution_count": 60,
   "id": "26a0404e",
   "metadata": {},
   "outputs": [],
   "source": [
    "res[\"track3\"][\"base_line\"] = random_baseline(id=id_track3, info=info, N=10)"
   ]
  },
  {
   "cell_type": "code",
   "execution_count": 61,
   "id": "d29fc1d0",
   "metadata": {},
   "outputs": [
    {
     "data": {
      "text/plain": [
       "[('9ScGeeaW8XcxgePd', \"['pop']\")]"
      ]
     },
     "execution_count": 61,
     "metadata": {},
     "output_type": "execute_result"
    }
   ],
   "source": [
    "query_genre3 = get_genre_from_query(id_track3, genres)\n",
    "query_genre3"
   ]
  },
  {
   "cell_type": "code",
   "execution_count": 48,
   "id": "e767ad59",
   "metadata": {},
   "outputs": [
    {
     "data": {
      "text/plain": [
       "[('wBTcwkIaSigTMoOx',\n",
       "  \"['easy listening', 'pop', 'soundtrack', 'classic rock', 'rock', 'soft rock', 'blues', 'folk', 'country', 'rain', 'soul', 'indie pop', 'vocal jazz', 'swing']\"),\n",
       " ('Z4jTCucd9f4TZbbp',\n",
       "  \"['progressive rock', 'rock', 'psychedelic rock', 'experimental', 'alternative rock', 'space rock', 'art rock', 'progressive metal', 'classic rock', 'pop', 'ambient', 'indie rock', 'experimental rock', 'soft rock', 'dream pop', 'synthesizer', 'acoustic rock', 'technical death metal', 'neo progressive', 'psychedelic space rock', 'electronic rock']\"),\n",
       " ('vMluKVsjLFKZEmdg', \"['soul', 'disco', 'funk', 'violin']\"),\n",
       " ('kkY7mCedkgh4VE6r',\n",
       "  \"['shoegaze', 'synthpop', 'indietronica', 'electronica', 'spoken word', 'electropop', 'rock', 'experimental', 'indie pop', 'indie rock', 'post rock', 'singer songwriter', 'progressive rock', 'lo fi', 'dream pop', 'asmr']\"),\n",
       " ('F7ebJa7eUiPkChuj',\n",
       "  \"['rock', 'soundtrack', 'classic rock', 'hard rock', 'power pop', 'pop rock', 'new wave', 'pop', 'rock and roll', 'anthem', 'melodic hard rock']\"),\n",
       " ('KJyVTXfwdjUGtj5m', \"['pop', 'pop dance']\"),\n",
       " ('dvZ9L7CWRwKNNmUw', \"['rock']\"),\n",
       " ('RKXwxOZcuKwIApvj',\n",
       "  \"['progressive rock', 'classic rock', 'rock', 'hard rock', 'progressive metal', 'new wave', 'album rock', 'power pop', 'pop rock', 'art rock', 'canadian rock']\"),\n",
       " ('IIs72wE6hB8vxGJG',\n",
       "  \"['soul', 'disco', 'funk', 'rhythm and blues', 'jazz', 'jazz funk', 'post disco', 'classic soul']\"),\n",
       " ('D1zJHMFpDm6JosWR',\n",
       "  \"['synthpop', 'new wave', 'pop', 'rock', 'disco', 'electronica', 'electro', 'world', 'techno', 'dark electro', 'new romantic', 'dark wave']\")]"
      ]
     },
     "execution_count": 48,
     "metadata": {},
     "output_type": "execute_result"
    }
   ],
   "source": [
    "retrieved_genres3 = get_genre_from_ids(audio_based(id=id_track3, repr=mfcc_stats, N=10, sim_func=cos_sim), genres)\n",
    "retrieved_genres3"
   ]
  },
  {
   "cell_type": "code",
   "execution_count": 62,
   "id": "7097ae4f",
   "metadata": {},
   "outputs": [
    {
     "data": {
      "text/plain": [
       "0.5"
      ]
     },
     "execution_count": 62,
     "metadata": {},
     "output_type": "execute_result"
    }
   ],
   "source": [
    "p3 = calculate_precision(query_genre3, retrieved_genres3)\n",
    "p3"
   ]
  },
  {
   "cell_type": "code",
   "execution_count": 66,
   "id": "78c50410",
   "metadata": {},
   "outputs": [
    {
     "data": {
      "text/plain": [
       "0.0011899095668729176"
      ]
     },
     "execution_count": 66,
     "metadata": {},
     "output_type": "execute_result"
    }
   ],
   "source": [
    "r3 = calculate_recall(query_genre3, retrieved_genres3, dataset_genres)\n",
    "r3"
   ]
  },
  {
   "cell_type": "code",
   "execution_count": 238,
   "id": "b45daced",
   "metadata": {},
   "outputs": [
    {
     "name": "stdout",
     "output_type": "stream",
     "text": [
      "Name: Bala Com Bala                            Singer: Elis Regina\n",
      "Name: One                                      Singer: Alanis Morissette\n",
      "Name: Caramba! ... Galileu Da Galiléia         Singer: Jorge Ben\n",
      "Name: Bright                                   Singer: Echosmith\n",
      "Name: Flerte revival                           Singer: Letrux\n",
      "Name: La Primavera Trompetera                  Singer: Los Delinqüentes\n",
      "Name: Like a Stone                             Singer: Chris Cornell\n",
      "Name: Vem Morena                               Singer: Gilberto Gil\n",
      "Name: A Moment Like This                       Singer: Kelly Clarkson\n",
      "Name: Riviera Life                             Singer: Caro Emerald\n"
     ]
    }
   ],
   "source": [
    "display_res(res[\"track3\"][\"mfcc_bow\"][\"cos_sim\"], info)"
   ]
  },
  {
   "cell_type": "code",
   "execution_count": 241,
   "id": "1adde100",
   "metadata": {},
   "outputs": [
    {
     "name": "stdout",
     "output_type": "stream",
     "text": [
      "Name: Raindrops Keep Fallin' On My Head        Singer: B.J. Thomas\n",
      "Name: Pure Narcotic                            Singer: Porcupine Tree\n",
      "Name: Best Love                                Singer: Rose Royce\n",
      "Name: Raconte-moi une histoire                 Singer: M83\n",
      "Name: Mighty Wings                             Singer: Cheap Trick\n",
      "Name: Love Is A Hurricane                      Singer: Boyzone\n",
      "Name: Resistance - Live At Rome Olympic Stadium Singer: Muse\n",
      "Name: New World Man                            Singer: Rush\n",
      "Name: Clouds                                   Singer: Chaka Khan\n",
      "Name: Dance With Me                            Singer: Alphaville\n"
     ]
    }
   ],
   "source": [
    "display_res(res[\"track3\"][\"mfcc_stats\"][\"cos_sim\"], info)"
   ]
  },
  {
   "cell_type": "code",
   "execution_count": 31,
   "id": "25b23996",
   "metadata": {},
   "outputs": [
    {
     "name": "stdout",
     "output_type": "stream",
     "text": [
      "Name: Esta Noche Sólo Cantan Para Mí           Singer: La casa azul\n",
      "Name: Just For Now                             Singer: Imogen Heap\n",
      "Name: Snaggletooth                             Singer: Vance Joy\n",
      "Name: Don't Complain                           Singer: Everlast\n",
      "Name: Major System Error                       Singer: Marmozets\n",
      "Name: Visions                                  Singer: Maroon 5\n",
      "Name: Young Blindness                          Singer: The Murlocs\n",
      "Name: Judge Jury and Executioner               Singer: Atoms for Peace\n",
      "Name: G4L                                      Singer: Rihanna\n",
      "Name: My Tangerine Dream                       Singer: Wolfmother\n"
     ]
    }
   ],
   "source": [
    "display_res(res[\"track3\"][\"base_line\"], info)"
   ]
  },
  {
   "cell_type": "markdown",
   "id": "558ad1f3",
   "metadata": {},
   "source": [
    "# Accuracy"
   ]
  },
  {
   "cell_type": "code",
   "execution_count": 54,
   "id": "778d212a",
   "metadata": {},
   "outputs": [
    {
     "data": {
      "text/plain": [
       "0.6666666666666666"
      ]
     },
     "execution_count": 54,
     "metadata": {},
     "output_type": "execute_result"
    }
   ],
   "source": [
    "average_precision(p1, p2, p3)"
   ]
  },
  {
   "cell_type": "code",
   "execution_count": 80,
   "id": "6b071b24",
   "metadata": {},
   "outputs": [
    {
     "data": {
      "text/plain": [
       "0.0012106933868666256"
      ]
     },
     "execution_count": 80,
     "metadata": {},
     "output_type": "execute_result"
    }
   ],
   "source": [
    "average_recall(r1, r2, r3)"
   ]
  },
  {
   "cell_type": "code",
   "execution_count": null,
   "id": "4f9cf72f",
   "metadata": {},
   "outputs": [],
   "source": []
  }
 ],
 "metadata": {
  "kernelspec": {
   "display_name": "Python 3 (ipykernel)",
   "language": "python",
   "name": "python3"
  },
  "language_info": {
   "codemirror_mode": {
    "name": "ipython",
    "version": 3
   },
   "file_extension": ".py",
   "mimetype": "text/x-python",
   "name": "python",
   "nbconvert_exporter": "python",
   "pygments_lexer": "ipython3",
   "version": "3.9.12"
  }
 },
 "nbformat": 4,
 "nbformat_minor": 5
}
