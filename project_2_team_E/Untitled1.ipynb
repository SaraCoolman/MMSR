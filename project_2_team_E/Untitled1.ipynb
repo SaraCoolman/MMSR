{
 "cells": [
  {
   "cell_type": "code",
   "execution_count": 1,
   "id": "5012a4ab",
   "metadata": {},
   "outputs": [],
   "source": [
    "import numpy as np\n",
    "import pandas as pd\n",
    "import json "
   ]
  },
  {
   "cell_type": "code",
   "execution_count": 5,
   "id": "7d7023d1",
   "metadata": {},
   "outputs": [
    {
     "ename": "ImportError",
     "evalue": "cannot import name 'generate_cos_sim_matrix' from 'ret' (C:\\Users\\Sara\\Documents\\GitHub\\MMSR\\project_2_team_E\\ret.py)",
     "output_type": "error",
     "traceback": [
      "\u001b[1;31m---------------------------------------------------------------------------\u001b[0m",
      "\u001b[1;31mImportError\u001b[0m                               Traceback (most recent call last)",
      "Input \u001b[1;32mIn [5]\u001b[0m, in \u001b[0;36m<cell line: 8>\u001b[1;34m()\u001b[0m\n\u001b[0;32m      6\u001b[0m \u001b[38;5;28;01mfrom\u001b[39;00m \u001b[38;5;21;01mret\u001b[39;00m \u001b[38;5;28;01mimport\u001b[39;00m get_genre_from_query \u001b[38;5;66;03m#utility func to get the id and genre from the query\u001b[39;00m\n\u001b[0;32m      7\u001b[0m \u001b[38;5;28;01mfrom\u001b[39;00m \u001b[38;5;21;01mret\u001b[39;00m \u001b[38;5;28;01mimport\u001b[39;00m get_genre_from_ids \u001b[38;5;66;03m#utility func to get the id and genre from the retrieved results\u001b[39;00m\n\u001b[1;32m----> 8\u001b[0m \u001b[38;5;28;01mfrom\u001b[39;00m \u001b[38;5;21;01mret\u001b[39;00m \u001b[38;5;28;01mimport\u001b[39;00m generate_cos_sim_matrix\n\u001b[0;32m     10\u001b[0m \u001b[38;5;66;03m# import the retrieval systems \u001b[39;00m\n\u001b[0;32m     11\u001b[0m \u001b[38;5;28;01mfrom\u001b[39;00m \u001b[38;5;21;01mret\u001b[39;00m \u001b[38;5;28;01mimport\u001b[39;00m random_baseline \u001b[38;5;66;03m# baseline retrieval system that returns random results \u001b[39;00m\n",
      "\u001b[1;31mImportError\u001b[0m: cannot import name 'generate_cos_sim_matrix' from 'ret' (C:\\Users\\Sara\\Documents\\GitHub\\MMSR\\project_2_team_E\\ret.py)"
     ]
    }
   ],
   "source": [
    "# import utility functions \n",
    "from ret import read_data # utility func to load data\n",
    "from ret import get_id_from_info # utility func to return id by entering song's info\n",
    "from ret import display_res # utility func to display results \n",
    "from ret import get_genre #utility func to get the genres from a list of id´s\n",
    "from ret import get_genre_from_query #utility func to get the id and genre from the query\n",
    "from ret import get_genre_from_ids #utility func to get the id and genre from the retrieved results\n",
    "from ret import generate_cos_sim_matrix\n",
    "\n",
    "# import the retrieval systems \n",
    "from ret import random_baseline # baseline retrieval system that returns random results \n",
    "from ret import text_based # modularized text based retrieval system\n",
    "from ret import audio_based # modularized audio based retrieval system\n",
    "from ret import video_based # modularized video based retrieval system\n",
    "\n",
    "# import wrapper function to calculate cosine similarity\n",
    "from ret import cos_sim \n",
    "\n",
    "# import evaluation functions \n",
    "from ret import gen_cov_10\n",
    "from ret import ndcg_score\n",
    "from ret import gen_div_10\n",
    "from ret import calculate_precision_at_k\n",
    "#from ret import calculate_recall_at_k\n",
    "from ret import plot_precision_recall_curve\n",
    "from ret import get_avg_recall_at_k\n",
    "from ret import get_avg_precision_at_k"
   ]
  },
  {
   "cell_type": "code",
   "execution_count": null,
   "id": "032357b2",
   "metadata": {},
   "outputs": [],
   "source": []
  },
  {
   "cell_type": "code",
   "execution_count": 2,
   "id": "8a70bb8e",
   "metadata": {},
   "outputs": [],
   "source": [
    "def calc_avg_precision_recall_at_k(df, embedding, genres, k):\n",
    "    # Generate the cosine similarity matrix\n",
    "    cos_sim_matrix = generate_cos_sim_matrix(embedding)\n",
    "\n",
    "    # Define an empty list to store the precision and recall scores\n",
    "    precision_scores = []\n",
    "    recall_scores = []\n",
    "\n",
    "    # Loop over each query track\n",
    "    for idx, query_id in enumerate(df.id):\n",
    "        # Get the row index of the query track in the cosine similarity matrix\n",
    "        query_index = cos_sim_matrix.index.get_loc(query_id)\n",
    "\n",
    "        # Get the top-k most similar tracks using the cosine similarity matrix\n",
    "        similar_tracks_indices = np.argsort(cos_sim_matrix.iloc[query_index])[::-1][1:k+1]\n",
    "\n",
    "        # Retrieve the genres of the top-k similar tracks\n",
    "        retrieved_genres = [get_genre(cos_sim_matrix.index[i], genres) for i in similar_tracks_indices]\n",
    "\n",
    "        # Get the genre of the query track\n",
    "        query_genre = get_genre(query_id, genres)\n",
    "\n",
    "        # Calculate precision and recall\n",
    "        relevant_count = get_relevancy_count(query_genre, retrieved_genres)\n",
    "        precision = relevant_count / k\n",
    "        recall = relevant_count / len(query_genre)\n",
    "\n",
    "        # Append the precision and recall scores to the list\n",
    "        precision_scores.append(precision)\n",
    "        recall_scores.append(recall)\n",
    "\n",
    "        # Print progress\n",
    "        print(f'Processed row {idx+1}/{len(df)}')\n",
    "\n",
    "    # Calculate the average precision and recall over all query tracks\n",
    "    avg_precision = np.mean(precision_scores)\n",
    "    avg_recall = np.mean(recall_scores)\n",
    "\n",
    "    # Print the results\n",
    "    print(f'Average Precision@{k}: {avg_precision:.9f}')\n",
    "    print(f'Average Recall@{k}: {avg_recall:.9f}')\n",
    "\n",
    "    return avg_precision, avg_recall"
   ]
  },
  {
   "cell_type": "code",
   "execution_count": null,
   "id": "61bc0f20",
   "metadata": {},
   "outputs": [],
   "source": []
  }
 ],
 "metadata": {
  "kernelspec": {
   "display_name": "Python 3 (ipykernel)",
   "language": "python",
   "name": "python3"
  },
  "language_info": {
   "codemirror_mode": {
    "name": "ipython",
    "version": 3
   },
   "file_extension": ".py",
   "mimetype": "text/x-python",
   "name": "python",
   "nbconvert_exporter": "python",
   "pygments_lexer": "ipython3",
   "version": "3.9.12"
  }
 },
 "nbformat": 4,
 "nbformat_minor": 5
}
