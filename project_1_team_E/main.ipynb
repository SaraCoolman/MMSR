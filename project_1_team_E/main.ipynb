{
 "cells": [
  {
   "cell_type": "markdown",
   "id": "e35b9525",
   "metadata": {},
   "source": [
    "# Task 1 Simple Text-based Similarity and Retrieval"
   ]
  },
  {
   "cell_type": "markdown",
   "id": "2006f989",
   "metadata": {},
   "source": [
    "### Team E"
   ]
  },
  {
   "cell_type": "markdown",
   "id": "5c6729f5",
   "metadata": {},
   "source": [
    "## Import Libraries  "
   ]
  },
  {
   "cell_type": "code",
   "execution_count": 1,
   "id": "858c3296",
   "metadata": {},
   "outputs": [],
   "source": [
    "import pandas as pd\n",
    "import numpy as np"
   ]
  },
  {
   "cell_type": "code",
   "execution_count": 2,
   "id": "d6614d1e",
   "metadata": {},
   "outputs": [],
   "source": [
    "from ret import read_data\n",
    "from ret import get_id_from_info \n",
    "from ret import get_info_from_ids\n",
    "from ret import text_based\n",
    "from ret import random_baseline\n",
    "from ret import cos_sim\n",
    "from ret import euc_sim"
   ]
  },
  {
   "cell_type": "markdown",
   "id": "28642a4c",
   "metadata": {},
   "source": [
    "## Load Data"
   ]
  },
  {
   "cell_type": "code",
   "execution_count": 3,
   "id": "c76b9179",
   "metadata": {},
   "outputs": [],
   "source": [
    "info = read_data(\"information\")\n",
    "tfidf = read_data(\"lyrics_tf-idf\")\n",
    "word2vec = read_data(\"lyrics_word2vec\")\n",
    "bert = read_data(\"lyrics_bert\")"
   ]
  },
  {
   "cell_type": "markdown",
   "id": "a13ba797",
   "metadata": {},
   "source": [
    "## Dictionary to Store Results "
   ]
  },
  {
   "cell_type": "code",
   "execution_count": 4,
   "id": "f1e1b436",
   "metadata": {},
   "outputs": [],
   "source": [
    "\"\"\"\n",
    "Dict to store results:\n",
    "query format: res[\"trackTRACKNUMBER\"][\"REPRESENTATION\"][\"SIMILARITYFUNCTION\"]\n",
    "sample query: res[\"track1\"][\"tfidf\"][\"cos_sim\"]\n",
    "\n",
    "returns - list[str] \n",
    "list containing ids of a retrieved tracks \n",
    "\n",
    "After running, use get_infos_from_id(RES, info) to get list containing name and singer of the retrieved tracks \n",
    "sample usage: get_info_from_ids(res[\"track1\"][\"tfidf\"][\"cos_sim\"], info)\n",
    "\n",
    "\"\"\"\n",
    "res={\n",
    "    \"track1\": \n",
    "    {\n",
    "    \"base_line\": None,\n",
    "    \"tfidf\":\n",
    "    {\n",
    "        \"cos_sim\": None,\n",
    "        \"euc_sim\": None\n",
    "    },\n",
    "    \"word2vec\":\n",
    "    {\n",
    "        \"cos_sim\": None,\n",
    "        \"euc_sim\": None\n",
    "    },\n",
    "    \"bert\":\n",
    "    {\n",
    "        \"cos_sim\": None,\n",
    "        \"euc_sim\": None\n",
    "    }\n",
    "    },\n",
    "    \"track2\": \n",
    "    {\n",
    "    \"base_line\": None,\n",
    "    \"tfidf\":\n",
    "    {\n",
    "        \"cos_sim\": None,\n",
    "        \"euc_sim\": None\n",
    "    },\n",
    "    \"word2vec\":\n",
    "    {\n",
    "        \"cos_sim\": None,\n",
    "        \"euc_sim\": None\n",
    "    },\n",
    "    \"bert\":\n",
    "    {\n",
    "        \"cos_sim\": None,\n",
    "        \"euc_sim\": None\n",
    "    }\n",
    "    },\n",
    "    \"track3\": \n",
    "    {\n",
    "    \"base_line\": None,\n",
    "    \"tfidf\":\n",
    "    {\n",
    "        \"cos_sim\": None,\n",
    "        \"euc_sim\": None\n",
    "    },\n",
    "    \"word2vec\":\n",
    "    {\n",
    "        \"cos_sim\": None,\n",
    "        \"euc_sim\": None\n",
    "    },\n",
    "    \"bert\":\n",
    "    {\n",
    "        \"cos_sim\": None,\n",
    "        \"euc_sim\": None\n",
    "    }\n",
    "}\n",
    "}"
   ]
  },
  {
   "cell_type": "markdown",
   "id": "1471ae3f",
   "metadata": {},
   "source": [
    "## Track 1 \n",
    "\"All the Time\" \"The Kooks\""
   ]
  },
  {
   "cell_type": "code",
   "execution_count": 5,
   "id": "7c602738",
   "metadata": {},
   "outputs": [],
   "source": [
    "name = \"All the Time\"\n",
    "artist = \"The Kooks\"\n",
    "id_track1 = get_id_from_info(name, artist, info)"
   ]
  },
  {
   "cell_type": "markdown",
   "id": "ad1b9a76",
   "metadata": {},
   "source": [
    "### Running RS1 Random Baseline "
   ]
  },
  {
   "cell_type": "code",
   "execution_count": 6,
   "id": "e0315641",
   "metadata": {},
   "outputs": [],
   "source": [
    "res[\"track1\"][\"base_line\"] = random_baseline(id=id_track1, info=info, N=10)"
   ]
  },
  {
   "cell_type": "markdown",
   "id": "44b8cad4",
   "metadata": {},
   "source": [
    "### Running RS2 Text-based(cos-sim, tf-idf)"
   ]
  },
  {
   "cell_type": "code",
   "execution_count": 7,
   "id": "a6e599d2",
   "metadata": {},
   "outputs": [],
   "source": [
    "res[\"track1\"][\"tfidf\"][\"cos_sim\"] = text_based(id=id_track1, repr=tfidf, N=10, sim_func=cos_sim)"
   ]
  },
  {
   "cell_type": "markdown",
   "id": "bb6c91e7",
   "metadata": {},
   "source": [
    "### Running RS3  Text-based(cos-sim, \\<feature\\>) "
   ]
  },
  {
   "cell_type": "code",
   "execution_count": 8,
   "id": "9aedf0e0",
   "metadata": {},
   "outputs": [],
   "source": [
    "res[\"track1\"][\"word2vec\"][\"cos_sim\"] = text_based(id=id_track1, repr=word2vec, N=10, sim_func=cos_sim)"
   ]
  },
  {
   "cell_type": "markdown",
   "id": "20e3d36a",
   "metadata": {},
   "source": [
    "### Running RS4 Text-based(\\<similarity\\>, \\<feature\\> )"
   ]
  },
  {
   "cell_type": "code",
   "execution_count": 9,
   "id": "5d65c28d",
   "metadata": {},
   "outputs": [],
   "source": [
    "res[\"track1\"][\"bert\"][\"cos_sim\"] = text_based(id=id_track1, repr=bert, N=10, sim_func=cos_sim)"
   ]
  },
  {
   "cell_type": "code",
   "execution_count": 10,
   "id": "d07a56fc",
   "metadata": {},
   "outputs": [
    {
     "name": "stdout",
     "output_type": "stream",
     "text": [
      "[('I Want You', 'Madonna'), ('O Quereres', 'Caetano Veloso'), ('I Only Want You', 'Eagles of Death Metal'), ('Quiero', 'Anahí'), ('Crybaby', 'Waterparks'), ('Hasta Que Me Conociste', 'Anahí'), ('All She Wants', 'Mika'), ('I Just Want To Make Love To You', 'Muddy Waters'), ('Love Is a Stranger', 'Eurythmics'), ('Do You Wanna', 'The Kooks')]\n"
     ]
    }
   ],
   "source": [
    "print(get_info_from_ids(res[\"track1\"][\"tfidf\"][\"cos_sim\"], info))"
   ]
  },
  {
   "cell_type": "code",
   "execution_count": 11,
   "id": "27f5cd62",
   "metadata": {},
   "outputs": [
    {
     "name": "stdout",
     "output_type": "stream",
     "text": [
      "[(\"I Don't Want to Get Hurt\", 'Roxette'), ('I Only Want You', 'Eagles of Death Metal'), ('Quiero', 'Anahí'), ('I Just Want To Make Love To You', 'Muddy Waters'), ('Threesome', 'Fenix TX'), ('Concert Pitch', 'Empire of the Sun'), ('U Make Me Wanna', 'Blue'), ('SAN MARCOS', 'BROCKHAMPTON'), ('Be With You', 'Enrique Iglesias'), ('F.C.P.R.E.M.I.X.', 'The Fall of Troy')]\n"
     ]
    }
   ],
   "source": [
    "print(get_info_from_ids(res[\"track1\"][\"word2vec\"][\"cos_sim\"], info))"
   ]
  },
  {
   "cell_type": "code",
   "execution_count": 12,
   "id": "d5d587ab",
   "metadata": {},
   "outputs": [
    {
     "name": "stdout",
     "output_type": "stream",
     "text": [
      "[('Burn', 'The Vamps'), ('No Distraction', 'Beck'), ('Concert Pitch', 'Empire of the Sun'), ('Give Me Hope', 'New Politics'), ('Endlessly', 'Amaranthe'), ('Vuelve', 'Ricky Martin'), ('Inside and Out', 'Feist'), ('Always', 'Bon Jovi'), ('Monster', 'Bigbang'), ('Heal Me', 'Sunrise Avenue')]\n"
     ]
    }
   ],
   "source": [
    "print(get_info_from_ids(res[\"track1\"][\"bert\"][\"cos_sim\"], info))"
   ]
  },
  {
   "cell_type": "code",
   "execution_count": 13,
   "id": "7185a048",
   "metadata": {},
   "outputs": [
    {
     "name": "stdout",
     "output_type": "stream",
     "text": [
      "[('Soulmate', 'Natasha Bedingfield'), (\"Can't You Just Adore Her?\", 'Mandy Moore'), ('Salir corriendo', 'Amaral'), ('Poison', 'Alice Cooper'), ('Phoenix in Flames', 'Converge'), ('Dumb Fuck', 'Peaches'), ('Disco Heat', 'Calvin Harris'), ('Fake Tales of San Francisco', 'Arctic Monkeys'), ('Very First Breath', 'Hudson Mohawke'), ('Twelve Divisions of the Day', 'Drahla')]\n"
     ]
    }
   ],
   "source": [
    "print(get_info_from_ids(res[\"track1\"][\"base_line\"], info))"
   ]
  },
  {
   "cell_type": "markdown",
   "id": "cceb476d",
   "metadata": {},
   "source": [
    "## Track 2 "
   ]
  },
  {
   "cell_type": "markdown",
   "id": "89bd5531",
   "metadata": {},
   "source": [
    "\"All thoughe the Night\" \"Cyndi Lauper\""
   ]
  },
  {
   "cell_type": "code",
   "execution_count": 14,
   "id": "c5011335",
   "metadata": {},
   "outputs": [],
   "source": [
    "name = 'All Through the Night'\n",
    "artist = 'Cyndi Lauper'\n",
    "id_track2 = get_id_from_info(name, artist, info)"
   ]
  },
  {
   "cell_type": "code",
   "execution_count": 15,
   "id": "dbf54e26",
   "metadata": {},
   "outputs": [],
   "source": [
    "res[\"track2\"][\"tfidf\"][\"cos_sim\"] = text_based(id=id_track2, repr=tfidf, N=10, sim_func=cos_sim)"
   ]
  },
  {
   "cell_type": "code",
   "execution_count": 16,
   "id": "06eccb80",
   "metadata": {},
   "outputs": [],
   "source": [
    "res[\"track2\"][\"word2vec\"][\"cos_sim\"] = text_based(id=id_track2, repr=word2vec, N=10, sim_func=cos_sim)"
   ]
  },
  {
   "cell_type": "code",
   "execution_count": 17,
   "id": "804341fd",
   "metadata": {},
   "outputs": [],
   "source": [
    "res[\"track2\"][\"bert\"][\"cos_sim\"] = text_based(id=id_track2, repr=bert, N=10, sim_func=cos_sim)"
   ]
  },
  {
   "cell_type": "code",
   "execution_count": 18,
   "id": "45e459fa",
   "metadata": {},
   "outputs": [],
   "source": [
    "res[\"track2\"][\"base_line\"] = random_baseline(id=id_track2, info=info, N=10)"
   ]
  },
  {
   "cell_type": "code",
   "execution_count": 19,
   "id": "ec188e4a",
   "metadata": {},
   "outputs": [
    {
     "name": "stdout",
     "output_type": "stream",
     "text": [
      "[('The End Has No End', 'The Strokes'), ('Up All Night', 'One Direction'), ('We Run the Night', 'Havana Brown'), ('All Night', 'Slum Sociable'), ('Into the Night', 'Sirenia'), ('Black Moon', 'Cellar Darling'), (\"If It Wasn't for the Nights\", 'ABBA'), ('Noches Sin Luna', 'Thalía'), ('Love Story', 'Mariah Carey'), ('Oh What A Night', 'The Dells')]\n"
     ]
    }
   ],
   "source": [
    "# Test cell\n",
    "print(get_info_from_ids(res[\"track2\"][\"tfidf\"][\"cos_sim\"], info))"
   ]
  },
  {
   "cell_type": "markdown",
   "id": "6bf2e082",
   "metadata": {},
   "source": [
    "## Track 3"
   ]
  },
  {
   "cell_type": "markdown",
   "id": "f5b0ae61",
   "metadata": {},
   "source": []
  },
  {
   "cell_type": "code",
   "execution_count": null,
   "id": "c156fd26",
   "metadata": {},
   "outputs": [],
   "source": [
    "name = None\n",
    "artist = None\n",
    "id_track3 = get_id_from_info(name, artist, info)"
   ]
  },
  {
   "cell_type": "code",
   "execution_count": null,
   "id": "02a4e6a3",
   "metadata": {},
   "outputs": [],
   "source": [
    "res[\"track3\"][\"tfidf\"][\"cosine\"] = text_based(id=id_track3, repr=tfidf, N=10, sim_func=cos_sim)"
   ]
  },
  {
   "cell_type": "code",
   "execution_count": null,
   "id": "f7d6f91b",
   "metadata": {},
   "outputs": [],
   "source": [
    "res[\"track3\"][\"word2vec\"][\"cosine\"] = text_based(id=id_track3, repr=word2vec, N=10, sim_func=cos_sim)"
   ]
  },
  {
   "cell_type": "code",
   "execution_count": null,
   "id": "dbf1f63e",
   "metadata": {},
   "outputs": [],
   "source": [
    "res[\"track3\"][\"bert\"][\"cosine\"] = text_based(id=id_track3, repr=bert, N=10, sim_func=cos_sim)"
   ]
  },
  {
   "cell_type": "code",
   "execution_count": null,
   "id": "26a0404e",
   "metadata": {},
   "outputs": [],
   "source": [
    "res[\"track3\"][\"base_line\"] = random_baseline(id=id_track3, info=info, N=10)"
   ]
  }
 ],
 "metadata": {
  "kernelspec": {
   "display_name": "Python 3 (ipykernel)",
   "language": "python",
   "name": "python3"
  },
  "language_info": {
   "codemirror_mode": {
    "name": "ipython",
    "version": 3
   },
   "file_extension": ".py",
   "mimetype": "text/x-python",
   "name": "python",
   "nbconvert_exporter": "python",
   "pygments_lexer": "ipython3",
   "version": "3.8.11"
  }
 },
 "nbformat": 4,
 "nbformat_minor": 5
}
