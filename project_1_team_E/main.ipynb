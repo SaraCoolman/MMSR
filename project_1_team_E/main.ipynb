{
 "cells": [
  {
   "cell_type": "markdown",
   "id": "e35b9525",
   "metadata": {},
   "source": [
    "# Task 1 Simple Text-based Similarity and Retrieval"
   ]
  },
  {
   "cell_type": "markdown",
   "id": "2006f989",
   "metadata": {},
   "source": [
    "### Team E\n",
    "Version 1.0.1\n",
    "Date: 14/11/2023"
   ]
  },
  {
   "cell_type": "markdown",
   "id": "5c6729f5",
   "metadata": {},
   "source": [
    "## Import Libraries  "
   ]
  },
  {
   "cell_type": "code",
   "execution_count": 1,
   "id": "858c3296",
   "metadata": {},
   "outputs": [],
   "source": [
    "import pandas as pd\n",
    "import numpy as np"
   ]
  },
  {
   "cell_type": "code",
   "execution_count": 2,
   "id": "d6614d1e",
   "metadata": {},
   "outputs": [],
   "source": [
    "from ret import read_data # utility func to load data\n",
    "from ret import get_id_from_info # utility func to return id by entering song's info\n",
    "from ret import display_res # utility func to display results \n",
    "from ret import text_based # modularized text based retrieval system\n",
    "from ret import random_baseline # base line retrieval system that returns random results \n",
    "from ret import cos_sim # wrapper function to calculate cosine similarity\n",
    "from ret import euc_sim # wrapper function to calculate euclidean similarity "
   ]
  },
  {
   "cell_type": "markdown",
   "id": "28642a4c",
   "metadata": {},
   "source": [
    "## Load Data"
   ]
  },
  {
   "cell_type": "code",
   "execution_count": 3,
   "id": "c76b9179",
   "metadata": {},
   "outputs": [],
   "source": [
    "\"\"\"\n",
    "Please put data files in \"\"./data/\" before use \n",
    "\"\"\"\n",
    "\n",
    "info = read_data(\"information\")\n",
    "tfidf = read_data(\"lyrics_tf-idf\")\n",
    "word2vec = read_data(\"lyrics_word2vec\")\n",
    "bert = read_data(\"lyrics_bert\")"
   ]
  },
  {
   "cell_type": "markdown",
   "id": "a13ba797",
   "metadata": {},
   "source": [
    "## Dictionary to Store Results "
   ]
  },
  {
   "cell_type": "code",
   "execution_count": 4,
   "id": "f1e1b436",
   "metadata": {},
   "outputs": [],
   "source": [
    "\"\"\"\n",
    "Dict to store results:\n",
    "query format: res[\"trackTRACKNUMBER\"][\"REPRESENTATION\"][\"SIMILARITYFUNCTION\"]\n",
    "sample query: res[\"track1\"][\"tfidf\"][\"cos_sim\"]\n",
    "\n",
    "returns - list[str] \n",
    "list containing ids of a retrieved tracks \n",
    "\n",
    "After running, use display_res(res[\"trackTRACKNUMBER\"][\"REPRESENTATION\"][\"SIMILARITYFUNCTION\"],info) to display results\n",
    "e.g. display_res(res[\"track1\"][\"tfidf\"][\"cos_sim\"],info)\n",
    "\n",
    "\"\"\"\n",
    "res={\n",
    "    \"track1\": \n",
    "    {\n",
    "    \"base_line\": None,\n",
    "    \"tfidf\":\n",
    "    {\n",
    "        \"cos_sim\": None,\n",
    "        \"euc_sim\": None\n",
    "    },\n",
    "    \"word2vec\":\n",
    "    {\n",
    "        \"cos_sim\": None,\n",
    "        \"euc_sim\": None\n",
    "    },\n",
    "    \"bert\":\n",
    "    {\n",
    "        \"cos_sim\": None,\n",
    "        \"euc_sim\": None\n",
    "    }\n",
    "    },\n",
    "    \"track2\": \n",
    "    {\n",
    "    \"base_line\": None,\n",
    "    \"tfidf\":\n",
    "    {\n",
    "        \"cos_sim\": None,\n",
    "        \"euc_sim\": None\n",
    "    },\n",
    "    \"word2vec\":\n",
    "    {\n",
    "        \"cos_sim\": None,\n",
    "        \"euc_sim\": None\n",
    "    },\n",
    "    \"bert\":\n",
    "    {\n",
    "        \"cos_sim\": None,\n",
    "        \"euc_sim\": None\n",
    "    }\n",
    "    },\n",
    "    \"track3\": \n",
    "    {\n",
    "    \"base_line\": None,\n",
    "    \"tfidf\":\n",
    "    {\n",
    "        \"cos_sim\": None,\n",
    "        \"euc_sim\": None\n",
    "    },\n",
    "    \"word2vec\":\n",
    "    {\n",
    "        \"cos_sim\": None,\n",
    "        \"euc_sim\": None\n",
    "    },\n",
    "    \"bert\":\n",
    "    {\n",
    "        \"cos_sim\": None,\n",
    "        \"euc_sim\": None\n",
    "    }\n",
    "}\n",
    "}"
   ]
  },
  {
   "cell_type": "markdown",
   "id": "1471ae3f",
   "metadata": {},
   "source": [
    "## Track 1 \n",
    "\"Love Me\" \"The 1975\""
   ]
  },
  {
   "cell_type": "code",
   "execution_count": 5,
   "id": "7c602738",
   "metadata": {},
   "outputs": [],
   "source": [
    "name = \"Love Me\"\n",
    "artist = \"The 1975\"\n",
    "id_track1 = get_id_from_info(name, artist, info)"
   ]
  },
  {
   "cell_type": "code",
   "execution_count": 6,
   "id": "e0315641",
   "metadata": {},
   "outputs": [],
   "source": [
    "res[\"track1\"][\"base_line\"] = random_baseline(id=id_track1, info=info, N=10)"
   ]
  },
  {
   "cell_type": "code",
   "execution_count": 7,
   "id": "a6e599d2",
   "metadata": {},
   "outputs": [],
   "source": [
    "res[\"track1\"][\"tfidf\"][\"cos_sim\"] = text_based(id=id_track1, repr=tfidf, N=10, sim_func=cos_sim)"
   ]
  },
  {
   "cell_type": "code",
   "execution_count": 8,
   "id": "9aedf0e0",
   "metadata": {},
   "outputs": [],
   "source": [
    "res[\"track1\"][\"word2vec\"][\"cos_sim\"] = text_based(id=id_track1, repr=word2vec, N=10, sim_func=cos_sim)"
   ]
  },
  {
   "cell_type": "code",
   "execution_count": 9,
   "id": "5d65c28d",
   "metadata": {},
   "outputs": [],
   "source": [
    "res[\"track1\"][\"bert\"][\"cos_sim\"] = text_based(id=id_track1, repr=bert, N=10, sim_func=cos_sim)"
   ]
  },
  {
   "cell_type": "code",
   "execution_count": 10,
   "id": "d07a56fc",
   "metadata": {},
   "outputs": [
    {
     "name": "stdout",
     "output_type": "stream",
     "text": [
      "Name: Oh Yeah                                  Singer: Big Time Rush\n",
      "Name: The Gospel                               Singer: Alicia Keys\n",
      "Name: Fire Starter                             Singer: Demi Lovato\n",
      "Name: Rat Fink                                 Singer: Misfits\n",
      "Name: How Bad Do You Want It (Oh Yeah)         Singer: Sevyn Streeter\n",
      "Name: Yeah! (feat. Lil Jon & Ludacris)         Singer: Usher\n",
      "Name: Regarde-moi                              Singer: Céline Dion\n",
      "Name: Miss Independent                         Singer: Ne-Yo\n",
      "Name: Euphoria                                 Singer: BTS\n",
      "Name: Let There Be Love                        Singer: Simple Minds\n"
     ]
    }
   ],
   "source": [
    "display_res(res[\"track1\"][\"tfidf\"][\"cos_sim\"], info)"
   ]
  },
  {
   "cell_type": "code",
   "execution_count": 11,
   "id": "3df467fe",
   "metadata": {},
   "outputs": [
    {
     "name": "stdout",
     "output_type": "stream",
     "text": [
      "Name: Miss Independent                         Singer: Ne-Yo\n",
      "Name: If Our Love Is Wrong                     Singer: Calum Scott\n",
      "Name: Looking For Clues                        Singer: Robert Palmer\n",
      "Name: Out on the Tiles                         Singer: Led Zeppelin\n",
      "Name: So Much Love                             Singer: The Rocket Summer\n",
      "Name: Let There Be Love                        Singer: Simple Minds\n",
      "Name: In the Evening                           Singer: Led Zeppelin\n",
      "Name: All You Got                              Singer: Tegan and Sara\n",
      "Name: Rosalyn                                  Singer: David Bowie\n",
      "Name: How Bad Do You Want It (Oh Yeah)         Singer: Sevyn Streeter\n"
     ]
    }
   ],
   "source": [
    "display_res(res[\"track1\"][\"word2vec\"][\"cos_sim\"], info)"
   ]
  },
  {
   "cell_type": "code",
   "execution_count": 12,
   "id": "148245ea",
   "metadata": {},
   "outputs": [
    {
     "name": "stdout",
     "output_type": "stream",
     "text": [
      "Name: Thug City                                Singer: Dance Gavin Dance\n",
      "Name: Shine                                    Singer: Take That\n",
      "Name: One, Two, Three, GO!                     Singer: Belanova\n",
      "Name: Right There                              Singer: Ariana Grande\n",
      "Name: Bing Bing                                Singer: Crayon Pop\n",
      "Name: Come Get It Bae                          Singer: Pharrell Williams\n",
      "Name: We Made You                              Singer: Eminem\n",
      "Name: Here I Am                                Singer: Monica\n",
      "Name: Wannabe                                  Singer: why mona\n",
      "Name: Edge of the World                        Singer: Faith No More\n"
     ]
    }
   ],
   "source": [
    "display_res(res[\"track1\"][\"bert\"][\"cos_sim\"], info)"
   ]
  },
  {
   "cell_type": "code",
   "execution_count": 13,
   "id": "c4439dcb",
   "metadata": {},
   "outputs": [
    {
     "name": "stdout",
     "output_type": "stream",
     "text": [
      "Name: Low                                      Singer: Foo Fighters\n",
      "Name: Take It on the Run                       Singer: REO Speedwagon\n",
      "Name: Envision                                 Singer: After Forever\n",
      "Name: The Man Who Built the Moon               Singer: Noel Gallagher's High Flying Birds\n",
      "Name: Coming Home                              Singer: Avenged Sevenfold\n",
      "Name: Don't Forget About Me                    Singer: Dusty Springfield\n",
      "Name: Touch                                    Singer: Bright Eyes\n",
      "Name: Mi-myo Mi-myo                            Singer: Lovelyz\n",
      "Name: Life of a Nine                           Singer: Issues\n",
      "Name: House of Glass                           Singer: Cage the Elephant\n"
     ]
    }
   ],
   "source": [
    "display_res(res[\"track1\"][\"base_line\"], info)"
   ]
  },
  {
   "cell_type": "markdown",
   "id": "cceb476d",
   "metadata": {},
   "source": [
    "## Track 2 "
   ]
  },
  {
   "cell_type": "markdown",
   "id": "89bd5531",
   "metadata": {},
   "source": [
    "\"One\" \"U2\""
   ]
  },
  {
   "cell_type": "code",
   "execution_count": 14,
   "id": "c5011335",
   "metadata": {},
   "outputs": [],
   "source": [
    "name = 'One'\n",
    "artist = 'U2'\n",
    "id_track2 = get_id_from_info(name, artist, info)"
   ]
  },
  {
   "cell_type": "code",
   "execution_count": 15,
   "id": "dbf54e26",
   "metadata": {},
   "outputs": [],
   "source": [
    "res[\"track2\"][\"tfidf\"][\"cos_sim\"] = text_based(id=id_track2, repr=tfidf, N=10, sim_func=cos_sim)"
   ]
  },
  {
   "cell_type": "code",
   "execution_count": 16,
   "id": "06eccb80",
   "metadata": {},
   "outputs": [],
   "source": [
    "res[\"track2\"][\"word2vec\"][\"cos_sim\"] = text_based(id=id_track2, repr=word2vec, N=10, sim_func=cos_sim)"
   ]
  },
  {
   "cell_type": "code",
   "execution_count": 17,
   "id": "804341fd",
   "metadata": {},
   "outputs": [],
   "source": [
    "res[\"track2\"][\"bert\"][\"cos_sim\"] = text_based(id=id_track2, repr=bert, N=10, sim_func=cos_sim)"
   ]
  },
  {
   "cell_type": "code",
   "execution_count": 18,
   "id": "45e459fa",
   "metadata": {},
   "outputs": [],
   "source": [
    "res[\"track2\"][\"base_line\"] = random_baseline(id=id_track2, info=info, N=10)"
   ]
  },
  {
   "cell_type": "code",
   "execution_count": 19,
   "id": "ec188e4a",
   "metadata": {},
   "outputs": [
    {
     "name": "stdout",
     "output_type": "stream",
     "text": [
      "Name: One                                      Singer: Mary J. Blige\n",
      "Name: One Love (feat. Estelle)                 Singer: David Guetta\n",
      "Name: Love the One You're With                 Singer: Stephen Stills\n",
      "Name: One                                      Singer: Alanis Morissette\n",
      "Name: No One - Acoustic                        Singer: Alicia Keys\n",
      "Name: One Tribe (Defqon.1 2019 Anthem)         Singer: Phuture Noize\n",
      "Name: You Can Be the One                       Singer: Late Night Alumni\n",
      "Name: Rape Me                                  Singer: Nirvana\n",
      "Name: Palavras No Corpo                        Singer: Gal Costa\n",
      "Name: No One in the World                      Singer: Anita Baker\n"
     ]
    }
   ],
   "source": [
    "display_res(res[\"track2\"][\"tfidf\"][\"cos_sim\"], info)"
   ]
  },
  {
   "cell_type": "code",
   "execution_count": 20,
   "id": "846cc372",
   "metadata": {},
   "outputs": [
    {
     "name": "stdout",
     "output_type": "stream",
     "text": [
      "Name: One                                      Singer: Mary J. Blige\n",
      "Name: One Love (feat. Estelle)                 Singer: David Guetta\n",
      "Name: Quien Eres Tu (Feat. Trey Songz)         Singer: María José\n",
      "Name: Dance With The One That Brought You      Singer: Shania Twain\n",
      "Name: Apocalyptic                              Singer: Halestorm\n",
      "Name: I Will Survive - Extended Version        Singer: Gloria Gaynor\n",
      "Name: King For A Day                           Singer: Thompson Twins\n",
      "Name: Never Let Me Down                        Singer: Kanye West\n",
      "Name: Fica Mais um Pouco Amor                  Singer: Emicida\n",
      "Name: I Will Survive                           Singer: Gloria Gaynor\n"
     ]
    }
   ],
   "source": [
    "display_res(res[\"track2\"][\"word2vec\"][\"cos_sim\"], info)"
   ]
  },
  {
   "cell_type": "code",
   "execution_count": 21,
   "id": "f3eb6227",
   "metadata": {},
   "outputs": [
    {
     "name": "stdout",
     "output_type": "stream",
     "text": [
      "Name: One                                      Singer: Mary J. Blige\n",
      "Name: What About Love                          Singer: Austin Mahone\n",
      "Name: All of Your Glory                        Singer: Broods\n",
      "Name: La Tortura (feat. Alejandro Sanz)        Singer: Shakira\n",
      "Name: Love One Another                         Singer: Cher\n",
      "Name: Black Lake                               Singer: Björk\n",
      "Name: El Triste                                Singer: José José\n",
      "Name: Love Makes the World Go Round            Singer: Ashlee Simpson\n",
      "Name: Keep It Together                         Singer: Madonna\n",
      "Name: U Want Me 2                              Singer: Sarah McLachlan\n"
     ]
    }
   ],
   "source": [
    "display_res(res[\"track2\"][\"bert\"][\"cos_sim\"], info)"
   ]
  },
  {
   "cell_type": "code",
   "execution_count": 22,
   "id": "645f0542",
   "metadata": {},
   "outputs": [
    {
     "name": "stdout",
     "output_type": "stream",
     "text": [
      "Name: Forest Serenade                          Singer: The Joy Formidable\n",
      "Name: Sweet Disposition                        Singer: The Temper Trap\n",
      "Name: Won't Let Go                             Singer: Black Stone Cherry\n",
      "Name: Alive                                    Singer: Da Buzz\n",
      "Name: Drive                                    Singer: Dornik\n",
      "Name: Ride 'Em on Down                         Singer: The Rolling Stones\n",
      "Name: Someone Better                           Singer: Juveniles\n",
      "Name: Steady Rollin' Man                       Singer: Eric Clapton\n",
      "Name: Peach Boy                                Singer: Jay Som\n",
      "Name: Breathe                                  Singer: Wolfheart\n"
     ]
    }
   ],
   "source": [
    "display_res(res[\"track2\"][\"base_line\"], info)"
   ]
  },
  {
   "cell_type": "markdown",
   "id": "6bf2e082",
   "metadata": {},
   "source": [
    "## Track 3"
   ]
  },
  {
   "cell_type": "markdown",
   "id": "f5b0ae61",
   "metadata": {},
   "source": [
    "\"Every Christmas\" \"Kelly Clarkson\""
   ]
  },
  {
   "cell_type": "code",
   "execution_count": 32,
   "id": "c156fd26",
   "metadata": {},
   "outputs": [],
   "source": [
    "name = 'Every Christmas'\n",
    "artist = 'Kelly Clarkson'\n",
    "id_track3 = get_id_from_info(name, artist, info)"
   ]
  },
  {
   "cell_type": "code",
   "execution_count": 24,
   "id": "02a4e6a3",
   "metadata": {},
   "outputs": [],
   "source": [
    "res[\"track3\"][\"tfidf\"][\"cos_sim\"] = text_based(id=id_track3, repr=tfidf, N=10, sim_func=cos_sim)"
   ]
  },
  {
   "cell_type": "code",
   "execution_count": 25,
   "id": "f7d6f91b",
   "metadata": {},
   "outputs": [],
   "source": [
    "res[\"track3\"][\"word2vec\"][\"cos_sim\"] = text_based(id=id_track3, repr=word2vec, N=10, sim_func=cos_sim)"
   ]
  },
  {
   "cell_type": "code",
   "execution_count": 26,
   "id": "dbf1f63e",
   "metadata": {},
   "outputs": [],
   "source": [
    "res[\"track3\"][\"bert\"][\"cos_sim\"] = text_based(id=id_track3, repr=bert, N=10, sim_func=cos_sim)"
   ]
  },
  {
   "cell_type": "code",
   "execution_count": 27,
   "id": "26a0404e",
   "metadata": {},
   "outputs": [],
   "source": [
    "res[\"track3\"][\"base_line\"] = random_baseline(id=id_track3, info=info, N=10)"
   ]
  },
  {
   "cell_type": "code",
   "execution_count": 28,
   "id": "b45daced",
   "metadata": {},
   "outputs": [
    {
     "name": "stdout",
     "output_type": "stream",
     "text": [
      "Name: Christmas Conga                          Singer: Cyndi Lauper\n",
      "Name: Three Ships                              Singer: Cyndi Lauper\n",
      "Name: Hellhound On My Trail                    Singer: Robert Johnson\n",
      "Name: St. Patrick's Day                        Singer: John Mayer\n",
      "Name: Last Christmas                           Singer: Carly Rae Jepsen\n",
      "Name: My Only Wish (This Year)                 Singer: Britney Spears\n",
      "Name: Christmas Vacation                       Singer: Descendents\n",
      "Name: Last Christmas - Studio Version          Singer: Jimmy Eat World\n",
      "Name: The Christmas Song (Merry Christmas To You) Singer: Nat King Cole\n",
      "Name: I Shut Doors and Windows                 Singer: September Malevolence\n"
     ]
    }
   ],
   "source": [
    "display_res(res[\"track3\"][\"tfidf\"][\"cos_sim\"], info)"
   ]
  },
  {
   "cell_type": "code",
   "execution_count": 29,
   "id": "1adde100",
   "metadata": {},
   "outputs": [
    {
     "name": "stdout",
     "output_type": "stream",
     "text": [
      "Name: St. Patrick's Day                        Singer: John Mayer\n",
      "Name: Junesong Provision                       Singer: Coheed and Cambria\n",
      "Name: My Only Wish (This Year)                 Singer: Britney Spears\n",
      "Name: PERFECT!                                 Singer: WJSN\n",
      "Name: Si Tu Novio Te Deja Sola                 Singer: J Balvin\n",
      "Name: So Doggone Lonesome                      Singer: Johnny Cash\n",
      "Name: The Best Day                             Singer: Taylor Swift\n",
      "Name: Wait For You                             Singer: Elliott Yamin\n",
      "Name: Jesus Christ                             Singer: Brand New\n",
      "Name: Alone (feat. Big Sean & Stefflon Don)    Singer: Halsey\n"
     ]
    }
   ],
   "source": [
    "display_res(res[\"track3\"][\"word2vec\"][\"cos_sim\"], info)"
   ]
  },
  {
   "cell_type": "code",
   "execution_count": 30,
   "id": "058970eb",
   "metadata": {},
   "outputs": [
    {
     "name": "stdout",
     "output_type": "stream",
     "text": [
      "Name: My Only Wish (This Year)                 Singer: Britney Spears\n",
      "Name: Christmas Conga                          Singer: Cyndi Lauper\n",
      "Name: Merry Christmas, Kiss My Ass             Singer: All Time Low\n",
      "Name: St. Patrick's Day                        Singer: John Mayer\n",
      "Name: The Christmas Song (Merry Christmas To You) Singer: Nat King Cole\n",
      "Name: Last Christmas                           Singer: Carly Rae Jepsen\n",
      "Name: Next Year                                Singer: Foo Fighters\n",
      "Name: December's Boudoir                       Singer: Laura Nyro\n",
      "Name: Last Xmas                                Singer: Allie X\n",
      "Name: Santa Claus Is Coming To Town            Singer: The Jackson 5\n"
     ]
    }
   ],
   "source": [
    "display_res(res[\"track3\"][\"bert\"][\"cos_sim\"], info)"
   ]
  },
  {
   "cell_type": "code",
   "execution_count": 31,
   "id": "25b23996",
   "metadata": {},
   "outputs": [
    {
     "name": "stdout",
     "output_type": "stream",
     "text": [
      "Name: Esta Noche Sólo Cantan Para Mí           Singer: La casa azul\n",
      "Name: Just For Now                             Singer: Imogen Heap\n",
      "Name: Snaggletooth                             Singer: Vance Joy\n",
      "Name: Don't Complain                           Singer: Everlast\n",
      "Name: Major System Error                       Singer: Marmozets\n",
      "Name: Visions                                  Singer: Maroon 5\n",
      "Name: Young Blindness                          Singer: The Murlocs\n",
      "Name: Judge Jury and Executioner               Singer: Atoms for Peace\n",
      "Name: G4L                                      Singer: Rihanna\n",
      "Name: My Tangerine Dream                       Singer: Wolfmother\n"
     ]
    }
   ],
   "source": [
    "display_res(res[\"track3\"][\"base_line\"], info)"
   ]
  }
 ],
 "metadata": {
  "kernelspec": {
   "display_name": "Python 3 (ipykernel)",
   "language": "python",
   "name": "python3"
  },
  "language_info": {
   "codemirror_mode": {
    "name": "ipython",
    "version": 3
   },
   "file_extension": ".py",
   "mimetype": "text/x-python",
   "name": "python",
   "nbconvert_exporter": "python",
   "pygments_lexer": "ipython3",
   "version": "3.9.12"
  }
 },
 "nbformat": 4,
 "nbformat_minor": 5
}
