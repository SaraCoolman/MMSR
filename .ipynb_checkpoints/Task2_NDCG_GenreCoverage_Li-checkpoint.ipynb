{
 "cells": [
  {
   "cell_type": "code",
   "execution_count": 1,
   "id": "f49c5324",
   "metadata": {},
   "outputs": [],
   "source": [
    "from ret import read_data"
   ]
  },
  {
   "cell_type": "code",
   "execution_count": 2,
   "id": "1ba7e993",
   "metadata": {},
   "outputs": [],
   "source": [
    "genres = read_data(\"genres\")"
   ]
  },
  {
   "cell_type": "code",
   "execution_count": 3,
   "id": "737110e6",
   "metadata": {},
   "outputs": [],
   "source": [
    "import numpy as np\n",
    "import pandas as pd\n",
    "import ast\n",
    "from functools import reduce"
   ]
  },
  {
   "cell_type": "code",
   "execution_count": 4,
   "id": "ae6ffc0e",
   "metadata": {},
   "outputs": [],
   "source": [
    "retrieved_ids = ['15blZOCUg63HosU3',\n",
    " '3cMJTipuaJSlq27p',\n",
    " 'oiJUeLdVwgBzhPiI',\n",
    " 'eOvLEAOmwApxf5JQ',\n",
    " 'vOGoMtp0LQ2fzS3F',\n",
    " 'vai5vPlNfTBiu6Nj',\n",
    " 'pM5Hf0ucqHSGr3jp',\n",
    " '4sUNaDw0evcjjBzv',\n",
    " 'IvFtcAajHxKWNl7x',\n",
    " 'i3Hq3mMS2pL8aWsU']\n",
    "query_id = '01Yfj2T3YTwJ1Yfy'"
   ]
  },
  {
   "cell_type": "code",
   "execution_count": 5,
   "id": "d7a92b9f",
   "metadata": {},
   "outputs": [
    {
     "data": {
      "text/plain": [
       "0.04946043165467626"
      ]
     },
     "execution_count": 5,
     "metadata": {},
     "output_type": "execute_result"
    }
   ],
   "source": [
    "\n",
    "\"\"\"\n",
    "genre coverage @ 10\n",
    "genres - pd.DataFrame - genre data set \n",
    "queries - nd.array - 2d array of results from query in ids \n",
    "\n",
    "return: \n",
    "res - float - genre coverage @ 10 score\n",
    "\n",
    "\n",
    "dependency: import numpy as np \n",
    "            import pandas as pd \n",
    "\"\"\"\n",
    "\n",
    "def gen_cov_10(retrieved, genres):\n",
    "    # 1.return number of unique genre in the dataset (offline, need optimization)\n",
    "    # 1.1 convert all the values in column \"genre\" from str to nd.array\n",
    "    genres[\"genre_arr\"] = genres[\"genre\"].apply(lambda x: np.array(ast.literal_eval(x)))\n",
    "    \n",
    "    # 1.2 return the union of all genres\n",
    "    all_genres = reduce(np.union1d, genres[\"genre_arr\"])\n",
    "    num_all_genres = len(all_genres)\n",
    "    \n",
    "    # 2.return number of unique genre in the retrieved \n",
    "    # 2.1 return genre of queries in genre with id as index \n",
    "    retrieved_df = genres.loc[genres[\"id\"].isin(retrieved.flatten())]\n",
    "    \n",
    "    # 2.2 return the union of all genres in queries \n",
    "    retrieved_genres = reduce(np.union1d, retrieved_df[\"genre_arr\"]) \n",
    "    num_retrieved_genres = len(retrieved_genres)\n",
    "    \n",
    "    # 3. calculate the genre coverage@10\n",
    "    res = num_retrieved_genres / num_all_genres \n",
    "    return res\n",
    "\n",
    "gen_cov_10(np.array(retrieved_ids), genres)"
   ]
  },
  {
   "cell_type": "code",
   "execution_count": 6,
   "id": "ecb99737",
   "metadata": {},
   "outputs": [
    {
     "data": {
      "text/plain": [
       "0.6498507364439309"
      ]
     },
     "execution_count": 6,
     "metadata": {},
     "output_type": "execute_result"
    }
   ],
   "source": [
    "\"\"\"\n",
    "ndcg@10 score\n",
    "query_id - str - query id \n",
    "retrieved_ids - List[str] - id of the retrieved tracks \n",
    "genres - pd.DataFrame - genre dataset \n",
    "\n",
    "\n",
    "return:\n",
    "ndcg - float - ndcg@10 score \n",
    "\n",
    "\"\"\"\n",
    "\n",
    "def ndcg_score(query_id, retrieved_ids, genres):\n",
    "    # 1. convert all the values in column \"genre\" from str to nd.array\n",
    "    genres[\"genre_arr\"] = genres[\"genre\"].apply(lambda x: np.array(ast.literal_eval(x)))\n",
    "    \n",
    "    # 2. calculate the rel for each track \n",
    "    query_genre = genres.loc[genres[\"id\"] == query_id, 'genre_arr'].to_numpy()[0]\n",
    "    retrieved_genre = pd.DataFrame(retrieved_ids, columns=['id'])\n",
    "    retrieved_genre = pd.merge(genres, retrieved_genre, on=\"id\", how=\"right\")\n",
    "    retrieved_genre[\"rel\"] = retrieved_genre[\"genre_arr\"].apply(lambda x: 2 * len(np.intersect1d(x, query_genre)) / (len(x) + len(query_genre)))\n",
    "    \n",
    "    # 3. calculate dcg\n",
    "    rel = retrieved_genre[\"rel\"].to_numpy()\n",
    "    gain = np.empty(rel.shape)\n",
    "    for i, _ in enumerate(rel):\n",
    "        gain[...,i] = rel[...,i] / np.log2(i + 2)\n",
    "    dcg = np.sum(gain)\n",
    "    \n",
    "    # 4. calculate idcg\n",
    "    rel_sort = np.sort(rel)[::-1]\n",
    "    rel_sort_gain = np.empty(rel_sort.shape)\n",
    "\n",
    "    for i, _ in enumerate(rel_sort):\n",
    "        rel_sort_gain[...,i] = rel_sort[...,i] / np.log2(i + 2)\n",
    "    idcg = np.sum(rel_sort_gain)\n",
    "    \n",
    "    # 5. calculate ndcg\n",
    "    ndcg = dcg / idcg\n",
    "    return ndcg \n",
    "\n",
    "ndcg_score(query_id, retrieved_ids, genres)"
   ]
  }
 ],
 "metadata": {
  "kernelspec": {
   "display_name": "Python 3 (ipykernel)",
   "language": "python",
   "name": "python3"
  },
  "language_info": {
   "codemirror_mode": {
    "name": "ipython",
    "version": 3
   },
   "file_extension": ".py",
   "mimetype": "text/x-python",
   "name": "python",
   "nbconvert_exporter": "python",
   "pygments_lexer": "ipython3",
   "version": "3.9.12"
  }
 },
 "nbformat": 4,
 "nbformat_minor": 5
}
