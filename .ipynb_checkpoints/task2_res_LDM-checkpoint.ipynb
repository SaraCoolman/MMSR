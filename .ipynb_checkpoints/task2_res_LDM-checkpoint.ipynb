{
 "cells": [
  {
   "cell_type": "markdown",
   "id": "e35b9525",
   "metadata": {},
   "source": [
    "# Task 1 Simple Text-based Similarity and Retrieval"
   ]
  },
  {
   "cell_type": "markdown",
   "id": "2006f989",
   "metadata": {},
   "source": [
    "### Team E\n",
    "Version 1.0.1\n",
    "Date: 14/11/2023"
   ]
  },
  {
   "cell_type": "markdown",
   "id": "5c6729f5",
   "metadata": {},
   "source": [
    "## Import Libraries  "
   ]
  },
  {
   "cell_type": "code",
   "execution_count": 1,
   "id": "858c3296",
   "metadata": {},
   "outputs": [],
   "source": [
    "import pandas as pd\n",
    "import numpy as np\n",
    "import ast"
   ]
  },
  {
   "cell_type": "code",
   "execution_count": 2,
   "id": "d6614d1e",
   "metadata": {},
   "outputs": [],
   "source": [
    "from ret import read_data # utility func to load data\n",
    "from ret import get_id_from_info # utility func to return id by entering song's info\n",
    "from ret import display_res # utility func to display results \n",
    "from ret import text_based # modularized text based retrieval system\n",
    "from ret import random_baseline # base line retrieval system that returns random results \n",
    "from ret import cos_sim # wrapper function to calculate cosine similarity\n",
    "from ret import euc_sim # wrapper function to calculate euclidean similarity \n",
    "from ret import precision_and_recall_at_k"
   ]
  },
  {
   "cell_type": "markdown",
   "id": "28642a4c",
   "metadata": {},
   "source": [
    "## Load Data"
   ]
  },
  {
   "cell_type": "code",
   "execution_count": 3,
   "id": "c76b9179",
   "metadata": {},
   "outputs": [],
   "source": [
    "\"\"\"\n",
    "Please put data files in \"\"./data/\" before use \n",
    "\"\"\"\n",
    "\n",
    "info = read_data(\"information\")\n",
    "blf = read_data(\"blf_correlation\")\n",
    "bow = read_data(\"mfcc_bow\")\n",
    "genre_id_mapping = read_data(\"genres\")\n",
    "tfidf = read_data(\"lyrics_tf-idf\")\n",
    "word2vec = read_data(\"lyrics_word2vec\")\n",
    "bert = read_data(\"lyrics_bert\")"
   ]
  },
  {
   "cell_type": "markdown",
   "id": "a13ba797",
   "metadata": {},
   "source": [
    "## Dictionary to Store Results "
   ]
  },
  {
   "cell_type": "code",
   "execution_count": 4,
   "id": "f1e1b436",
   "metadata": {},
   "outputs": [],
   "source": [
    "\"\"\"\n",
    "Dict to store results:\n",
    "query format: res[\"trackTRACKNUMBER\"][\"REPRESENTATION\"][\"SIMILARITYFUNCTION\"]\n",
    "sample query: res[\"track1\"][\"tfidf\"][\"cos_sim\"]\n",
    "\n",
    "returns - list[str] \n",
    "list containing ids of a retrieved tracks \n",
    "\n",
    "After running, use display_res(res[\"trackTRACKNUMBER\"][\"REPRESENTATION\"][\"SIMILARITYFUNCTION\"],info) to display results\n",
    "e.g. display_res(res[\"track1\"][\"tfidf\"][\"cos_sim\"],info)\n",
    "\n",
    "\"\"\"\n",
    "res={\n",
    "    \"track1\": \n",
    "    {\n",
    "    \"base_line\": None,\n",
    "    \"tfidf\":\n",
    "    {\n",
    "        \"cos_sim\": None,\n",
    "        \"euc_sim\": None\n",
    "    },\n",
    "    \"word2vec\":\n",
    "    {\n",
    "        \"cos_sim\": None,\n",
    "        \"euc_sim\": None\n",
    "    },\n",
    "    \"bert\":\n",
    "    {\n",
    "        \"cos_sim\": None,\n",
    "        \"euc_sim\": None\n",
    "    }\n",
    "    },\n",
    "    \"track2\": \n",
    "    {\n",
    "    \"base_line\": None,\n",
    "    \"tfidf\":\n",
    "    {\n",
    "        \"cos_sim\": None,\n",
    "        \"euc_sim\": None\n",
    "    },\n",
    "    \"word2vec\":\n",
    "    {\n",
    "        \"cos_sim\": None,\n",
    "        \"euc_sim\": None\n",
    "    },\n",
    "    \"bert\":\n",
    "    {\n",
    "        \"cos_sim\": None,\n",
    "        \"euc_sim\": None\n",
    "    }\n",
    "    },\n",
    "    \"track3\": \n",
    "    {\n",
    "    \"base_line\": None,\n",
    "    \"tfidf\":\n",
    "    {\n",
    "        \"cos_sim\": None,\n",
    "        \"euc_sim\": None\n",
    "    },\n",
    "    \"word2vec\":\n",
    "    {\n",
    "        \"cos_sim\": None,\n",
    "        \"euc_sim\": None\n",
    "    },\n",
    "    \"bert\":\n",
    "    {\n",
    "        \"cos_sim\": None,\n",
    "        \"euc_sim\": None\n",
    "    }\n",
    "}\n",
    "}"
   ]
  },
  {
   "cell_type": "markdown",
   "id": "1471ae3f",
   "metadata": {},
   "source": [
    "## Track 1 \n",
    "\"Love Me\" \"The 1975\""
   ]
  },
  {
   "cell_type": "code",
   "execution_count": 5,
   "id": "7c602738",
   "metadata": {},
   "outputs": [],
   "source": [
    "name = \"Love Me\"\n",
    "artist = \"The 1975\"\n",
    "id_track1 = get_id_from_info(name, artist, info)"
   ]
  },
  {
   "cell_type": "markdown",
   "id": "ee49a292",
   "metadata": {},
   "source": [
    "# Average P@k Trials\n",
    "\n"
   ]
  },
  {
   "cell_type": "code",
   "execution_count": null,
   "id": "9f834034",
   "metadata": {},
   "outputs": [],
   "source": [
    "# So it works I think but the run time is to slow. takes currently 10s should take 2s max. audiobased() alone takes 5s(should take 1s max)\n",
    "#Idea replace apply? with some numpy equivalent? \n",
    "# replace cos sim implementation with faster numpy one (using dot product and avoiding redundant calcs due to symetrie of cos-sim)\n",
    "# the 2 vectors have missmatiching dimensions (2 vs. 1)\n",
    "\n",
    "# update: it now works when I add flatten() \n",
    "# way faster too\n",
    "\n",
    "\n",
    "\n",
    "'''\n",
    "def cos_sim(arr1, arr2):\n",
    "\n",
    "    \n",
    "    arr2 = arr2.flatten()\n",
    "  \n",
    "    # Calculate cosine similarity between arr1 and arr2\n",
    "    dot_product = np.dot(arr1, arr2)\n",
    "    norm_arr1 = np.linalg.norm(arr1)\n",
    "    norm_arr2 = np.linalg.norm(arr2)\n",
    "    sim = dot_product / (norm_arr1 * norm_arr2)\n",
    "    return sim\n",
    "\n",
    "def audio_based(id, repr, N, sim_func):\n",
    "    # return the query song's row in repr\n",
    "    target_row = repr.loc[repr['id'] == id].iloc[:, 2:].to_numpy()\n",
    "\n",
    "    # Calculate cosine similarities for all rows in repr\n",
    "    repr_data = repr.iloc[:, 2:].to_numpy()\n",
    "    sim_scores = np.apply_along_axis(lambda x: sim_func(x, target_row), axis=1, arr=repr_data)\n",
    "\n",
    "    # Sort tracks by similarity\n",
    "    sorted_indices = np.argsort(sim_scores)[::-1]\n",
    "\n",
    "    # Get the N most similar tracks\n",
    "    res = repr.iloc[sorted_indices[1: N+1]]['id'].to_numpy()\n",
    "    return res\n",
    "'''\n",
    "def get_avg_precision_at_k(df, genres, dataset_genres, k):\n",
    "    # for each query(=row in dataframe) do\n",
    "    # find the genres of the query with get_genre_from_query(query_id, genres)\n",
    "    # calculate precision at k=10 \n",
    "    df['PrecisionAtK'] = df.apply(lambda row: calculate_precision_at_k(get_genre_from_query(row['id'], genres),  get_genre_from_ids(audio_based(row[\"id\"], repr=df, N=100, sim_func=cos_sim), genres), 10), axis=1)\n",
    "\n",
    "    # Calculate mean precision at k\n",
    "    avg_precision = df['PrecisionAtK'].mean()\n",
    "\n",
    "    return avg_precision\n",
    "\n",
    "    \n",
    "def get_avg_recall_at_k(df, genres, dataset_genres, k):\n",
    "    # for each query(=row in dataframe) do\n",
    "    # find the genres of the query with get_genre_from_query(query_id, genres)\n",
    "    # calculate recall at k=10 \n",
    "\n",
    "\n",
    "\n",
    "    df['RecallAtK'] = df.apply(lambda row: calculate_recall_at_k(get_genre_from_query(row['id'], genres),get_genre_from_ids(audio_based(row[\"id\"], repr=df, N=100, sim_func=cos_sim),genres),dataset_genres,10), axis=1)\n",
    "\n",
    "\n",
    "\n",
    "    # Calculate mean recall at k\n",
    "    avg_recall = df['RecallAtK'].mean()\n",
    "\n",
    "    return avg_recall\n",
    "\n",
    "    \n",
    "## timeit\n",
    "import timeit\n",
    "\n",
    "def wrapper():\n",
    "    audio_based(id=id_track1, repr=mfcc_stats, N=10, sim_func=cos_sim)\n",
    "\n",
    "# Measure the execution time using timeit\n",
    "elapsed_time = timeit.timeit(wrapper, number=1)\n",
    "\n",
    "print(f\"Elapsed time: {elapsed_time} seconds\")"
   ]
  },
  {
   "cell_type": "code",
   "execution_count": 6,
   "id": "e0315641",
   "metadata": {},
   "outputs": [],
   "source": [
    "res[\"track1\"][\"base_line\"] = random_baseline(id=id_track1, info=info, N=10)"
   ]
  },
  {
   "cell_type": "code",
   "execution_count": 7,
   "id": "bc4e9249",
   "metadata": {},
   "outputs": [
    {
     "data": {
      "text/html": [
       "<div>\n",
       "<style scoped>\n",
       "    .dataframe tbody tr th:only-of-type {\n",
       "        vertical-align: middle;\n",
       "    }\n",
       "\n",
       "    .dataframe tbody tr th {\n",
       "        vertical-align: top;\n",
       "    }\n",
       "\n",
       "    .dataframe thead th {\n",
       "        text-align: right;\n",
       "    }\n",
       "</style>\n",
       "<table border=\"1\" class=\"dataframe\">\n",
       "  <thead>\n",
       "    <tr style=\"text-align: right;\">\n",
       "      <th></th>\n",
       "      <th>id</th>\n",
       "      <th>BLF_CORR0000</th>\n",
       "      <th>BLF_CORR0001</th>\n",
       "      <th>BLF_CORR0002</th>\n",
       "      <th>BLF_CORR0003</th>\n",
       "      <th>BLF_CORR0004</th>\n",
       "      <th>BLF_CORR0005</th>\n",
       "      <th>BLF_CORR0006</th>\n",
       "      <th>BLF_CORR0007</th>\n",
       "      <th>BLF_CORR0008</th>\n",
       "      <th>...</th>\n",
       "      <th>BLF_CORR1316</th>\n",
       "      <th>BLF_CORR1317</th>\n",
       "      <th>BLF_CORR1318</th>\n",
       "      <th>BLF_CORR1319</th>\n",
       "      <th>BLF_CORR1320</th>\n",
       "      <th>BLF_CORR1321</th>\n",
       "      <th>BLF_CORR1322</th>\n",
       "      <th>BLF_CORR1323</th>\n",
       "      <th>BLF_CORR1324</th>\n",
       "      <th>BLF_CORR1325</th>\n",
       "    </tr>\n",
       "  </thead>\n",
       "  <tbody>\n",
       "    <tr>\n",
       "      <th>0</th>\n",
       "      <td>01Yfj2T3YTwJ1Yfy</td>\n",
       "      <td>0.000214</td>\n",
       "      <td>0.000067</td>\n",
       "      <td>0.000017</td>\n",
       "      <td>0.000087</td>\n",
       "      <td>0.000058</td>\n",
       "      <td>0.000025</td>\n",
       "      <td>0.000036</td>\n",
       "      <td>0.000041</td>\n",
       "      <td>0.000050</td>\n",
       "      <td>...</td>\n",
       "      <td>0.000580</td>\n",
       "      <td>0.000464</td>\n",
       "      <td>0.000425</td>\n",
       "      <td>0.000394</td>\n",
       "      <td>0.000613</td>\n",
       "      <td>0.000538</td>\n",
       "      <td>0.000502</td>\n",
       "      <td>0.000662</td>\n",
       "      <td>0.000628</td>\n",
       "      <td>0.000674</td>\n",
       "    </tr>\n",
       "    <tr>\n",
       "      <th>1</th>\n",
       "      <td>01gyRHLquwXDlhkO</td>\n",
       "      <td>0.000398</td>\n",
       "      <td>0.000209</td>\n",
       "      <td>0.000155</td>\n",
       "      <td>0.000209</td>\n",
       "      <td>0.000240</td>\n",
       "      <td>0.000224</td>\n",
       "      <td>0.000161</td>\n",
       "      <td>0.000173</td>\n",
       "      <td>0.000206</td>\n",
       "      <td>...</td>\n",
       "      <td>0.000691</td>\n",
       "      <td>0.000648</td>\n",
       "      <td>0.000647</td>\n",
       "      <td>0.000628</td>\n",
       "      <td>0.000697</td>\n",
       "      <td>0.000673</td>\n",
       "      <td>0.000655</td>\n",
       "      <td>0.000698</td>\n",
       "      <td>0.000683</td>\n",
       "      <td>0.000722</td>\n",
       "    </tr>\n",
       "    <tr>\n",
       "      <th>2</th>\n",
       "      <td>01rMxQv6vhyE1oQX</td>\n",
       "      <td>0.000298</td>\n",
       "      <td>0.000195</td>\n",
       "      <td>0.000171</td>\n",
       "      <td>0.000155</td>\n",
       "      <td>0.000150</td>\n",
       "      <td>0.000123</td>\n",
       "      <td>0.000126</td>\n",
       "      <td>0.000195</td>\n",
       "      <td>0.000123</td>\n",
       "      <td>...</td>\n",
       "      <td>0.000696</td>\n",
       "      <td>0.000651</td>\n",
       "      <td>0.000630</td>\n",
       "      <td>0.000555</td>\n",
       "      <td>0.000714</td>\n",
       "      <td>0.000685</td>\n",
       "      <td>0.000593</td>\n",
       "      <td>0.000717</td>\n",
       "      <td>0.000632</td>\n",
       "      <td>0.000654</td>\n",
       "    </tr>\n",
       "    <tr>\n",
       "      <th>3</th>\n",
       "      <td>02RGE9FNH65RtMS7</td>\n",
       "      <td>0.000341</td>\n",
       "      <td>0.000226</td>\n",
       "      <td>0.000144</td>\n",
       "      <td>0.000119</td>\n",
       "      <td>0.000119</td>\n",
       "      <td>0.000189</td>\n",
       "      <td>0.000193</td>\n",
       "      <td>0.000208</td>\n",
       "      <td>0.000214</td>\n",
       "      <td>...</td>\n",
       "      <td>0.000707</td>\n",
       "      <td>0.000706</td>\n",
       "      <td>0.000693</td>\n",
       "      <td>0.000689</td>\n",
       "      <td>0.000713</td>\n",
       "      <td>0.000690</td>\n",
       "      <td>0.000704</td>\n",
       "      <td>0.000702</td>\n",
       "      <td>0.000706</td>\n",
       "      <td>0.000705</td>\n",
       "    </tr>\n",
       "    <tr>\n",
       "      <th>4</th>\n",
       "      <td>02ZnlCGZEbkfCDxo</td>\n",
       "      <td>0.000315</td>\n",
       "      <td>0.000145</td>\n",
       "      <td>0.000116</td>\n",
       "      <td>0.000133</td>\n",
       "      <td>0.000091</td>\n",
       "      <td>0.000086</td>\n",
       "      <td>0.000052</td>\n",
       "      <td>0.000109</td>\n",
       "      <td>0.000145</td>\n",
       "      <td>...</td>\n",
       "      <td>0.000662</td>\n",
       "      <td>0.000594</td>\n",
       "      <td>0.000512</td>\n",
       "      <td>0.000437</td>\n",
       "      <td>0.000623</td>\n",
       "      <td>0.000587</td>\n",
       "      <td>0.000547</td>\n",
       "      <td>0.000627</td>\n",
       "      <td>0.000595</td>\n",
       "      <td>0.000632</td>\n",
       "    </tr>\n",
       "    <tr>\n",
       "      <th>...</th>\n",
       "      <td>...</td>\n",
       "      <td>...</td>\n",
       "      <td>...</td>\n",
       "      <td>...</td>\n",
       "      <td>...</td>\n",
       "      <td>...</td>\n",
       "      <td>...</td>\n",
       "      <td>...</td>\n",
       "      <td>...</td>\n",
       "      <td>...</td>\n",
       "      <td>...</td>\n",
       "      <td>...</td>\n",
       "      <td>...</td>\n",
       "      <td>...</td>\n",
       "      <td>...</td>\n",
       "      <td>...</td>\n",
       "      <td>...</td>\n",
       "      <td>...</td>\n",
       "      <td>...</td>\n",
       "      <td>...</td>\n",
       "      <td>...</td>\n",
       "    </tr>\n",
       "    <tr>\n",
       "      <th>10089</th>\n",
       "      <td>zyzILCQvVeUFIINi</td>\n",
       "      <td>0.000227</td>\n",
       "      <td>0.000170</td>\n",
       "      <td>0.000120</td>\n",
       "      <td>0.000184</td>\n",
       "      <td>0.000179</td>\n",
       "      <td>0.000144</td>\n",
       "      <td>0.000042</td>\n",
       "      <td>0.000008</td>\n",
       "      <td>0.000098</td>\n",
       "      <td>...</td>\n",
       "      <td>0.000631</td>\n",
       "      <td>0.000582</td>\n",
       "      <td>0.000537</td>\n",
       "      <td>0.000445</td>\n",
       "      <td>0.000644</td>\n",
       "      <td>0.000623</td>\n",
       "      <td>0.000559</td>\n",
       "      <td>0.000636</td>\n",
       "      <td>0.000556</td>\n",
       "      <td>0.000665</td>\n",
       "    </tr>\n",
       "    <tr>\n",
       "      <th>10090</th>\n",
       "      <td>zzgS4ZqyswamEWNj</td>\n",
       "      <td>0.000345</td>\n",
       "      <td>0.000124</td>\n",
       "      <td>0.000042</td>\n",
       "      <td>0.000042</td>\n",
       "      <td>0.000096</td>\n",
       "      <td>0.000096</td>\n",
       "      <td>0.000074</td>\n",
       "      <td>0.000052</td>\n",
       "      <td>0.000029</td>\n",
       "      <td>...</td>\n",
       "      <td>0.000671</td>\n",
       "      <td>0.000593</td>\n",
       "      <td>0.000522</td>\n",
       "      <td>0.000521</td>\n",
       "      <td>0.000642</td>\n",
       "      <td>0.000572</td>\n",
       "      <td>0.000539</td>\n",
       "      <td>0.000666</td>\n",
       "      <td>0.000613</td>\n",
       "      <td>0.000693</td>\n",
       "    </tr>\n",
       "    <tr>\n",
       "      <th>10091</th>\n",
       "      <td>zzoFYDMlqU1X2zz1</td>\n",
       "      <td>0.000455</td>\n",
       "      <td>0.000269</td>\n",
       "      <td>0.000183</td>\n",
       "      <td>0.000163</td>\n",
       "      <td>0.000120</td>\n",
       "      <td>0.000082</td>\n",
       "      <td>0.000088</td>\n",
       "      <td>0.000080</td>\n",
       "      <td>0.000038</td>\n",
       "      <td>...</td>\n",
       "      <td>0.000702</td>\n",
       "      <td>0.000630</td>\n",
       "      <td>0.000628</td>\n",
       "      <td>0.000533</td>\n",
       "      <td>0.000629</td>\n",
       "      <td>0.000616</td>\n",
       "      <td>0.000516</td>\n",
       "      <td>0.000681</td>\n",
       "      <td>0.000650</td>\n",
       "      <td>0.000631</td>\n",
       "    </tr>\n",
       "    <tr>\n",
       "      <th>10092</th>\n",
       "      <td>zzpkRCGA5ud8q4mv</td>\n",
       "      <td>0.000338</td>\n",
       "      <td>-0.000065</td>\n",
       "      <td>-0.000019</td>\n",
       "      <td>0.000036</td>\n",
       "      <td>0.000045</td>\n",
       "      <td>0.000002</td>\n",
       "      <td>-0.000031</td>\n",
       "      <td>-0.000049</td>\n",
       "      <td>0.000011</td>\n",
       "      <td>...</td>\n",
       "      <td>0.000698</td>\n",
       "      <td>0.000670</td>\n",
       "      <td>0.000665</td>\n",
       "      <td>0.000621</td>\n",
       "      <td>0.000706</td>\n",
       "      <td>0.000682</td>\n",
       "      <td>0.000643</td>\n",
       "      <td>0.000695</td>\n",
       "      <td>0.000660</td>\n",
       "      <td>0.000702</td>\n",
       "    </tr>\n",
       "    <tr>\n",
       "      <th>10093</th>\n",
       "      <td>zzx8CWdM7qkxKQpC</td>\n",
       "      <td>0.000521</td>\n",
       "      <td>0.000033</td>\n",
       "      <td>0.000115</td>\n",
       "      <td>0.000052</td>\n",
       "      <td>0.000025</td>\n",
       "      <td>0.000123</td>\n",
       "      <td>0.000122</td>\n",
       "      <td>0.000050</td>\n",
       "      <td>0.000105</td>\n",
       "      <td>...</td>\n",
       "      <td>0.000694</td>\n",
       "      <td>0.000627</td>\n",
       "      <td>0.000610</td>\n",
       "      <td>0.000589</td>\n",
       "      <td>0.000633</td>\n",
       "      <td>0.000607</td>\n",
       "      <td>0.000591</td>\n",
       "      <td>0.000671</td>\n",
       "      <td>0.000660</td>\n",
       "      <td>0.000676</td>\n",
       "    </tr>\n",
       "  </tbody>\n",
       "</table>\n",
       "<p>10094 rows × 1327 columns</p>\n",
       "</div>"
      ],
      "text/plain": [
       "                     id  BLF_CORR0000  BLF_CORR0001  BLF_CORR0002  \\\n",
       "0      01Yfj2T3YTwJ1Yfy      0.000214      0.000067      0.000017   \n",
       "1      01gyRHLquwXDlhkO      0.000398      0.000209      0.000155   \n",
       "2      01rMxQv6vhyE1oQX      0.000298      0.000195      0.000171   \n",
       "3      02RGE9FNH65RtMS7      0.000341      0.000226      0.000144   \n",
       "4      02ZnlCGZEbkfCDxo      0.000315      0.000145      0.000116   \n",
       "...                 ...           ...           ...           ...   \n",
       "10089  zyzILCQvVeUFIINi      0.000227      0.000170      0.000120   \n",
       "10090  zzgS4ZqyswamEWNj      0.000345      0.000124      0.000042   \n",
       "10091  zzoFYDMlqU1X2zz1      0.000455      0.000269      0.000183   \n",
       "10092  zzpkRCGA5ud8q4mv      0.000338     -0.000065     -0.000019   \n",
       "10093  zzx8CWdM7qkxKQpC      0.000521      0.000033      0.000115   \n",
       "\n",
       "       BLF_CORR0003  BLF_CORR0004  BLF_CORR0005  BLF_CORR0006  BLF_CORR0007  \\\n",
       "0          0.000087      0.000058      0.000025      0.000036      0.000041   \n",
       "1          0.000209      0.000240      0.000224      0.000161      0.000173   \n",
       "2          0.000155      0.000150      0.000123      0.000126      0.000195   \n",
       "3          0.000119      0.000119      0.000189      0.000193      0.000208   \n",
       "4          0.000133      0.000091      0.000086      0.000052      0.000109   \n",
       "...             ...           ...           ...           ...           ...   \n",
       "10089      0.000184      0.000179      0.000144      0.000042      0.000008   \n",
       "10090      0.000042      0.000096      0.000096      0.000074      0.000052   \n",
       "10091      0.000163      0.000120      0.000082      0.000088      0.000080   \n",
       "10092      0.000036      0.000045      0.000002     -0.000031     -0.000049   \n",
       "10093      0.000052      0.000025      0.000123      0.000122      0.000050   \n",
       "\n",
       "       BLF_CORR0008  ...  BLF_CORR1316  BLF_CORR1317  BLF_CORR1318  \\\n",
       "0          0.000050  ...      0.000580      0.000464      0.000425   \n",
       "1          0.000206  ...      0.000691      0.000648      0.000647   \n",
       "2          0.000123  ...      0.000696      0.000651      0.000630   \n",
       "3          0.000214  ...      0.000707      0.000706      0.000693   \n",
       "4          0.000145  ...      0.000662      0.000594      0.000512   \n",
       "...             ...  ...           ...           ...           ...   \n",
       "10089      0.000098  ...      0.000631      0.000582      0.000537   \n",
       "10090      0.000029  ...      0.000671      0.000593      0.000522   \n",
       "10091      0.000038  ...      0.000702      0.000630      0.000628   \n",
       "10092      0.000011  ...      0.000698      0.000670      0.000665   \n",
       "10093      0.000105  ...      0.000694      0.000627      0.000610   \n",
       "\n",
       "       BLF_CORR1319  BLF_CORR1320  BLF_CORR1321  BLF_CORR1322  BLF_CORR1323  \\\n",
       "0          0.000394      0.000613      0.000538      0.000502      0.000662   \n",
       "1          0.000628      0.000697      0.000673      0.000655      0.000698   \n",
       "2          0.000555      0.000714      0.000685      0.000593      0.000717   \n",
       "3          0.000689      0.000713      0.000690      0.000704      0.000702   \n",
       "4          0.000437      0.000623      0.000587      0.000547      0.000627   \n",
       "...             ...           ...           ...           ...           ...   \n",
       "10089      0.000445      0.000644      0.000623      0.000559      0.000636   \n",
       "10090      0.000521      0.000642      0.000572      0.000539      0.000666   \n",
       "10091      0.000533      0.000629      0.000616      0.000516      0.000681   \n",
       "10092      0.000621      0.000706      0.000682      0.000643      0.000695   \n",
       "10093      0.000589      0.000633      0.000607      0.000591      0.000671   \n",
       "\n",
       "       BLF_CORR1324  BLF_CORR1325  \n",
       "0          0.000628      0.000674  \n",
       "1          0.000683      0.000722  \n",
       "2          0.000632      0.000654  \n",
       "3          0.000706      0.000705  \n",
       "4          0.000595      0.000632  \n",
       "...             ...           ...  \n",
       "10089      0.000556      0.000665  \n",
       "10090      0.000613      0.000693  \n",
       "10091      0.000650      0.000631  \n",
       "10092      0.000660      0.000702  \n",
       "10093      0.000660      0.000676  \n",
       "\n",
       "[10094 rows x 1327 columns]"
      ]
     },
     "execution_count": 7,
     "metadata": {},
     "output_type": "execute_result"
    }
   ],
   "source": [
    "blf"
   ]
  },
  {
   "cell_type": "code",
   "execution_count": 8,
   "id": "6582dc1f",
   "metadata": {},
   "outputs": [],
   "source": [
    "#precision_and_recall_at_k(40, repr=blf.head(100), genre_id_mapping= genre_id_mapping)"
   ]
  },
  {
   "cell_type": "code",
   "execution_count": 9,
   "id": "a6e599d2",
   "metadata": {},
   "outputs": [
    {
     "name": "stdout",
     "output_type": "stream",
     "text": [
      "0.8055555555555556\n",
      "0.8055555555555556\n"
     ]
    }
   ],
   "source": [
    "res[\"track1\"][\"tfidf\"][\"cos_sim\"] = text_based(id=id_track1, repr=blf, N=10, sim_func=cos_sim, genre_id_mapping = genre_id_mapping)"
   ]
  },
  {
   "cell_type": "code",
   "execution_count": null,
   "id": "c7de922e",
   "metadata": {},
   "outputs": [],
   "source": [
    "'''\n",
    "# genre coverage\n",
    "\n",
    "def genre_coverage(genre_id_mapping, similarities):\n",
    "   \n",
    "    # Apply a lambda function to transform each element in the \"genres\" into a set and add it to the set \"all_genres\"\n",
    "    all_genres_in_data = set()\n",
    "    genre_id_mapping[\"genre\"].apply(lambda genres: all_genres_in_data.update(set(list(genres))))\n",
    "    nr_unique_genres_overall = len(all_genres_in_data)\n",
    "    all_genres_retrieved = set()\n",
    "    # Filter the DataFrame\n",
    "\n",
    "    filtered_df = genre_id_mapping[genre_id_mapping['id'].isin(similarities)]\n",
    "\n",
    "    filtered_df[\"genre\"].apply(lambda genres: all_genres_retrieved.update(set(list(genres))))\n",
    "   \n",
    "    nr_unique_genres_retrieved = len(all_genres_retrieved)\n",
    "    print(nr_unique_genres_retrieved/nr_unique_genres_overall)\n",
    "    return nr_unique_genres_retrieved/nr_unique_genres_overall\n",
    "    \n",
    "    '''"
   ]
  },
  {
   "cell_type": "code",
   "execution_count": null,
   "id": "6edf8dcc",
   "metadata": {},
   "outputs": [],
   "source": [
    "\n"
   ]
  },
  {
   "cell_type": "code",
   "execution_count": null,
   "id": "40730785",
   "metadata": {},
   "outputs": [],
   "source": []
  },
  {
   "cell_type": "code",
   "execution_count": null,
   "id": "ea116b29",
   "metadata": {},
   "outputs": [],
   "source": []
  },
  {
   "cell_type": "code",
   "execution_count": 10,
   "id": "9aedf0e0",
   "metadata": {},
   "outputs": [
    {
     "name": "stdout",
     "output_type": "stream",
     "text": [
      "0.8055555555555556\n",
      "0.8055555555555556\n"
     ]
    }
   ],
   "source": [
    "res[\"track1\"][\"word2vec\"][\"cos_sim\"] = text_based(id=id_track1, repr=word2vec, N=10, sim_func=cos_sim, genre_id_mapping = genre_id_mapping)"
   ]
  },
  {
   "cell_type": "code",
   "execution_count": 11,
   "id": "5d65c28d",
   "metadata": {},
   "outputs": [
    {
     "name": "stdout",
     "output_type": "stream",
     "text": [
      "0.8333333333333334\n",
      "0.8333333333333334\n"
     ]
    }
   ],
   "source": [
    "res[\"track1\"][\"bert\"][\"cos_sim\"] = text_based(id=id_track1, repr=bert, N=10, sim_func=cos_sim, genre_id_mapping = genre_id_mapping)"
   ]
  },
  {
   "cell_type": "code",
   "execution_count": 12,
   "id": "d07a56fc",
   "metadata": {},
   "outputs": [
    {
     "name": "stdout",
     "output_type": "stream",
     "text": [
      "Name: Put a Little Love On Me                  Singer: Delegation\n",
      "Name: Lamia                                    Singer: Mandragora Scream\n",
      "Name: Noches Sin Luna                          Singer: Thalía\n",
      "Name: Road Rash                                Singer: Mad Caddies\n",
      "Name: Like a Champion                          Singer: Selena Gomez\n",
      "Name: Your Prime                               Singer: Anderson .Paak\n",
      "Name: Take Me Higher                           Singer: Inna\n",
      "Name: Planet Home                              Singer: Jamiroquai\n",
      "Name: Higher Love - Single Version             Singer: Steve Winwood\n",
      "Name: The Internet                             Singer: Jon Bellion\n"
     ]
    }
   ],
   "source": [
    "display_res(res[\"track1\"][\"tfidf\"][\"cos_sim\"], info)"
   ]
  },
  {
   "cell_type": "code",
   "execution_count": 13,
   "id": "3df467fe",
   "metadata": {},
   "outputs": [
    {
     "name": "stdout",
     "output_type": "stream",
     "text": [
      "Name: Miss Independent                         Singer: Ne-Yo\n",
      "Name: If Our Love Is Wrong                     Singer: Calum Scott\n",
      "Name: Looking For Clues                        Singer: Robert Palmer\n",
      "Name: Out on the Tiles                         Singer: Led Zeppelin\n",
      "Name: So Much Love                             Singer: The Rocket Summer\n",
      "Name: Let There Be Love                        Singer: Simple Minds\n",
      "Name: In the Evening                           Singer: Led Zeppelin\n",
      "Name: All You Got                              Singer: Tegan and Sara\n",
      "Name: Rosalyn                                  Singer: David Bowie\n",
      "Name: How Bad Do You Want It (Oh Yeah)         Singer: Sevyn Streeter\n"
     ]
    }
   ],
   "source": [
    "display_res(res[\"track1\"][\"word2vec\"][\"cos_sim\"], info)"
   ]
  },
  {
   "cell_type": "code",
   "execution_count": 14,
   "id": "148245ea",
   "metadata": {},
   "outputs": [
    {
     "name": "stdout",
     "output_type": "stream",
     "text": [
      "Name: Thug City                                Singer: Dance Gavin Dance\n",
      "Name: Shine                                    Singer: Take That\n",
      "Name: One, Two, Three, GO!                     Singer: Belanova\n",
      "Name: Right There                              Singer: Ariana Grande\n",
      "Name: Bing Bing                                Singer: Crayon Pop\n",
      "Name: Come Get It Bae                          Singer: Pharrell Williams\n",
      "Name: We Made You                              Singer: Eminem\n",
      "Name: Here I Am                                Singer: Monica\n",
      "Name: Wannabe                                  Singer: why mona\n",
      "Name: Edge of the World                        Singer: Faith No More\n"
     ]
    }
   ],
   "source": [
    "display_res(res[\"track1\"][\"bert\"][\"cos_sim\"], info)"
   ]
  },
  {
   "cell_type": "code",
   "execution_count": 15,
   "id": "c4439dcb",
   "metadata": {},
   "outputs": [
    {
     "name": "stdout",
     "output_type": "stream",
     "text": [
      "Name: Anima Perduta                            Singer: Rhapsody of Fire\n",
      "Name: Number 1                                 Singer: Manowar\n",
      "Name: Young London                             Singer: Angels & Airwaves\n",
      "Name: This Is War                              Singer: Ill Niño\n",
      "Name: Arremesso                                Singer: A Barca do Sol\n",
      "Name: Afraid of Love                           Singer: Toto\n",
      "Name: Chances Are                              Singer: Sheryl Crow\n",
      "Name: One                                      Singer: Harry Nilsson\n",
      "Name: Villainy Thrives                         Singer: Trivium\n",
      "Name: Theme From Mahogany (Do You Know Where You're Going To) Singer: Diana Ross\n"
     ]
    }
   ],
   "source": [
    "display_res(res[\"track1\"][\"base_line\"], info)"
   ]
  },
  {
   "cell_type": "markdown",
   "id": "cceb476d",
   "metadata": {},
   "source": [
    "## Track 2 "
   ]
  },
  {
   "cell_type": "markdown",
   "id": "89bd5531",
   "metadata": {},
   "source": [
    "\"One\" \"U2\""
   ]
  },
  {
   "cell_type": "code",
   "execution_count": 16,
   "id": "c5011335",
   "metadata": {},
   "outputs": [],
   "source": [
    "name = 'One'\n",
    "artist = 'U2'\n",
    "id_track2 = get_id_from_info(name, artist, info)"
   ]
  },
  {
   "cell_type": "code",
   "execution_count": 17,
   "id": "dbf54e26",
   "metadata": {},
   "outputs": [
    {
     "name": "stdout",
     "output_type": "stream",
     "text": [
      "0.8333333333333334\n",
      "0.8333333333333334\n"
     ]
    }
   ],
   "source": [
    "res[\"track2\"][\"tfidf\"][\"cos_sim\"] = text_based(id=id_track2, repr=tfidf, N=10, sim_func=cos_sim, genre_id_mapping = genre_id_mapping)"
   ]
  },
  {
   "cell_type": "code",
   "execution_count": 18,
   "id": "06eccb80",
   "metadata": {},
   "outputs": [
    {
     "name": "stdout",
     "output_type": "stream",
     "text": [
      "0.75\n",
      "0.75\n"
     ]
    }
   ],
   "source": [
    "res[\"track2\"][\"word2vec\"][\"cos_sim\"] = text_based(id=id_track2, repr=word2vec, N=10, sim_func=cos_sim, genre_id_mapping = genre_id_mapping)"
   ]
  },
  {
   "cell_type": "code",
   "execution_count": 19,
   "id": "804341fd",
   "metadata": {},
   "outputs": [
    {
     "name": "stdout",
     "output_type": "stream",
     "text": [
      "0.8055555555555556\n",
      "0.8055555555555556\n"
     ]
    }
   ],
   "source": [
    "res[\"track2\"][\"bert\"][\"cos_sim\"] = text_based(id=id_track2, repr=bert, N=10, sim_func=cos_sim, genre_id_mapping = genre_id_mapping)"
   ]
  },
  {
   "cell_type": "code",
   "execution_count": 20,
   "id": "45e459fa",
   "metadata": {},
   "outputs": [],
   "source": [
    "#res[\"track2\"][\"base_line\"] = random_baseline(id=id_track2, info=info, N=10, genre_id_mapping = genre_id_mapping)"
   ]
  },
  {
   "cell_type": "code",
   "execution_count": 21,
   "id": "ec188e4a",
   "metadata": {},
   "outputs": [
    {
     "name": "stdout",
     "output_type": "stream",
     "text": [
      "Name: One                                      Singer: Mary J. Blige\n",
      "Name: One Love (feat. Estelle)                 Singer: David Guetta\n",
      "Name: Love the One You're With                 Singer: Stephen Stills\n",
      "Name: One                                      Singer: Alanis Morissette\n",
      "Name: No One - Acoustic                        Singer: Alicia Keys\n",
      "Name: One Tribe (Defqon.1 2019 Anthem)         Singer: Phuture Noize\n",
      "Name: You Can Be the One                       Singer: Late Night Alumni\n",
      "Name: Rape Me                                  Singer: Nirvana\n",
      "Name: Palavras No Corpo                        Singer: Gal Costa\n",
      "Name: No One in the World                      Singer: Anita Baker\n"
     ]
    }
   ],
   "source": [
    "display_res(res[\"track2\"][\"tfidf\"][\"cos_sim\"], info)"
   ]
  },
  {
   "cell_type": "code",
   "execution_count": 22,
   "id": "846cc372",
   "metadata": {},
   "outputs": [
    {
     "name": "stdout",
     "output_type": "stream",
     "text": [
      "Name: One                                      Singer: Mary J. Blige\n",
      "Name: One Love (feat. Estelle)                 Singer: David Guetta\n",
      "Name: Quien Eres Tu (Feat. Trey Songz)         Singer: María José\n",
      "Name: Dance With The One That Brought You      Singer: Shania Twain\n",
      "Name: Apocalyptic                              Singer: Halestorm\n",
      "Name: I Will Survive - Extended Version        Singer: Gloria Gaynor\n",
      "Name: King For A Day                           Singer: Thompson Twins\n",
      "Name: Never Let Me Down                        Singer: Kanye West\n",
      "Name: Fica Mais um Pouco Amor                  Singer: Emicida\n",
      "Name: I Will Survive                           Singer: Gloria Gaynor\n"
     ]
    }
   ],
   "source": [
    "display_res(res[\"track2\"][\"word2vec\"][\"cos_sim\"], info)"
   ]
  },
  {
   "cell_type": "code",
   "execution_count": 23,
   "id": "f3eb6227",
   "metadata": {},
   "outputs": [
    {
     "name": "stdout",
     "output_type": "stream",
     "text": [
      "Name: One                                      Singer: Mary J. Blige\n",
      "Name: What About Love                          Singer: Austin Mahone\n",
      "Name: All of Your Glory                        Singer: Broods\n",
      "Name: La Tortura (feat. Alejandro Sanz)        Singer: Shakira\n",
      "Name: Love One Another                         Singer: Cher\n",
      "Name: Black Lake                               Singer: Björk\n",
      "Name: El Triste                                Singer: José José\n",
      "Name: Love Makes the World Go Round            Singer: Ashlee Simpson\n",
      "Name: Keep It Together                         Singer: Madonna\n",
      "Name: U Want Me 2                              Singer: Sarah McLachlan\n"
     ]
    }
   ],
   "source": [
    "display_res(res[\"track2\"][\"bert\"][\"cos_sim\"], info)"
   ]
  },
  {
   "cell_type": "code",
   "execution_count": 24,
   "id": "645f0542",
   "metadata": {},
   "outputs": [],
   "source": [
    "#display_res(res[\"track2\"][\"base_line\"], info)"
   ]
  },
  {
   "cell_type": "markdown",
   "id": "6bf2e082",
   "metadata": {},
   "source": [
    "## Track 3"
   ]
  },
  {
   "cell_type": "markdown",
   "id": "f5b0ae61",
   "metadata": {},
   "source": [
    "\"Every Christmas\" \"Kelly Clarkson\""
   ]
  },
  {
   "cell_type": "code",
   "execution_count": 25,
   "id": "c156fd26",
   "metadata": {},
   "outputs": [],
   "source": [
    "name = 'Every Christmas'\n",
    "artist = 'Kelly Clarkson'\n",
    "id_track3 = get_id_from_info(name, artist, info)"
   ]
  },
  {
   "cell_type": "code",
   "execution_count": 26,
   "id": "02a4e6a3",
   "metadata": {},
   "outputs": [
    {
     "name": "stdout",
     "output_type": "stream",
     "text": [
      "0.8333333333333334\n",
      "0.8333333333333334\n"
     ]
    }
   ],
   "source": [
    "res[\"track3\"][\"tfidf\"][\"cos_sim\"] = text_based(id=id_track3, repr=tfidf, N=10, sim_func=cos_sim, genre_id_mapping = genre_id_mapping)"
   ]
  },
  {
   "cell_type": "code",
   "execution_count": 27,
   "id": "f7d6f91b",
   "metadata": {},
   "outputs": [
    {
     "name": "stdout",
     "output_type": "stream",
     "text": [
      "0.8333333333333334\n",
      "0.8333333333333334\n"
     ]
    }
   ],
   "source": [
    "res[\"track3\"][\"word2vec\"][\"cos_sim\"] = text_based(id=id_track3, repr=word2vec, N=10, sim_func=cos_sim, genre_id_mapping = genre_id_mapping)"
   ]
  },
  {
   "cell_type": "code",
   "execution_count": 28,
   "id": "dbf1f63e",
   "metadata": {},
   "outputs": [
    {
     "name": "stdout",
     "output_type": "stream",
     "text": [
      "0.8055555555555556\n",
      "0.8055555555555556\n"
     ]
    }
   ],
   "source": [
    "res[\"track3\"][\"bert\"][\"cos_sim\"] = text_based(id=id_track3, repr=bert, N=10, sim_func=cos_sim, genre_id_mapping = genre_id_mapping)"
   ]
  },
  {
   "cell_type": "code",
   "execution_count": 29,
   "id": "26a0404e",
   "metadata": {},
   "outputs": [],
   "source": [
    "res[\"track3\"][\"base_line\"] = random_baseline(id=id_track3, info=info, N=10)"
   ]
  },
  {
   "cell_type": "code",
   "execution_count": 30,
   "id": "b45daced",
   "metadata": {},
   "outputs": [
    {
     "name": "stdout",
     "output_type": "stream",
     "text": [
      "Name: Christmas Conga                          Singer: Cyndi Lauper\n",
      "Name: Three Ships                              Singer: Cyndi Lauper\n",
      "Name: Hellhound On My Trail                    Singer: Robert Johnson\n",
      "Name: St. Patrick's Day                        Singer: John Mayer\n",
      "Name: Last Christmas                           Singer: Carly Rae Jepsen\n",
      "Name: My Only Wish (This Year)                 Singer: Britney Spears\n",
      "Name: Christmas Vacation                       Singer: Descendents\n",
      "Name: Last Christmas - Studio Version          Singer: Jimmy Eat World\n",
      "Name: The Christmas Song (Merry Christmas To You) Singer: Nat King Cole\n",
      "Name: I Shut Doors and Windows                 Singer: September Malevolence\n"
     ]
    }
   ],
   "source": [
    "display_res(res[\"track3\"][\"tfidf\"][\"cos_sim\"], info)"
   ]
  },
  {
   "cell_type": "code",
   "execution_count": 31,
   "id": "1adde100",
   "metadata": {},
   "outputs": [
    {
     "name": "stdout",
     "output_type": "stream",
     "text": [
      "Name: St. Patrick's Day                        Singer: John Mayer\n",
      "Name: Junesong Provision                       Singer: Coheed and Cambria\n",
      "Name: My Only Wish (This Year)                 Singer: Britney Spears\n",
      "Name: PERFECT!                                 Singer: WJSN\n",
      "Name: Si Tu Novio Te Deja Sola                 Singer: J Balvin\n",
      "Name: So Doggone Lonesome                      Singer: Johnny Cash\n",
      "Name: The Best Day                             Singer: Taylor Swift\n",
      "Name: Wait For You                             Singer: Elliott Yamin\n",
      "Name: Jesus Christ                             Singer: Brand New\n",
      "Name: Alone (feat. Big Sean & Stefflon Don)    Singer: Halsey\n"
     ]
    }
   ],
   "source": [
    "display_res(res[\"track3\"][\"word2vec\"][\"cos_sim\"], info)"
   ]
  },
  {
   "cell_type": "code",
   "execution_count": 32,
   "id": "058970eb",
   "metadata": {},
   "outputs": [
    {
     "name": "stdout",
     "output_type": "stream",
     "text": [
      "Name: My Only Wish (This Year)                 Singer: Britney Spears\n",
      "Name: Christmas Conga                          Singer: Cyndi Lauper\n",
      "Name: Merry Christmas, Kiss My Ass             Singer: All Time Low\n",
      "Name: St. Patrick's Day                        Singer: John Mayer\n",
      "Name: The Christmas Song (Merry Christmas To You) Singer: Nat King Cole\n",
      "Name: Last Christmas                           Singer: Carly Rae Jepsen\n",
      "Name: Next Year                                Singer: Foo Fighters\n",
      "Name: December's Boudoir                       Singer: Laura Nyro\n",
      "Name: Last Xmas                                Singer: Allie X\n",
      "Name: Santa Claus Is Coming To Town            Singer: The Jackson 5\n"
     ]
    }
   ],
   "source": [
    "display_res(res[\"track3\"][\"bert\"][\"cos_sim\"], info)"
   ]
  },
  {
   "cell_type": "markdown",
   "id": "1a69f0cd",
   "metadata": {},
   "source": [
    "# display_res(res[\"track3\"][\"base_line\"], info)"
   ]
  }
 ],
 "metadata": {
  "kernelspec": {
   "display_name": "Python 3 (ipykernel)",
   "language": "python",
   "name": "python3"
  },
  "language_info": {
   "codemirror_mode": {
    "name": "ipython",
    "version": 3
   },
   "file_extension": ".py",
   "mimetype": "text/x-python",
   "name": "python",
   "nbconvert_exporter": "python",
   "pygments_lexer": "ipython3",
   "version": "3.9.12"
  }
 },
 "nbformat": 4,
 "nbformat_minor": 5
}
